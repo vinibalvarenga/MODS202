{
 "cells": [
  {
   "cell_type": "markdown",
   "metadata": {},
   "source": [
    "Students:\n",
    "\n",
    "Gabriel Mauricio Molina\n",
    "\n",
    "Vinícius Barros Alvarenga\n",
    "\n",
    "---"
   ]
  },
  {
   "cell_type": "code",
   "execution_count": 1,
   "metadata": {},
   "outputs": [
    {
     "data": {
      "text/html": [
       "<div>\n",
       "<style scoped>\n",
       "    .dataframe tbody tr th:only-of-type {\n",
       "        vertical-align: middle;\n",
       "    }\n",
       "\n",
       "    .dataframe tbody tr th {\n",
       "        vertical-align: top;\n",
       "    }\n",
       "\n",
       "    .dataframe thead th {\n",
       "        text-align: right;\n",
       "    }\n",
       "</style>\n",
       "<table border=\"1\" class=\"dataframe\">\n",
       "  <thead>\n",
       "    <tr style=\"text-align: right;\">\n",
       "      <th></th>\n",
       "      <th>price</th>\n",
       "      <th>crime</th>\n",
       "      <th>nox</th>\n",
       "      <th>rooms</th>\n",
       "      <th>dist</th>\n",
       "      <th>radial</th>\n",
       "      <th>proptax</th>\n",
       "      <th>stratio</th>\n",
       "      <th>lowstat</th>\n",
       "      <th>lprice</th>\n",
       "      <th>lnox</th>\n",
       "      <th>lproptax</th>\n",
       "    </tr>\n",
       "  </thead>\n",
       "  <tbody>\n",
       "    <tr>\n",
       "      <th>0</th>\n",
       "      <td>24000</td>\n",
       "      <td>0.006</td>\n",
       "      <td>5.38</td>\n",
       "      <td>6.57</td>\n",
       "      <td>4.09</td>\n",
       "      <td>1</td>\n",
       "      <td>29.6</td>\n",
       "      <td>15.3</td>\n",
       "      <td>4.98</td>\n",
       "      <td>10.085810</td>\n",
       "      <td>1.682688</td>\n",
       "      <td>5.690360</td>\n",
       "    </tr>\n",
       "    <tr>\n",
       "      <th>1</th>\n",
       "      <td>21599</td>\n",
       "      <td>0.027</td>\n",
       "      <td>4.69</td>\n",
       "      <td>6.42</td>\n",
       "      <td>4.97</td>\n",
       "      <td>2</td>\n",
       "      <td>24.2</td>\n",
       "      <td>17.8</td>\n",
       "      <td>9.14</td>\n",
       "      <td>9.980402</td>\n",
       "      <td>1.545433</td>\n",
       "      <td>5.488938</td>\n",
       "    </tr>\n",
       "    <tr>\n",
       "      <th>2</th>\n",
       "      <td>34700</td>\n",
       "      <td>0.027</td>\n",
       "      <td>4.69</td>\n",
       "      <td>7.18</td>\n",
       "      <td>4.97</td>\n",
       "      <td>2</td>\n",
       "      <td>24.2</td>\n",
       "      <td>17.8</td>\n",
       "      <td>4.03</td>\n",
       "      <td>10.454500</td>\n",
       "      <td>1.545433</td>\n",
       "      <td>5.488938</td>\n",
       "    </tr>\n",
       "    <tr>\n",
       "      <th>3</th>\n",
       "      <td>33400</td>\n",
       "      <td>0.032</td>\n",
       "      <td>4.58</td>\n",
       "      <td>7.00</td>\n",
       "      <td>6.06</td>\n",
       "      <td>3</td>\n",
       "      <td>22.2</td>\n",
       "      <td>18.7</td>\n",
       "      <td>2.94</td>\n",
       "      <td>10.416310</td>\n",
       "      <td>1.521699</td>\n",
       "      <td>5.402678</td>\n",
       "    </tr>\n",
       "    <tr>\n",
       "      <th>4</th>\n",
       "      <td>36199</td>\n",
       "      <td>0.069</td>\n",
       "      <td>4.58</td>\n",
       "      <td>7.15</td>\n",
       "      <td>6.06</td>\n",
       "      <td>3</td>\n",
       "      <td>22.2</td>\n",
       "      <td>18.7</td>\n",
       "      <td>5.33</td>\n",
       "      <td>10.496790</td>\n",
       "      <td>1.521699</td>\n",
       "      <td>5.402678</td>\n",
       "    </tr>\n",
       "  </tbody>\n",
       "</table>\n",
       "</div>"
      ],
      "text/plain": [
       "   price  crime   nox  rooms  dist  radial  proptax  stratio  lowstat  \\\n",
       "0  24000  0.006  5.38   6.57  4.09       1     29.6     15.3     4.98   \n",
       "1  21599  0.027  4.69   6.42  4.97       2     24.2     17.8     9.14   \n",
       "2  34700  0.027  4.69   7.18  4.97       2     24.2     17.8     4.03   \n",
       "3  33400  0.032  4.58   7.00  6.06       3     22.2     18.7     2.94   \n",
       "4  36199  0.069  4.58   7.15  6.06       3     22.2     18.7     5.33   \n",
       "\n",
       "      lprice      lnox  lproptax  \n",
       "0  10.085810  1.682688  5.690360  \n",
       "1   9.980402  1.545433  5.488938  \n",
       "2  10.454500  1.545433  5.488938  \n",
       "3  10.416310  1.521699  5.402678  \n",
       "4  10.496790  1.521699  5.402678  "
      ]
     },
     "execution_count": 1,
     "metadata": {},
     "output_type": "execute_result"
    }
   ],
   "source": [
    "# Imports and the initial dataset\n",
    "import numpy as np\n",
    "import pandas as pd\n",
    "import matplotlib.pyplot as plt\n",
    "\n",
    "columns_names = [\"price\", \"crime\", \"nox\", \"rooms\", \"dist\", \"radial\", \"proptax\", \"stratio\", \"lowstat\", \"lprice\", \"lnox\", \"lproptax\"]\n",
    "df=pd.read_csv(\"textfiles/hprice2.raw\",delim_whitespace=True, header=None, names=columns_names)\n",
    "\n",
    "df.head()"
   ]
  },
  {
   "cell_type": "markdown",
   "metadata": {},
   "source": [
    "# PART 1 - CROSS-SECTION DATA\n",
    "This part uses the dataset HPRICE2.RAW described in HPRICE2.DES."
   ]
  },
  {
   "cell_type": "markdown",
   "metadata": {},
   "source": [
    "#### 1. State the fundamental hypothesis under which the Ordinary Least Squares (OLS) estimators are unbiased."
   ]
  },
  {
   "cell_type": "markdown",
   "metadata": {},
   "source": [
    "Given a linear model for two variables *y* and *x*, we will write a linear model that explains *y* in terms of *x*:\n",
    "\n",
    "$$ y = \\beta _0 +\\beta_1x+u$$\n",
    "\n",
    "Where $\\beta_1$ is the cetteribus paribus effect, $\\beta_0$ is the intercept parameter and $u$ is the error term, in another words, the \"unobserved\" aspects.\n",
    "To obtain this linear model we have to obtain $\\beta_0$ and $\\beta_1$. For this, we assume the fundamental Hyposthesis under which the Ordinary Least Squares (OLS) estimatores are unbiased, which is:\n",
    "\n",
    "$$ E(u|x) = E(u) = 0$$\n",
    "\n",
    "This assumptions says that the average of *u* in the population is zero. Also, it says how *u* and *x* are correlated, i.e., for any given value of x, the average of the unobservables is the same and therefore must equal the average value of *u* in the entire population, which is zero."
   ]
  },
  {
   "cell_type": "markdown",
   "metadata": {},
   "source": [
    "#### 2. Show that under this assumption the OLS estimators are indeed unbiased."
   ]
  },
  {
   "cell_type": "markdown",
   "metadata": {},
   "source": [
    "\n",
    "In this section, we will first find the estimators $\\hat \\beta_0$ and $\\hat \\beta_1$ of the coefficients $\\beta_0$ and $\\beta_1$, respectivaly, in the linear model. Then we will prove that these estimators are unbiased.\n",
    "\n",
    "The linear model is given by:\n",
    "\n",
    "$$ y = \\beta_0 + \\beta_1x + u $$\n",
    "\n",
    "where $y$ is the dependent variable, $x$ is the independent variable, and $u$ is the error term.\n",
    "\n",
    "To estimate the coefficients, we will use the Ordinary Least Squares (OLS) method. We assume that we have a sample of population $x_i$ and $y_i$, where $i = 1, 2, ..., n$ and $n$ is the number of observations. So we can write the above equation for the samples as:\n",
    "\n",
    "The linear model equation for the samples is given by:\n",
    "\n",
    "$$ y_i = \\beta_0 + \\beta_1x_i + u_i $$\n",
    "\n",
    "\n",
    "Isolanting the error for each sample we have that:\n",
    "\n",
    "$$ u_i = y_i - \\beta_0 - \\beta_1x_i $$\n",
    "\n",
    "Now we use the fundamental hypothesis for the last exercice to derive the estimators.\n",
    "\n",
    "$$E(u_i) = E(y_i - \\beta_0 - \\beta_1x_i) = 0 \\quad\\quad\\quad\\quad\\quad$$ \n",
    "\n",
    "$$Cov(u_i,x_i) = E(x_i u_i) = E(x_i(y_i - \\beta_0 - \\beta_1x_i))= 0  \\quad\\quad\\quad $$ \n",
    "\n",
    "\n",
    "Developing these equations  by the definition of expectation follows that:\n",
    "\n",
    "$$ \n",
    "n^{-1} \\sum_{i=1}^{n}(y_i - \\hat \\beta_0 - \\hat \\beta_1x_i) = 0 \\quad\\quad\\quad\\quad\\quad (i)\n",
    "$$\n",
    "\n",
    "$$\n",
    "n^{-1}\\sum_{i=1}^{n}x_i(y_i - \\hat \\beta_0 - \\hat \\beta_1x_i) = 0 \\quad\\quad\\quad\\quad\\quad (ii)\n",
    "$$\n",
    "\n",
    "Opening the summation on $(i)$ we have that:\n",
    "\n",
    "$$ \\hat \\beta_0 = \\frac{1}{n}\\sum_{i=1}^{n}y_i - \\hat \\beta_1 \\frac{1}{n}\\sum_{i=1}^{n}x_i $$\n",
    "\n",
    "Wich can be written as:\n",
    "\n",
    "$$ \\hat \\beta_0 = \\bar y - \\hat \\beta_1 \\bar x \\quad\\quad\\quad\\quad\\quad (I)$$\n",
    "\n",
    "Now, for the second expression $(ii)$ we drop the term $n^{-1}$ and substitute the value of $\\hat \\beta_0$ from $(I)$:\n",
    "\n",
    "$$\n",
    "\\sum_{i=1}^{n}x_i(y_i - (\\bar y - \\hat \\beta_1 \\bar x )- \\hat \\beta_1x_i) = 0 \n",
    "$$\n",
    "\n",
    "Which, upon rearrangement, gives:\n",
    "\n",
    "$$\n",
    "\\sum_{i=1}^{n}x_i(y_i-\\bar y) =\\hat \\beta_1 \\sum_{i=1}^{n}x_i (x_i - \\bar x)\n",
    "$$\n",
    "\n",
    "From basic properties of the summation operator:\n",
    "\n",
    "$\\sum_{i=1}^{n}x_i(y_i-\\bar y) =\\sum_{i=1}^{n}(x_i-\\bar x)(y_i-\\bar y)$ and $ \\sum_{i=1}^{n}x_i (x_i - \\bar x) = \\sum_{i=1}^{n}(x_i-\\bar x)^2$\n",
    "\n",
    "Then, we find that $\\beta_1$ is:\n",
    "\n",
    "$$ \\hat \\beta_1 = \\frac{\\sum_{i=1}^{n}(x_i - \\bar x)(y_i - \\bar y)}{\\sum_{i=1}^{n}(x_i - \\bar x)^2} \\quad\\quad\\quad\\quad\\quad (II)$$\n",
    "\n",
    "can be written as:\n",
    "\n",
    "Finally, the OLS estimators are given by:\n",
    "\n",
    "$$ \\hat \\beta_1 = \\frac{\\sum_{i=1}^{n}(x_i - \\bar x)(y_i - \\bar y)}{\\sum_{i=1}^{n}(x_i - \\bar x)^2} $$\n",
    "\n",
    "$$ \\hat \\beta_0 = \\bar y - \\hat \\beta_1 \\bar x $$\n",
    "\n",
    "where $n$ is the number of observations, $x_i$ and $y_i$ are the values of the independent and dependent variables, respectively, and $\\bar x$ and $\\bar y$ are the sample means of the independent and dependent variables, respectively.\n",
    "\n",
    "---\n",
    "\n",
    "Now, we can prove that those estimators are unbiased, for this we have to prove that $E(\\hat \\beta_1)=\\beta_1$ and $E(\\hat \\beta_0)=\\beta_0$.\n",
    "\n",
    "We can rewrite the expression of $\\hat \\beta_1$ at $(II)$ using the fact that $\\sum_{i=1}^{n}(x_i-\\bar x)(y_i-\\bar y)=\\sum_{i=1}^{n}y_i(x_i-\\bar x)$:\n",
    "\n",
    "$$ \n",
    " \\hat \\beta_1 = \\frac{\\sum_{i=1}^{n}y_i(x_i-\\bar x)}{\\sum_{i=1}^{n}(x_i - \\bar x)^2} \n",
    "$$\n",
    "\n",
    "Using $s_x^2=\\sum_{i=1}^{n}(x_i - \\bar x)^2$ to simplify the notation and $ y_i = \\beta_0 + \\beta_1x_i + u_i $:\n",
    "\n",
    "$$ \n",
    " \\hat \\beta_1 = \\frac{\\sum_{i=1}^{n}(x_i-\\bar x)(\\beta_0 + \\beta_1x_i + u_i)}{s_x^2} \n",
    "$$\n",
    "\n",
    "First, we open the numerator with the goal to simply it:\n",
    "\n",
    "$$\n",
    "\\sum_{i=1}^{n}(x_i-\\bar x)(\\beta_0 + \\beta_1x_i + u_i) = \\sum_{i=1}^{n}(x_i-\\bar x)\\beta_0 + \\sum_{i=1}^{n}(x_i-\\bar x)\\beta_1 x_i + \\sum_{i=1}^{n}(x_i-\\bar x) u_i =  \\beta_0 \\sum_{i=1}^{n}(x_i-\\bar x)+ \\beta_1\\sum_{i=1}^{n}(x_i-\\bar x)x_i +  \\sum_{i=1}^{n}(x_i-\\bar x)u_i\n",
    "$$\n",
    "\n",
    "But, we have that:\n",
    "\n",
    "$\\sum_{i=1}^{n}(x_i-\\bar x)=0$ and $\\sum_{i=1}^{n}(x_i-\\bar x)x_i = \\sum_{i=1}^{n}(x_i-\\bar x)^2=s_x^2$ so the numerator is: $\\beta_1 s_x^2 + \\sum_{i=1}^{n}(x_i-\\bar x)u_i$\n",
    "\n",
    "Which gives us the $\\beta_1$:\n",
    "\n",
    "$$\n",
    "\\hat \\beta_1 =  \\beta_1 + \\frac{\\sum_{i=1}^{n}(x_i-\\bar x)u_i}{s_x^2}\n",
    "$$\n",
    "\n",
    "\n",
    "Now we can compute the expectated value of it:\n",
    "\n",
    "$$ \n",
    "E(\\hat \\beta_1) = E(\\beta_1) + E(\\frac{\\sum_{i=1}^{n}(x_i-\\bar x)u_i}{s_x^2}) = \\beta_1 +(\\frac{1}{s_x^2})\\sum_{i=1}^{n}E((x_i-\\bar x)u_i) = \\beta_1 +(\\frac{1}{s_x^2})\\sum_{i=1}^{n}E((x_i-\\bar x))E(u_i) \n",
    "$$\n",
    "\n",
    "But, as for our assumption $E(u_i)=0$, so $E(\\hat \\beta_1) = \\beta_1$ and we conclude that $\\hat \\beta_1$ is unbiased.\n",
    "\n",
    "For $\\hat \\beta_0$:\n",
    "\n",
    "$$\n",
    "E(\\hat \\beta_0) = E(\\bar y - \\hat \\beta_1 \\bar x) = E((\\beta_0 + \\beta_1 \\bar x + \\bar u) - \\hat \\beta_1 \\bar x) = E(\\beta_0 + (\\beta_1  - \\hat \\beta_1)\\bar x + \\bar u) = \\beta_0 + E((\\beta_1  - \\hat \\beta_1)\\bar x )\n",
    "$$\n",
    "\n",
    "As $E(\\bar u)= 0$ and $E(\\hat \\beta_1) = \\beta_1 $ we have that $E((\\beta_1  - \\hat \\beta_1)\\bar x ) = 0$ and $E(\\hat \\beta_0) = \\beta_0$ and thus, $\\hat \\beta_0$ is unbiased"
   ]
  },
  {
   "cell_type": "markdown",
   "metadata": {},
   "source": [
    "#### 3. Explain the sample selection bias with an example from the course."
   ]
  },
  {
   "cell_type": "markdown",
   "metadata": {},
   "source": [
    "Sample selection bias is the bias in the OLS (Ordinary Least Squares) estimator induced by using data that arise from endogenous sample selection.\n",
    "\n",
    "In the course, we saw the example involving the amount of fertilizer and the quality of land. In this case, the amount of fertilizer is represented by the independent variable *x*, and the quality of land is the dependent variable *y*.\n",
    "\n",
    "Our goal is to predict *y* with our model, and to construct it, we need to establish samples to observe the results. For instance, we have $x_i$ and construct experiments to obtain $y_i$. In our example, this involves selecting specific one-acre plots of land and applying various amounts of fertilizer, then measuring the resulting yield.\n",
    "\n",
    "The issue arises in the construction of these experiments. The individual designing the experiment might not make it entirely random. For example, if the person applying the fertilizer is an expert in the field, they might have knowledge of factors influencing the experiment, such as sunlight exposure or a plot of land's susceptibility to pests, and may not apply the fertilizer randomly, but rather considering certain factors known to them.\n",
    "\n",
    "This situation is what we refer to as sample selection bias because the experiment isn't entirely randomized; it's influenced by certain factors known to the person conducting the experiment."
   ]
  },
  {
   "cell_type": "markdown",
   "metadata": {},
   "source": [
    "#### 4. Explain the omitted variable bias with an example from the course\n"
   ]
  },
  {
   "cell_type": "markdown",
   "metadata": {},
   "source": [
    "The ommited variable bias occours when we ommit a variable that actually belongs in the true, population, model. \n",
    "\n",
    "In the course we saw the example in which we were trying to explaing how the wage of a person can be explained by how many years of education the person has and the innate ability of that person, so our model should be like:\n",
    "\n",
    "$$ \n",
    "wage = \\beta_0 + \\beta_1 educ + \\beta_2 abil + u.\n",
    "$$\n",
    "\n",
    "This model obtains $\\beta_0$, $\\beta_1$ and $\\beta_2$ which are unbiased, i.e, we runned a regression in *educ* and *abil* and got these unbiased coeficients.\n",
    "\n",
    "Although, imagine that for ignorance or data inavability we exclude $\\beta_2$, running a regression with only *educ*, that gives us the following model:\n",
    "\n",
    "$$\n",
    "wage = \\tilde{\\beta}_0 + \\tilde{\\beta}_1 educ + v\n",
    "$$\n",
    "\n",
    "In this new model we have that $v = \\beta_2 abil + u$, and that $\\tilde{\\beta}_1 \\neq \\beta_1$. In fact, when we don't include the other variable in our regression we obtain, in general, an biased estimator $\\tilde{\\beta}_1$.\n",
    "\n",
    "It can be shown that $ E(\\tilde{\\beta}_1) = \\beta_1 + \\tilde{\\beta}_2 \\tilde{\\delta}_1$, where $\\tilde{\\delta}_1$ is the sample covariance between *educ* and *abil*. So $\\tilde{\\beta}_1$ is unbiased only if $\\tilde{\\delta}_1=0$, which means that *educ* and *abil* are uncorrelated.\n",
    "\n",
    "In our example, in general, we believe that *educ* and *abil* are positive correlated and as more hability leads to higher productivity we have that $\\beta_2 > 0$, so we conclude that the OLS estimators for the equation $wage = \\tilde{\\beta}_0 + \\tilde{\\beta}_0 educ + v$ are on average too large."
   ]
  },
  {
   "cell_type": "markdown",
   "metadata": {},
   "source": [
    "#### 5. Explain the problem of multicollinearity. Is it a problem in this dataset?\n"
   ]
  },
  {
   "cell_type": "markdown",
   "metadata": {},
   "source": [
    "Multicolinearity occurs when we have a strong, but not perfect, correlation between two or more independent variables. For instance imagine that the variable $x_j$ has a strong, but not perfect, correlation with the others, this leads to a high variance of the estimator $\\hat \\beta_j$.\n",
    "\n",
    "Also, if we have multicolliearity the matrix *X*, the matrix which the columns are the sample values for the independent variables, will be such that $det(x x^{-1})$ is equal or close to zero."
   ]
  },
  {
   "cell_type": "code",
   "execution_count": 2,
   "metadata": {},
   "outputs": [
    {
     "name": "stdout",
     "output_type": "stream",
     "text": [
      "   variables           VIF\n",
      "0      const  22963.509071\n",
      "1      price     17.989881\n",
      "2      crime      2.221824\n",
      "3        nox    136.592898\n",
      "4      rooms      2.248824\n",
      "5       dist      4.478491\n",
      "6     radial     10.020141\n",
      "7    proptax    110.193658\n",
      "8    stratio      2.008918\n",
      "9    lowstat      3.657776\n",
      "10    lprice     21.675314\n",
      "11      lnox    160.832254\n",
      "12  lproptax     73.242538\n",
      "\n",
      "\n",
      "VIFs are too high! Some variables are highly correlated with each other.\n"
     ]
    }
   ],
   "source": [
    "from statsmodels.stats.outliers_influence import variance_inflation_factor\n",
    "from statsmodels.tools.tools import add_constant\n",
    "\n",
    "# Add an constant term to the data for the VIFs to have a intercept term\n",
    "df_const = add_constant(df)\n",
    "\n",
    "# Compute VIF for each variable\n",
    "vif = pd.DataFrame()\n",
    "vif[\"variables\"] = df_const.columns\n",
    "vif[\"VIF\"] = [variance_inflation_factor(df_const.values, i) for i in range(df_const.shape[1])]\n",
    "\n",
    "print(vif)\n",
    "print(\"\\n\")\n",
    "\n",
    "if any(vif[\"VIF\"] > 5):\n",
    "    print(\"VIFs are too high! Some variables are highly correlated with each other.\")\n",
    "else:\n",
    "    print(\"VIFs are fine., no variables are highly correlated with each other.\")\n",
    "\n"
   ]
  },
  {
   "cell_type": "markdown",
   "metadata": {},
   "source": [
    "#### 6. Create three categories of nox levels (low, medium, high), corresponding to the following percentiles: 0-39%, 40%-60%, 61%-100% "
   ]
  },
  {
   "cell_type": "markdown",
   "metadata": {},
   "source": [
    "Firstly, we define the percentiles $ [0, 40, 61, 100] $, these will be used to divide the 'nox' column into categories (low, medium, high).\n",
    "\n",
    "Secondly, with the numpy.percentile function, we calculate the specified percentiles for the 'nox' column in the DataFrame df that we have defined. It computes the values at the given percentiles and stores them in the nox_percentiles array.\n",
    "\n",
    "Thirdly, creating a new column in the DataFrame called 'nox_category'. It uses numpy.where to assign categories ('low', 'medium', 'high') based on the conditions of the excersise. It checks if 'nox' is within certain ranges defined by the percentiles and assigns the corresponding category.\n"
   ]
  },
  {
   "cell_type": "code",
   "execution_count": 3,
   "metadata": {},
   "outputs": [
    {
     "name": "stdout",
     "output_type": "stream",
     "text": [
      "    nox nox_category\n",
      "0  5.38       medium\n",
      "1  4.69          low\n",
      "2  4.69          low\n",
      "3  4.58          low\n",
      "4  4.58          low\n"
     ]
    }
   ],
   "source": [
    "# 1. Define the percentiles\n",
    "percentiles = [0, 40, 61, 100]\n",
    "\n",
    "# 2. Use numpy.percentile to calculate the specified percentiles for the 'nox' column\n",
    "nox_percentiles = np.percentile(df['nox'], percentiles)\n",
    "\n",
    "# 3. Create categories using numpy.where\n",
    "df['nox_category'] = np.where((df['nox'] >= nox_percentiles[0]) & (df['nox'] <= nox_percentiles[1]), 'low',\n",
    "                              np.where((df['nox'] > nox_percentiles[1]) & (df['nox'] <= nox_percentiles[2]), 'medium', 'high'))\n",
    "\n",
    "# 4. Display the updated dataframe\n",
    "print(df[['nox', 'nox_category']].head())"
   ]
  },
  {
   "cell_type": "markdown",
   "metadata": {},
   "source": [
    "#### 7. Compute for each category of nox level the average median price and comment on your results"
   ]
  },
  {
   "cell_type": "markdown",
   "metadata": {},
   "source": [
    "Firstly, we calculate the average price for each category of 'nox' concentration, for that we use \"groupby\" method in Pandas to group the DataFrame df by the values in the 'nox_category' column. We select the 'price' column and calculate the mean for each group. The result is a Pandas Series where each category of 'nox' has an associated average price.\n",
    "\n",
    "Finally, we print the calculated average prices for each 'nox_category' to observe the relationship between nox levels and the average median housing price.\n"
   ]
  },
  {
   "cell_type": "code",
   "execution_count": 4,
   "metadata": {},
   "outputs": [
    {
     "name": "stdout",
     "output_type": "stream",
     "text": [
      "nox_category\n",
      "high      18443.744792\n",
      "low       27170.609524\n",
      "medium    20613.432692\n",
      "Name: price, dtype: float64\n"
     ]
    }
   ],
   "source": [
    "# Calculate the average price for each 'nox_category'\n",
    "average_price_by_nox_category = df.groupby('nox_category')['price'].mean()\n",
    "\n",
    "# Display the results\n",
    "print(average_price_by_nox_category)\n"
   ]
  },
  {
   "cell_type": "markdown",
   "metadata": {},
   "source": [
    "#### 8. Produce a scatter plot with the variable price on the y-axis and the variable nox on the x-axis. Is this a ceteris paribus effect?"
   ]
  },
  {
   "cell_type": "markdown",
   "metadata": {},
   "source": []
  },
  {
   "cell_type": "code",
   "execution_count": 5,
   "metadata": {},
   "outputs": [
    {
     "data": {
      "image/png": "[encoded data removed]",
      "text/plain": [
       "<Figure size 640x480 with 1 Axes>"
      ]
     },
     "metadata": {},
     "output_type": "display_data"
    }
   ],
   "source": [
    "# Importing necessary libraries\n",
    "import matplotlib.pyplot as plt\n",
    "\n",
    "# Scatter plot\n",
    "plt.scatter(df['nox'], df['price'], alpha=0.5)\n",
    "plt.title('Scatter Plot of Price vs. NOx')\n",
    "plt.xlabel('NOx (Nitrous Oxide Levels)')\n",
    "plt.ylabel('Price')\n",
    "plt.show()\n"
   ]
  },
  {
   "cell_type": "markdown",
   "metadata": {},
   "source": [
    "#### 9. Run a regression of price on a constant, crime, nox, rooms, proptax. Comment on the histogram of the residuals. Interpret all coefficients."
   ]
  },
  {
   "cell_type": "code",
   "execution_count": 6,
   "metadata": {},
   "outputs": [
    {
     "name": "stdout",
     "output_type": "stream",
     "text": [
      "                            OLS Regression Results                            \n",
      "==============================================================================\n",
      "Dep. Variable:                  price   R-squared:                       0.575\n",
      "Model:                            OLS   Adj. R-squared:                  0.572\n",
      "Method:                 Least Squares   F-statistic:                     169.6\n",
      "Date:                Sat, 09 Dec 2023   Prob (F-statistic):           1.06e-91\n",
      "Time:                        05:00:36   Log-Likelihood:                -5119.6\n",
      "No. Observations:                 506   AIC:                         1.025e+04\n",
      "Df Residuals:                     501   BIC:                         1.027e+04\n",
      "Df Model:                           4                                         \n",
      "Covariance Type:            nonrobust                                         \n",
      "==============================================================================\n",
      "                 coef    std err          t      P>|t|      [0.025      0.975]\n",
      "------------------------------------------------------------------------------\n",
      "const      -1.868e+04   3215.205     -5.811      0.000    -2.5e+04   -1.24e+04\n",
      "crime       -136.5438     38.529     -3.544      0.000    -212.241     -60.846\n",
      "nox         -660.4672    314.634     -2.099      0.036   -1278.632     -42.303\n",
      "rooms       7797.9286    404.345     19.285      0.000    7003.507    8592.350\n",
      "proptax      -89.4144     23.966     -3.731      0.000    -136.500     -42.329\n",
      "==============================================================================\n",
      "Omnibus:                      264.796   Durbin-Watson:                   0.752\n",
      "Prob(Omnibus):                  0.000   Jarque-Bera (JB):             2348.397\n",
      "Skew:                           2.111   Prob(JB):                         0.00\n",
      "Kurtosis:                      12.673   Cond. No.                         546.\n",
      "==============================================================================\n",
      "\n",
      "Notes:\n",
      "[1] Standard Errors assume that the covariance matrix of the errors is correctly specified.\n"
     ]
    },
    {
     "data": {
      "image/png": "[encoded data removed]",
      "text/plain": [
       "<Figure size 640x480 with 1 Axes>"
      ]
     },
     "metadata": {},
     "output_type": "display_data"
    }
   ],
   "source": [
    "import statsmodels.api as sm\n",
    "\n",
    "# Define the dependent and independent variables\n",
    "X = df[['crime', 'nox', 'rooms', 'proptax']]\n",
    "y = df['price']\n",
    "\n",
    "# Add a constant to the independent value\n",
    "X = sm.add_constant(X)\n",
    "\n",
    "# Adjust the regression model\n",
    "model = sm.OLS(y, X)\n",
    "results = model.fit()\n",
    "\n",
    "\n",
    "print(results.summary())\n",
    "\n",
    "# Compute the residuals\n",
    "residuals = results.resid\n",
    "\n",
    "plt.hist(residuals, bins=20, edgecolor='black')\n",
    "plt.title('Histogram of the Residuals')\n",
    "plt.xlabel('Residuals')\n",
    "plt.ylabel('Frequency')\n",
    "plt.show()"
   ]
  },
  {
   "cell_type": "markdown",
   "metadata": {},
   "source": [
    "The histogram shows that the average of the residuals is zero, which aligns with our fundamental hypothesis. We can glimpse this as the value of 0 has the highest frequency.\n",
    "\n",
    "Regarding the coefficients, we can interpret them as follows: Holding everything else constant, a one-unit increase in the crime variable results in a price decrease of 136.5438. Similarly, a one-unit increase in the nox variable leads to a price decrease of 660.4672. Likewise, a unit increase in the number of rooms translates to a price increase of 7797.9286. Finally, for the property tax, we observe a price decrease of 89.4144 units"
   ]
  },
  {
   "cell_type": "markdown",
   "metadata": {},
   "source": [
    "#### 10. Run a regression of lprice on a constant, crime, nox, rooms, proptax. Comment on the histogram of the residuals. Interpret all coefficients."
   ]
  },
  {
   "cell_type": "code",
   "execution_count": 7,
   "metadata": {},
   "outputs": [
    {
     "name": "stdout",
     "output_type": "stream",
     "text": [
      "                            OLS Regression Results                            \n",
      "==============================================================================\n",
      "Dep. Variable:                 lprice   R-squared:                       0.611\n",
      "Model:                            OLS   Adj. R-squared:                  0.608\n",
      "Method:                 Least Squares   F-statistic:                     196.9\n",
      "Date:                Sat, 09 Dec 2023   Prob (F-statistic):          2.50e-101\n",
      "Time:                        05:00:37   Log-Likelihood:                -26.367\n",
      "No. Observations:                 506   AIC:                             62.73\n",
      "Df Residuals:                     501   BIC:                             83.87\n",
      "Df Model:                           4                                         \n",
      "Covariance Type:            nonrobust                                         \n",
      "==============================================================================\n",
      "                 coef    std err          t      P>|t|      [0.025      0.975]\n",
      "------------------------------------------------------------------------------\n",
      "const          8.6550      0.137     63.320      0.000       8.386       8.924\n",
      "crime         -0.0125      0.002     -7.641      0.000      -0.016      -0.009\n",
      "nox           -0.0476      0.013     -3.557      0.000      -0.074      -0.021\n",
      "rooms          0.2816      0.017     16.379      0.000       0.248       0.315\n",
      "proptax       -0.0043      0.001     -4.184      0.000      -0.006      -0.002\n",
      "==============================================================================\n",
      "Omnibus:                      118.409   Durbin-Watson:                   0.764\n",
      "Prob(Omnibus):                  0.000   Jarque-Bera (JB):              730.140\n",
      "Skew:                           0.859   Prob(JB):                    2.83e-159\n",
      "Kurtosis:                       8.629   Cond. No.                         546.\n",
      "==============================================================================\n",
      "\n",
      "Notes:\n",
      "[1] Standard Errors assume that the covariance matrix of the errors is correctly specified.\n"
     ]
    },
    {
     "data": {
      "image/png": "[encoded data removed]",
      "text/plain": [
       "<Figure size 640x480 with 1 Axes>"
      ]
     },
     "metadata": {},
     "output_type": "display_data"
    }
   ],
   "source": [
    "import statsmodels.api as sm\n",
    "\n",
    "# Define the dependent and independent variables\n",
    "X = df[['crime', 'nox', 'rooms', 'proptax']]\n",
    "y = df['lprice']\n",
    "\n",
    "# Add a constant to the independent variables matrix\n",
    "X = sm.add_constant(X)\n",
    "\n",
    "# Fit the regression model\n",
    "model = sm.OLS(y, X)\n",
    "results = model.fit()\n",
    "\n",
    "# Print the summary statistics of the model\n",
    "print(results.summary())\n",
    "\n",
    "# Calculate the residuals\n",
    "residuals = results.resid\n",
    "\n",
    "# Plot the histogram of the residuals\n",
    "plt.hist(residuals, bins=20, edgecolor='black')\n",
    "plt.title('Histogram of Residuals')\n",
    "plt.xlabel('Residuals')\n",
    "plt.ylabel('Frequency')\n",
    "plt.show()"
   ]
  },
  {
   "cell_type": "markdown",
   "metadata": {},
   "source": [
    "The histogram shows that the average of the residuals is zero, which is what our fundamental hiphotesys says. We can have a glipsy of it as we see that the value of 0 is the one that has more frequency.\n",
    "\n",
    "Regarding the coefficients, we can interpret them as follows: Holding everything else constant, a one-unit increase in the crime variable results in a log price decrease of 0.0125. Similarly, a one-unit increase in the nox variable leads to a log price decrease of 0.0476. Likewise, a unit increase in the number of rooms translates to a log price increase of 0.2816 . Finally, for the property tax, we observe a log price decrease of 0.0043 units"
   ]
  },
  {
   "cell_type": "code",
   "execution_count": 8,
   "metadata": {},
   "outputs": [
    {
     "name": "stdout",
     "output_type": "stream",
     "text": [
      "                            OLS Regression Results                            \n",
      "==============================================================================\n",
      "Dep. Variable:                 lprice   R-squared:                       0.611\n",
      "Model:                            OLS   Adj. R-squared:                  0.608\n",
      "Method:                 Least Squares   F-statistic:                     196.9\n",
      "Date:                Sat, 09 Dec 2023   Prob (F-statistic):          2.50e-101\n",
      "Time:                        05:00:37   Log-Likelihood:                -26.367\n",
      "No. Observations:                 506   AIC:                             62.73\n",
      "Df Residuals:                     501   BIC:                             83.87\n",
      "Df Model:                           4                                         \n",
      "Covariance Type:            nonrobust                                         \n",
      "==============================================================================\n",
      "                 coef    std err          t      P>|t|      [0.025      0.975]\n",
      "------------------------------------------------------------------------------\n",
      "const          8.6550      0.137     63.320      0.000       8.386       8.924\n",
      "crime         -0.0125      0.002     -7.641      0.000      -0.016      -0.009\n",
      "nox           -0.0476      0.013     -3.557      0.000      -0.074      -0.021\n",
      "rooms          0.2816      0.017     16.379      0.000       0.248       0.315\n",
      "proptax       -0.0043      0.001     -4.184      0.000      -0.006      -0.002\n",
      "==============================================================================\n",
      "Omnibus:                      118.409   Durbin-Watson:                   0.764\n",
      "Prob(Omnibus):                  0.000   Jarque-Bera (JB):              730.140\n",
      "Skew:                           0.859   Prob(JB):                    2.83e-159\n",
      "Kurtosis:                       8.629   Cond. No.                         546.\n",
      "==============================================================================\n",
      "\n",
      "Notes:\n",
      "[1] Standard Errors assume that the covariance matrix of the errors is correctly specified.\n"
     ]
    },
    {
     "data": {
      "image/png": "[encoded data removed]",
      "text/plain": [
       "<Figure size 640x480 with 1 Axes>"
      ]
     },
     "metadata": {},
     "output_type": "display_data"
    }
   ],
   "source": [
    "# Import necessary libraries\n",
    "import statsmodels.api as sm\n",
    "import matplotlib.pyplot as plt\n",
    "\n",
    "# Prepare the data for the regression\n",
    "X = df[['crime', 'nox', 'rooms', 'proptax']]\n",
    "X = sm.add_constant(X)  # Add a constant term to the independent variables\n",
    "y = df['lprice']\n",
    "\n",
    "# Fit the regression model\n",
    "model = sm.OLS(y, X).fit()\n",
    "\n",
    "# Print the regression summary\n",
    "print(model.summary())\n",
    "\n",
    "# Plot the histogram of residuals\n",
    "residuals = model.resid\n",
    "plt.hist(residuals, bins=20, edgecolor='black')\n",
    "plt.title('Histogram of Residuals')\n",
    "plt.xlabel('Residuals')\n",
    "plt.ylabel('Frequency')\n",
    "plt.show()\n"
   ]
  },
  {
   "cell_type": "markdown",
   "metadata": {},
   "source": [
    "#### 11. Run a regression of lprice on a constant, crime, lnox, rooms, lproptax. Comment on the histogram of the residuals. Interpret all coefficients."
   ]
  },
  {
   "cell_type": "code",
   "execution_count": 9,
   "metadata": {},
   "outputs": [
    {
     "name": "stdout",
     "output_type": "stream",
     "text": [
      "                            OLS Regression Results                            \n",
      "==============================================================================\n",
      "Dep. Variable:                 lprice   R-squared:                       0.612\n",
      "Model:                            OLS   Adj. R-squared:                  0.609\n",
      "Method:                 Least Squares   F-statistic:                     197.4\n",
      "Date:                Sat, 09 Dec 2023   Prob (F-statistic):          1.77e-101\n",
      "Time:                        05:00:37   Log-Likelihood:                -26.021\n",
      "No. Observations:                 506   AIC:                             62.04\n",
      "Df Residuals:                     501   BIC:                             83.18\n",
      "Df Model:                           4                                         \n",
      "Covariance Type:            nonrobust                                         \n",
      "==============================================================================\n",
      "                 coef    std err          t      P>|t|      [0.025      0.975]\n",
      "------------------------------------------------------------------------------\n",
      "const          9.7505      0.253     38.476      0.000       9.253      10.248\n",
      "crime         -0.0128      0.002     -8.002      0.000      -0.016      -0.010\n",
      "lnox          -0.2769      0.077     -3.591      0.000      -0.428      -0.125\n",
      "rooms          0.2802      0.017     16.282      0.000       0.246       0.314\n",
      "lproptax      -0.1779      0.042     -4.215      0.000      -0.261      -0.095\n",
      "==============================================================================\n",
      "Omnibus:                      116.110   Durbin-Watson:                   0.768\n",
      "Prob(Omnibus):                  0.000   Jarque-Bera (JB):              716.737\n",
      "Skew:                           0.838   Prob(JB):                    2.30e-156\n",
      "Kurtosis:                       8.585   Cond. No.                         241.\n",
      "==============================================================================\n",
      "\n",
      "Notes:\n",
      "[1] Standard Errors assume that the covariance matrix of the errors is correctly specified.\n"
     ]
    },
    {
     "data": {
      "image/png": "[encoded data removed]",
      "text/plain": [
       "<Figure size 640x480 with 1 Axes>"
      ]
     },
     "metadata": {},
     "output_type": "display_data"
    }
   ],
   "source": [
    "import statsmodels.api as sm\n",
    "\n",
    "# Define the dependent and independent variables\n",
    "X = df[['crime', 'lnox', 'rooms', 'lproptax']]\n",
    "y = df['lprice']\n",
    "\n",
    "# Add a constant to the independent variables matrix\n",
    "X = sm.add_constant(X)\n",
    "\n",
    "# Fit the regression model\n",
    "model = sm.OLS(y, X)\n",
    "results = model.fit()\n",
    "\n",
    "# Print the summary statistics of the model\n",
    "print(results.summary())\n",
    "\n",
    "# Calculate the residuals\n",
    "residuals = results.resid\n",
    "\n",
    "# Plot the histogram of the residuals\n",
    "plt.hist(residuals, bins=20, edgecolor='black')\n",
    "plt.title('Histogram of Residuals')\n",
    "plt.xlabel('Residuals')\n",
    "plt.ylabel('Frequency')\n",
    "plt.show()"
   ]
  },
  {
   "cell_type": "markdown",
   "metadata": {},
   "source": [
    "The histogram shows that the average of the residuals is zero, which is what our fundamental hiphotesys says. We can have a glipsy of it as we see that the value of 0 is the one that has more frequency.\n",
    "\n",
    "Regarding the coefficients, we can interpret them as follows: Holding everything else constant, a one-unit increase in the crime variable results in a log price decrease of 0.0128. Similarly, a one-unit increase in the log nox variable leads to a log price decrease of0.2769. Likewise, a unit increase in the number of rooms translates to a log price increase of 0.2802 . Finally, for the log property tax, we observe a log price decrease of 0.1779 units"
   ]
  },
  {
   "cell_type": "code",
   "execution_count": 10,
   "metadata": {},
   "outputs": [
    {
     "name": "stdout",
     "output_type": "stream",
     "text": [
      "                            OLS Regression Results                            \n",
      "==============================================================================\n",
      "Dep. Variable:                 lprice   R-squared:                       0.612\n",
      "Model:                            OLS   Adj. R-squared:                  0.609\n",
      "Method:                 Least Squares   F-statistic:                     197.4\n",
      "Date:                Sat, 09 Dec 2023   Prob (F-statistic):          1.77e-101\n",
      "Time:                        05:00:37   Log-Likelihood:                -26.021\n",
      "No. Observations:                 506   AIC:                             62.04\n",
      "Df Residuals:                     501   BIC:                             83.18\n",
      "Df Model:                           4                                         \n",
      "Covariance Type:            nonrobust                                         \n",
      "==============================================================================\n",
      "                 coef    std err          t      P>|t|      [0.025      0.975]\n",
      "------------------------------------------------------------------------------\n",
      "const          9.7505      0.253     38.476      0.000       9.253      10.248\n",
      "crime         -0.0128      0.002     -8.002      0.000      -0.016      -0.010\n",
      "lnox          -0.2769      0.077     -3.591      0.000      -0.428      -0.125\n",
      "rooms          0.2802      0.017     16.282      0.000       0.246       0.314\n",
      "lproptax      -0.1779      0.042     -4.215      0.000      -0.261      -0.095\n",
      "==============================================================================\n",
      "Omnibus:                      116.110   Durbin-Watson:                   0.768\n",
      "Prob(Omnibus):                  0.000   Jarque-Bera (JB):              716.737\n",
      "Skew:                           0.838   Prob(JB):                    2.30e-156\n",
      "Kurtosis:                       8.585   Cond. No.                         241.\n",
      "==============================================================================\n",
      "\n",
      "Notes:\n",
      "[1] Standard Errors assume that the covariance matrix of the errors is correctly specified.\n"
     ]
    },
    {
     "data": {
      "image/png": "[encoded data removed]",
      "text/plain": [
       "<Figure size 640x480 with 1 Axes>"
      ]
     },
     "metadata": {},
     "output_type": "display_data"
    }
   ],
   "source": [
    "# Import necessary libraries\n",
    "import statsmodels.api as sm\n",
    "import matplotlib.pyplot as plt\n",
    "\n",
    "# Prepare the data for the regression\n",
    "X = df[['crime', 'lnox', 'rooms', 'lproptax']]\n",
    "X = sm.add_constant(X)  # Add a constant term to the independent variables\n",
    "y = df['lprice']\n",
    "\n",
    "# Fit the regression model\n",
    "model = sm.OLS(y, X).fit()\n",
    "\n",
    "# Print the regression summary\n",
    "print(model.summary())\n",
    "\n",
    "# Plot the histogram of residuals\n",
    "residuals = model.resid\n",
    "plt.hist(residuals, bins=20, edgecolor='black')\n",
    "plt.title('Histogram of Residuals')\n",
    "plt.xlabel('Residuals')\n",
    "plt.ylabel('Frequency')\n",
    "plt.show()\n"
   ]
  },
  {
   "cell_type": "markdown",
   "metadata": {},
   "source": [
    "#### 12. In the specification of question 10, test the hypothesis $ H_0: \\beta_{nox} >0 $ vs. $H_1: \\beta_{nox} < 0$ at the 10% level"
   ]
  },
  {
   "cell_type": "code",
   "execution_count": 11,
   "metadata": {},
   "outputs": [
    {
     "name": "stdout",
     "output_type": "stream",
     "text": [
      "Reject the null hypothesis. p-value: 0.0002\n"
     ]
    }
   ],
   "source": [
    "import statsmodels.api as sm\n",
    "from scipy.stats import t\n",
    "\n",
    "# Run the regression model\n",
    "X = df[['crime', 'nox', 'rooms', 'proptax']]\n",
    "X = sm.add_constant(X)\n",
    "y = df['lprice']\n",
    "\n",
    "model = sm.OLS(y, X).fit()\n",
    "beta_nox = model.params['nox']\n",
    "se_nox = model.bse['nox']\n",
    "\n",
    "# t-statistic\n",
    "t_value = beta_nox / se_nox\n",
    "deg_freedom = model.df_resid\n",
    "\n",
    "# One-sided p-value\n",
    "p_value_one_tailed = t.sf(abs(t_value), deg_freedom)\n",
    "alpha = 0.10  # Adjusted alpha level for a one-sided test\n",
    "\n",
    "# Compare the p-value with the significance level\n",
    "if p_value_one_tailed < alpha:\n",
    "    print(f'Reject the null hypothesis. p-value: {p_value_one_tailed:.4f}')\n",
    "else:\n",
    "    print(f'Fail to reject the null hypothesis. p-value: {p_value_one_tailed:.4f}')\n"
   ]
  },
  {
   "cell_type": "markdown",
   "metadata": {},
   "source": [
    " #### 13. In the specification of question 10, test the hypothesis $H_0: \\beta_{nox} = 0$ vs. $H_1: \\beta_{nox} ≠ 0$ at the 10% level using the p-value of the test"
   ]
  },
  {
   "cell_type": "code",
   "execution_count": 12,
   "metadata": {},
   "outputs": [
    {
     "name": "stdout",
     "output_type": "stream",
     "text": [
      "F-statistic: 6.326227689024646\n",
      "P-value: 0.0019349668301483541\n"
     ]
    }
   ],
   "source": [
    "import statsmodels.api as sm\n",
    "from scipy.stats import f\n",
    "\n",
    "# Define the dependent and independent variables\n",
    "X = df[['crime', 'nox', 'rooms', 'proptax']]\n",
    "y = df['lprice']\n",
    "\n",
    "# Add a constant to the independent variables matrix\n",
    "X = sm.add_constant(X)\n",
    "\n",
    "# Fit the regression model\n",
    "model = sm.OLS(y, X)\n",
    "results = model.fit()\n",
    "\n",
    "# Calculate the sum of squared errors for the unconstrained model\n",
    "u = results.resid\n",
    "SSR0 = u.T @ u\n",
    "\n",
    "# Create the constrained model by removing 'nox' from the independent variables\n",
    "X_constrained = X[['const', 'crime', 'rooms', 'proptax']]\n",
    "\n",
    "# Fit the constrained regression model\n",
    "model_constrained = sm.OLS(y, X_constrained)\n",
    "results_constrained = model_constrained.fit()\n",
    "\n",
    "# Calculate the sum of squared errors for the constrained model\n",
    "u_constrained = results_constrained.resid\n",
    "SSR1 = u_constrained.T @ u_constrained\n",
    "\n",
    "# Calculate the F-statistic and p-value\n",
    "n, k = np.shape(X)\n",
    "F = ((SSR1 - SSR0) / 2) / (SSR0 / (n - k))\n",
    "p_value = f.sf(F, 2, n - k)\n",
    "\n",
    "# Display the results\n",
    "print(\"F-statistic:\", F)\n",
    "print(\"P-value:\", p_value)\n"
   ]
  },
  {
   "cell_type": "markdown",
   "metadata": {},
   "source": [
    "#### 14. In the specification of question 10, test the hypothesis $ H_0: \\beta_{crime} = \\beta_{proptax} $ at the 1% level"
   ]
  },
  {
   "cell_type": "code",
   "execution_count": 13,
   "metadata": {},
   "outputs": [
    {
     "name": "stdout",
     "output_type": "stream",
     "text": [
      "Test Statistic: 13.1303\n",
      "P-value: 0.0003\n",
      "Reject the null hypothesis\n"
     ]
    }
   ],
   "source": [
    "import statsmodels.api as sm\n",
    "\n",
    "# Define the hypothesis to be tested\n",
    "hypothesis = 'crime = proptax'\n",
    "\n",
    "# Run the regression model\n",
    "X = df[['crime', 'nox', 'rooms', 'proptax']]\n",
    "X = sm.add_constant(X)\n",
    "y = df['lprice']\n",
    "\n",
    "model = sm.OLS(y, X).fit()\n",
    "\n",
    "# Perform the Wald test\n",
    "wald_test = model.wald_test(hypothesis, scalar=False)\n",
    "\n",
    "# Extract test statistic and p-value\n",
    "test_statistic = wald_test.statistic[0, 0]\n",
    "p_value = wald_test.pvalue\n",
    "\n",
    "# Print the results\n",
    "print(f\"Test Statistic: {test_statistic:.4f}\")\n",
    "print(f\"P-value: {p_value:.4f}\")\n",
    "\n",
    "# Compare p-value with the significance level (e.g., 0.01 for 1% level)\n",
    "alpha = 0.01\n",
    "if p_value < alpha:\n",
    "    print(\"Reject the null hypothesis\")\n",
    "else:\n",
    "    print(\"Fail to reject the null hypothesis\")\n"
   ]
  },
  {
   "cell_type": "markdown",
   "metadata": {},
   "source": [
    "#### 15. In the specification of question 10, test the hypothesis $H_0: \\beta_{nox} = 0, \\beta_{proptax} = 0$ at the 1% level"
   ]
  },
  {
   "cell_type": "code",
   "execution_count": 14,
   "metadata": {},
   "outputs": [
    {
     "name": "stdout",
     "output_type": "stream",
     "text": [
      "F-statistic: 33.34883596283149\n",
      "P-value: 2.5293764225614597e-14\n"
     ]
    }
   ],
   "source": [
    "import statsmodels.api as sm\n",
    "from scipy.stats import f\n",
    "\n",
    "# Define the dependent and independent variables\n",
    "X = df[['crime', 'nox', 'rooms', 'proptax']]\n",
    "y = df['lprice']\n",
    "\n",
    "# Add a constant to the independent variables matrix\n",
    "X = sm.add_constant(X)\n",
    "\n",
    "# Fit the regression model\n",
    "model = sm.OLS(y, X)\n",
    "results = model.fit()\n",
    "\n",
    "# Calculate the sum of squared errors for the unconstrained model\n",
    "u = results.resid\n",
    "SSR0 = u.T @ u\n",
    "\n",
    "# Create the constrained model by setting 'nox' and 'proptax' coefficients to 0\n",
    "X_constrained = X.copy()\n",
    "X_constrained['nox'] = 0\n",
    "X_constrained['proptax'] = 0\n",
    "\n",
    "# Fit the constrained regression model\n",
    "model_constrained = sm.OLS(y, X_constrained)\n",
    "results_constrained = model_constrained.fit()\n",
    "\n",
    "# Calculate the sum of squared errors for the constrained model\n",
    "u_constrained = results_constrained.resid\n",
    "SSR1 = u_constrained.T @ u_constrained\n",
    "\n",
    "# Calculate the F-statistic and p-value\n",
    "n, k = np.shape(X)\n",
    "F = ((SSR1 - SSR0) / 2) / (SSR0 / (n - k))\n",
    "p_value = f.sf(F, 2, n - k)\n",
    "\n",
    "# Display the results\n",
    "print(\"F-statistic:\", F)\n",
    "print(\"P-value:\", p_value)\n"
   ]
  },
  {
   "cell_type": "markdown",
   "metadata": {},
   "source": [
    "#### 16. In the specification of question 10, test the hypothesis $H_0: \\beta_{nox} = -500, \\beta_{proptax} = -100$ at the 1% level using the p-value of the test"
   ]
  },
  {
   "cell_type": "code",
   "execution_count": 15,
   "metadata": {},
   "outputs": [
    {
     "name": "stdout",
     "output_type": "stream",
     "text": [
      "p-value:  0.0\n",
      "Reject the null hypothesis\n"
     ]
    }
   ],
   "source": [
    "from scipy import stats\n",
    "\n",
    "# Original model with all the variables from question 10, unrestricted model:\n",
    "\n",
    "X_ur = df[['crime', 'rooms', 'nox', 'proptax']]\n",
    "y_ur = df['lprice']\n",
    "\n",
    "X_ur = sm.add_constant(X_ur)\n",
    "\n",
    "model = sm.OLS(y_ur, X_ur)\n",
    "results = model.fit()\n",
    "\n",
    "# Calculate SSR0 for the model with Bnox and Bproptax\n",
    "u = results.resid\n",
    "SSR_ur = u.T @ u\n",
    "\n",
    "# Calculate the degrees of freedom\n",
    "\n",
    "df_ur = model.df_resid\n",
    "\n",
    "# Model without Bnox and Bproptax, restricted model:\n",
    "\n",
    "X_r = df[['crime', 'rooms']]\n",
    "y_r = df['lprice']+500*df['nox']+100*df['proptax']\n",
    "\n",
    "X_r = sm.add_constant(X_r)\n",
    "\n",
    "model = sm.OLS(y_r, X_r)\n",
    "results = model.fit()\n",
    "\n",
    "# Calculate SSR1 for the model whitout Bnox and Bproptax\n",
    "\n",
    "u = results.resid\n",
    "SSR_r = u.T @ u\n",
    "\n",
    "# Calculate the degrees of freedom\n",
    "\n",
    "df_r = model.df_resid\n",
    "\n",
    "#  Calculate the F-statistic\n",
    "q = df_r - df_ur\n",
    "F = ((SSR_r-SSR_ur)/q)/(SSR_ur/(df_ur))\n",
    "\n",
    "# Calculate the p-value\n",
    "\n",
    "p_value = stats.f.sf(F, q, df_ur)\n",
    "\n",
    "print(\"p-value: \", p_value)\n",
    "\n",
    "if p_value < 0.1:\n",
    "    print(\"Reject the null hypothesis\")\n",
    "else:\n",
    "    print(\"Do not reject the null hypothesis\")"
   ]
  },
  {
   "cell_type": "markdown",
   "metadata": {},
   "source": [
    "#### 17. In the specification of question 10, test the hypothesis $H_0: \\beta_{nox} + \\beta_{proptax} = -1000$ at the 1% level using the p-value of the test"
   ]
  },
  {
   "cell_type": "code",
   "execution_count": 16,
   "metadata": {},
   "outputs": [
    {
     "name": "stdout",
     "output_type": "stream",
     "text": [
      "p-value:  3.386545507666483e-05\n",
      "Reject the null hypothesis\n"
     ]
    }
   ],
   "source": [
    "# we have the original model:  lprice = B0 + Bcrime*crime + Brooms*rooms + Bnox*nox + Bproptax*proptax + u\n",
    "# we want to test the null hypothesis Bnox + Bproptax = -1000\n",
    "# we call theta = Bnox + Bproptax + 1000\n",
    "# Then, we subitute theta in the model and we have:\n",
    "# lprice = B0 + Bcrime*crime + Brooms*rooms + (theta - Bproptax - 1000)*nox + Bproptax*proptax + u\n",
    "# which gives us:\n",
    "# lprice = B0 - 1000*nox + Bcrime*crime + Brooms*rooms + theta*nox + Bproptax*(proptax - nox) +  u\n",
    "# we can see that the null hypothesis is equivalent to theta = 0\n",
    "\n",
    "# We contruct our model:\n",
    "\n",
    "# Create the column'proptax_nox'\n",
    "df['proptax_nox'] = df['proptax'] - df['nox']\n",
    "\n",
    "# Create the matrix of independent variables\n",
    "X = sm.add_constant(df[['crime', 'rooms', 'nox', 'proptax_nox']])\n",
    "y = df['lprice']\n",
    "\n",
    "model = sm.OLS(y, X)\n",
    "results = model.fit()\n",
    "\n",
    "# Compute t statistic\n",
    "coef_proptax_nox = results.params['proptax_nox']\n",
    "std_proptax_nox = results.bse['proptax_nox']\n",
    "t = coef_proptax_nox/std_proptax_nox\n",
    "\n",
    "# Compute the p-value (two-sided test)\n",
    "degrees_of_freedom = results.df_resid\n",
    "p_value = 2 * (1 - stats.t.cdf(abs(t), degrees_of_freedom))\n",
    "print(\"p-value: \", p_value)\n",
    "\n",
    "# Compute the test of 1% significance level\n",
    "\n",
    "if p_value < 0.01:\n",
    "    print(\"Reject the null hypothesis\")\n",
    "else:\n",
    "    print(\"Do not reject the null hypothesis\")\n"
   ]
  },
  {
   "cell_type": "markdown",
   "metadata": {},
   "source": [
    "#### 18. In the specification of question 10, test the hypothesis that all coefficients are the same for observations with low levels of nox vs. medium and high levels of nox."
   ]
  },
  {
   "cell_type": "markdown",
   "metadata": {},
   "source": []
  },
  {
   "cell_type": "markdown",
   "metadata": {},
   "source": [
    "#### 19. Repeat the test of question 18 but now assuming that only the coefficients of nox and proptax can change between the two groups of observations. State and test $H_0$."
   ]
  },
  {
   "cell_type": "markdown",
   "metadata": {},
   "source": []
  },
  {
   "cell_type": "markdown",
   "metadata": {},
   "source": [
    "\n",
    "# PART 2 - HETEROSKEDASTICITY"
   ]
  },
  {
   "cell_type": "markdown",
   "metadata": {},
   "source": [
    "#### 20. Explain the problem of heteroskedasticity with an example of the course."
   ]
  },
  {
   "cell_type": "markdown",
   "metadata": {},
   "source": [
    "The heteroskedasticity happens when the homoskedasticity assumption is violeted. This assumption says that the unonbserved error variance don't vary with respect to the independent variables, i.e, $var(u)$ is constant when $x_1, x_2, ...$ vary. So, when we have heteroskedasticity, $var(u|x_1, x_2, ...)$ vary.\n",
    "\n",
    "In one of our course examples, we explored the relationship between house prices and other variables. This scenario illustrates heteroscedasticity. For instance, the variance of the error in predicting house prices via the regression model could fluctuate with the house's square footage. A smaller house might exhibit relatively stable error variance in price prediction. However, as the house size increases, we observe a larger variation in the error between the predicted and actual prices. This variability complicates the estimation of parameters using Ordinary Least Squares (OLS) since it assumes homoscedasticity."
   ]
  },
  {
   "cell_type": "markdown",
   "metadata": {},
   "source": [
    "#### 21. Suppose that $ E(u u')= \\sigma^2 \\Omega$. Show that the GLS estimator is the best linear unbiased estimator."
   ]
  },
  {
   "cell_type": "markdown",
   "metadata": {},
   "source": []
  },
  {
   "cell_type": "markdown",
   "metadata": {},
   "source": [
    "#### 22. In the specification of question 9, test the hypothesis of no heteroskedasticity of linear form, i.e. in the regression of $u^2$ on constant, crime, nox, rooms, proptax, test H0: $\\delta_{crime}$ , $\\delta_{nox}$, $\\delta_{room}$ ,  $\\delta_{proptax}$  = 0, where the coefficients $\\delta_{k}$ (k = crime, nox, rooms, proptax) are associated with the corresponding explanatory variables."
   ]
  },
  {
   "cell_type": "code",
   "execution_count": 17,
   "metadata": {},
   "outputs": [
    {
     "name": "stdout",
     "output_type": "stream",
     "text": [
      "p-value:  2.4672073438899615e-05\n",
      "Reject the null hypothesis: There is heteroskedasticity\n"
     ]
    }
   ],
   "source": [
    "# First, we construct the model of question 10:\n",
    "# price = B0 + Bcrime*crime + Brooms*rooms + Bnox*nox + Bproptax*proptax + u\n",
    "X = sm.add_constant(df[['crime', 'rooms', 'nox', 'proptax']])\n",
    "y = df['price']\n",
    "\n",
    "model = sm.OLS(y, X)\n",
    "results = model.fit()\n",
    "\n",
    "# Now, we construct the regression model for the residuals of the previous model:\n",
    "# u^2 = delta0 +delta_crime*crime + delta_rooms*rooms + delta_nox*nox + delta_proptax*proptax +  v\n",
    "\n",
    "u = results.resid\n",
    "u2 = u**2\n",
    "y = u2\n",
    "\n",
    "model = sm.OLS(y, X)\n",
    "results = model.fit()\n",
    "\n",
    "# Now, we compute the test of 5% significance level\n",
    "\n",
    "F = results.fvalue\n",
    "k = 4\n",
    "n = len(df)\n",
    "degrees_of_freedom = n - k - 1\n",
    "\n",
    "p_value = stats.f.sf(F, k, degrees_of_freedom)\n",
    "\n",
    "print(\"p-value: \", p_value)\n",
    "\n",
    "if p_value < 0.05:\n",
    "    print(\"Reject the null hypothesis: There is heteroskedasticity\")\n",
    "else:\n",
    "    print(\"Do not reject the null hypothesis: There is homoskedasticity\")\n"
   ]
  },
  {
   "cell_type": "code",
   "execution_count": 73,
   "metadata": {},
   "outputs": [
    {
     "name": "stdout",
     "output_type": "stream",
     "text": [
      "Test Statistic: 17.008850097343185\n",
      "P-value: 0.0019253113887843945\n",
      "Reject the null hypothesis of homoskedasticity.\n"
     ]
    }
   ],
   "source": [
    "import statsmodels.stats.api as sms\n",
    "\n",
    "# Fit the regression model\n",
    "results = model.fit()\n",
    "\n",
    "# Get the residuals from the regression results\n",
    "residuals = results.resid\n",
    "\n",
    "# Run the Breusch-Pagan test\n",
    "bp_test = sms.het_breuschpagan(residuals, exog_het=results.model.exog)\n",
    "\n",
    "# Extract the test statistic and p-value\n",
    "test_statistic = bp_test[0]\n",
    "p_value = bp_test[1]\n",
    "\n",
    "# Display the test results\n",
    "print(f\"Test Statistic: {test_statistic}\")\n",
    "print(f\"P-value: {p_value}\")\n",
    "\n",
    "# Compare the p-value with a significance level (e.g., 0.05)\n",
    "alpha = 0.05\n",
    "if p_value < alpha:\n",
    "    print(\"Reject the null hypothesis of homoskedasticity.\")\n",
    "else:\n",
    "    print(\"Fail to reject the null hypothesis of homoskedasticity.\")"
   ]
  },
  {
   "cell_type": "markdown",
   "metadata": {},
   "source": [
    "#### 23. In the specification of question 10, test the hypothesis of no heteroskedasticity of linear form"
   ]
  },
  {
   "cell_type": "code",
   "execution_count": 19,
   "metadata": {},
   "outputs": [
    {
     "name": "stdout",
     "output_type": "stream",
     "text": [
      "p-value:  8.32991112838396e-14\n",
      "Reject the null hypothesis: There is heteroskedasticity\n"
     ]
    }
   ],
   "source": [
    "# First, we construct the model of question 10:\n",
    "# lprice = B0 + Bcrime*crime + Brooms*rooms + Bnox*nox + Bproptax*proptax + u\n",
    "X = sm.add_constant(df[['crime', 'rooms', 'nox', 'proptax']])\n",
    "y = df['lprice']\n",
    "\n",
    "model = sm.OLS(y, X)\n",
    "results = model.fit()\n",
    "\n",
    "# Now, we construct the regression model for the residuals of the previous model:\n",
    "# u^2 = delta0 +delta_crime*crime + delta_rooms*rooms + delta_nox*nox + delta_proptax*proptax +  v\n",
    "\n",
    "u = results.resid\n",
    "u2 = u**2\n",
    "y = u2\n",
    "\n",
    "model = sm.OLS(y, X)\n",
    "results = model.fit()\n",
    "\n",
    "# Now, we compute the test of 5% significance level\n",
    "\n",
    "F = results.fvalue\n",
    "k = 4\n",
    "n = len(df)\n",
    "degrees_of_freedom = n - k - 1\n",
    "\n",
    "p_value = stats.f.sf(F, k, degrees_of_freedom)\n",
    "\n",
    "print(\"p-value: \", p_value)\n",
    "\n",
    "if p_value < 0.05:\n",
    "    print(\"Reject the null hypothesis: There is heteroskedasticity\")\n",
    "else:\n",
    "    print(\"Do not reject the null hypothesis: There is homoskedasticity\")\n"
   ]
  },
  {
   "cell_type": "markdown",
   "metadata": {},
   "source": [
    "#### 24. In the specification of question 11, test the hypothesis of no heteroskedasticity of linear form"
   ]
  },
  {
   "cell_type": "code",
   "execution_count": 20,
   "metadata": {},
   "outputs": [
    {
     "name": "stdout",
     "output_type": "stream",
     "text": [
      "p-value:  1.0205916389171415e-12\n",
      "Reject the null hypothesis: There is heteroskedasticity\n"
     ]
    }
   ],
   "source": [
    "# First, we construct the model of question 10:\n",
    "# lprice = B0 + Bcrime*crime + Brooms*rooms + Blnox*lnox + Blproptax*lproptax + u\n",
    "X = sm.add_constant(df[['crime', 'rooms', 'lnox', 'lproptax']])\n",
    "y = df['lprice']\n",
    "\n",
    "model = sm.OLS(y, X)\n",
    "results = model.fit()\n",
    "\n",
    "# Now, we construct the regression model for the residuals of the previous model:\n",
    "# u^2 = delta0 +delta_crime*crime + delta_rooms*rooms + delta_lnox*lnox + delta_lproptax*lproptax +  v\n",
    "\n",
    "u = results.resid\n",
    "u2 = u**2\n",
    "y = u2\n",
    "\n",
    "model = sm.OLS(y, X)\n",
    "results = model.fit()\n",
    "\n",
    "# Now, we compute the test of 5% significance level\n",
    "\n",
    "F = results.fvalue\n",
    "k = 4\n",
    "n = len(df)\n",
    "degrees_of_freedom = n - k - 1\n",
    "\n",
    "p_value = stats.f.sf(F, k, degrees_of_freedom)\n",
    "\n",
    "print(\"p-value: \", p_value)\n",
    "\n",
    "if p_value < 0.05:\n",
    "    print(\"Reject the null hypothesis: There is heteroskedasticity\")\n",
    "else:\n",
    "    print(\"Do not reject the null hypothesis: There is homoskedasticity\")\n"
   ]
  },
  {
   "cell_type": "markdown",
   "metadata": {},
   "source": [
    "#### 25. Comment on the differences between your results of questions 22,23, 24."
   ]
  },
  {
   "cell_type": "markdown",
   "metadata": {},
   "source": [
    "Heteroscedasticity is evident across all questions addressed. The transformations applied from one question to another primarily involved taking the logarithm of a variable, whether it was independent or not. This approach aimed to mitigate the overall impact of heteroscedasticity. However, it didn't yield a model free of this issue. Consequently, we can infer that the disparities persist in the variables used, despite yielding largely similar outcomes."
   ]
  },
  {
   "cell_type": "markdown",
   "metadata": {},
   "source": [
    "#### 26. Regardless of the results of the test of question 22, identify the most significant variable causing heteroskedasticity using the student statistics and run a WLS regression with the identified variable as weight."
   ]
  },
  {
   "cell_type": "code",
   "execution_count": null,
   "metadata": {},
   "outputs": [],
   "source": []
  },
  {
   "cell_type": "markdown",
   "metadata": {},
   "source": [
    "# PART 3 - TIME SERIES DATA"
   ]
  },
  {
   "cell_type": "markdown",
   "metadata": {},
   "source": [
    "This part uses the threecenturies_v2.3 datasets. Import Real GDP at market prices, unemployment rate and consumer price inflation for the period 1900-2000 in Python from the A1 worksheet."
   ]
  },
  {
   "cell_type": "code",
   "execution_count": 25,
   "metadata": {},
   "outputs": [
    {
     "data": {
      "text/html": [
       "<div>\n",
       "<style scoped>\n",
       "    .dataframe tbody tr th:only-of-type {\n",
       "        vertical-align: middle;\n",
       "    }\n",
       "\n",
       "    .dataframe tbody tr th {\n",
       "        vertical-align: top;\n",
       "    }\n",
       "\n",
       "    .dataframe thead th {\n",
       "        text-align: right;\n",
       "    }\n",
       "</style>\n",
       "<table border=\"1\" class=\"dataframe\">\n",
       "  <thead>\n",
       "    <tr style=\"text-align: right;\">\n",
       "      <th></th>\n",
       "      <th>Real GDP at market prices</th>\n",
       "      <th>unemployment rate</th>\n",
       "      <th>consumer price inflation</th>\n",
       "    </tr>\n",
       "    <tr>\n",
       "      <th>year</th>\n",
       "      <th></th>\n",
       "      <th></th>\n",
       "      <th></th>\n",
       "    </tr>\n",
       "  </thead>\n",
       "  <tbody>\n",
       "    <tr>\n",
       "      <th>1660</th>\n",
       "      <td>NaN</td>\n",
       "      <td>NaN</td>\n",
       "      <td>NaN</td>\n",
       "    </tr>\n",
       "    <tr>\n",
       "      <th>1661</th>\n",
       "      <td>NaN</td>\n",
       "      <td>NaN</td>\n",
       "      <td>NaN</td>\n",
       "    </tr>\n",
       "    <tr>\n",
       "      <th>1662</th>\n",
       "      <td>NaN</td>\n",
       "      <td>NaN</td>\n",
       "      <td>3.669725</td>\n",
       "    </tr>\n",
       "    <tr>\n",
       "      <th>1663</th>\n",
       "      <td>NaN</td>\n",
       "      <td>NaN</td>\n",
       "      <td>-1.769912</td>\n",
       "    </tr>\n",
       "    <tr>\n",
       "      <th>1664</th>\n",
       "      <td>NaN</td>\n",
       "      <td>NaN</td>\n",
       "      <td>-5.405405</td>\n",
       "    </tr>\n",
       "    <tr>\n",
       "      <th>...</th>\n",
       "      <td>...</td>\n",
       "      <td>...</td>\n",
       "      <td>...</td>\n",
       "    </tr>\n",
       "    <tr>\n",
       "      <th>2011</th>\n",
       "      <td>1684820.0</td>\n",
       "      <td>29376.0</td>\n",
       "      <td>4.463693</td>\n",
       "    </tr>\n",
       "    <tr>\n",
       "      <th>2012</th>\n",
       "      <td>1706942.0</td>\n",
       "      <td>29696.0</td>\n",
       "      <td>2.828242</td>\n",
       "    </tr>\n",
       "    <tr>\n",
       "      <th>2013</th>\n",
       "      <td>1739563.0</td>\n",
       "      <td>30044.0</td>\n",
       "      <td>2.564799</td>\n",
       "    </tr>\n",
       "    <tr>\n",
       "      <th>2014</th>\n",
       "      <td>1792976.0</td>\n",
       "      <td>30757.0</td>\n",
       "      <td>1.461031</td>\n",
       "    </tr>\n",
       "    <tr>\n",
       "      <th>2015</th>\n",
       "      <td>1833233.0</td>\n",
       "      <td>31296.0</td>\n",
       "      <td>0.040099</td>\n",
       "    </tr>\n",
       "  </tbody>\n",
       "</table>\n",
       "<p>356 rows × 3 columns</p>\n",
       "</div>"
      ],
      "text/plain": [
       "      Real GDP at market prices  unemployment rate  consumer price inflation\n",
       "year                                                                        \n",
       "1660                        NaN                NaN                       NaN\n",
       "1661                        NaN                NaN                       NaN\n",
       "1662                        NaN                NaN                  3.669725\n",
       "1663                        NaN                NaN                 -1.769912\n",
       "1664                        NaN                NaN                 -5.405405\n",
       "...                         ...                ...                       ...\n",
       "2011                  1684820.0            29376.0                  4.463693\n",
       "2012                  1706942.0            29696.0                  2.828242\n",
       "2013                  1739563.0            30044.0                  2.564799\n",
       "2014                  1792976.0            30757.0                  1.461031\n",
       "2015                  1833233.0            31296.0                  0.040099\n",
       "\n",
       "[356 rows x 3 columns]"
      ]
     },
     "execution_count": 25,
     "metadata": {},
     "output_type": "execute_result"
    }
   ],
   "source": [
    "import pandas as pd\n",
    "\n",
    "# Read the entire spreadsheet\n",
    "xls = pd.ExcelFile('threecenturies_v2.3.xlsx')\n",
    "\n",
    "# Read the specific columns, skipping the initial rows as necessary\n",
    "df0 = pd.read_excel(xls, 'A1. Headline series', skiprows=6, usecols=[0])  # Column A is the 1st column after skipping the first 6 rows\n",
    "df1 = pd.read_excel(xls, 'A1. Headline series', skiprows=6, usecols=[1])  # Column B is the 2st column after skipping the first 6 rows\n",
    "df2 = pd.read_excel(xls, 'A1. Headline series', skiprows=6, usecols=[14])  # Column O is the 14th column after skipping the first 6 rows\n",
    "df3 = pd.read_excel(xls, 'A1. Headline series', skiprows=6, usecols=[28])  # Column AC is the 28th column after skipping the first 6 rows\n",
    "\n",
    "# Reset the indices so they align correctly when concatenating\n",
    "df0.reset_index(drop=True, inplace=True)\n",
    "df1.reset_index(drop=True, inplace=True)\n",
    "df2.reset_index(drop=True, inplace=True)\n",
    "df3.reset_index(drop=True, inplace=True)\n",
    "\n",
    "# Concatenate the columns into a single DataFrame\n",
    "df = pd.concat([df0, df1, df2, df3], axis=1)\n",
    "\n",
    "# Rename the columns\n",
    "df.columns = ['year','Real GDP at market prices', 'unemployment rate', 'consumer price inflation']\n",
    "\n",
    "# Set 'year' as the index of the DataFrame\n",
    "df.set_index('year', inplace=True)\n",
    "\n",
    "# Display the first few rows of the resulting DataFrame\n",
    "df"
   ]
  },
  {
   "cell_type": "markdown",
   "metadata": {},
   "source": [
    "#### 27. Define strict and weak stationarity."
   ]
  },
  {
   "cell_type": "markdown",
   "metadata": {},
   "source": [
    "We can define the strict stationarity as a time series process whose probability distributions are stable over time in the folowing sense: if we take any collection of random variables in the sequence and then shift that sequence ahead h time periods, the joint probability distribution must remain unchanged.\n",
    "\n",
    "The weak stationarity first requires that the stocastic process $\\{x_t : t = 1, 2, ...\\}$, which has $E(x^2_t ) < \\infty$,  then, if these conditions are satified we have weak stationarity if the mean and variance of the process are constant across time, and the covariance between $x_t$ and $x_{t+h}$ depends only on the distance between the two terms, h, and not on the location of the initial time period, t. "
   ]
  },
  {
   "cell_type": "markdown",
   "metadata": {},
   "source": [
    "#### 28. Explain ergodicity and state the ergodic theorem. Illustrate with an example.\n"
   ]
  },
  {
   "cell_type": "markdown",
   "metadata": {},
   "source": [
    "Ergodicity is the property in which a process \"forgets\" the initial conditions.  By instance, Auto-correlation of order k in a stationary process measures the relationship between observations separated by a time interval k. In a stationary process exhibiting the \"forgetting initial conditions\" property, as the time interval between observations increases (as represented by k tending to infinity), the auto-correlation between observations separated by that interval decreases and tends towards zero.\n",
    "\n",
    "For example, consider a stock price time series. If the stock price process is stationary and exhibits the property of forgetting initial conditions, this implies that the correlation between the stock prices separated by a certain time interval diminishes as the interval increases. For instance, the correlation between the stock price today and the stock price tomorrow might be relatively high since they're consecutive days. However, as we extend the time interval, say between the stock price today and the price a year ago, the correlation might decrease significantly. \n",
    "\n",
    "And for the ergodic theorem, for a strictly stationary and ergodic process $y_t$ with finite expected values as time (T) approaches infinity, it states that the time average, $E(y_t)$, converges towards the spatial average, which is the expectation or mean value, $E(y)$.\n",
    "\n",
    "For example, Imagine rolling a fair six-sided die repeatedly and recording the outcomes as a time series, where $y_t$ represents the outcome of the t-th roll .According to the ergodic theorem, as we roll the die repeatedly ($T \\rightarrow \\infty$), the average of all the outcomes over time (the time average) will converge towards the expected value of the die roll (the spatial average), which is 3.5 ($\\frac{1+2+3+4+5+6}{6}$)."
   ]
  },
  {
   "cell_type": "markdown",
   "metadata": {},
   "source": [
    "#### 29. Why do we need both stationarity and ergodicity?"
   ]
  },
  {
   "cell_type": "markdown",
   "metadata": {},
   "source": [
    "As ergodicity requires stationarity, we need to analise the situation where we have stationarity but not ergodicity.\n",
    "If we have only stationarity, while a single series might display consistent statistical properties over time, these properties might not generalize or hold true for other similar series or different segments of the same series. It only happens if we also have ergodicity, this broader application allows generalization and inference beyond a single series.\n",
    "\n",
    "So, having both properties allows us to ensures that the statistical properties of a single time series remain consistent over time, making it predictable and easier to model (stationarity) and that these statistical properties hold not only over time within a single series but also across multiple series or across different segments of the same serie (ergodicity). "
   ]
  },
  {
   "cell_type": "markdown",
   "metadata": {},
   "source": [
    "#### 30. Explain “spurious regression”."
   ]
  },
  {
   "cell_type": "markdown",
   "metadata": {},
   "source": [
    "Spurious regression is a statistical issue that arises when running a regression analysis between two or more variables that are not genuinely related, yet the regression model shows a seemingly significant relationship between them. A problem that arises when regression analysis indicates a relationship between two or more unrelated time series processes simply because each has a trend, is an integrated time series (such as a random walk), or both."
   ]
  },
  {
   "cell_type": "markdown",
   "metadata": {},
   "source": [
    "#### 31. Define a moving average and explain the trade-off involved in the choice of the size of the window and of whether to center or not the moving average."
   ]
  },
  {
   "cell_type": "markdown",
   "metadata": {},
   "source": [
    "A moving average calculates an average value over a specific subset of adjacent data points (a window) within the time series.\n",
    "\n",
    "For the size of the window the trade of is wheter we chose a larger window or a small one. A larger window (more observations included in the average) results in a smoother moving average. It reduces the impact of short-term fluctuations or noise in the data, providing a clearer view of the underlying trend or pattern. A smaller window leads to a more responsive moving average, capturing short-term changes or variations in the data more promptly. However, it might also amplify noise or irregularities, making it harder to discern the true trend amidst fluctuations.\n",
    "\n",
    "For centering or not the moving average, centering involves placing the calculated average at the midpoint of the window. It provides a more balanced view of the data, avoiding any significant lag in reflecting changes. This might be particularly useful for forecasting or identifying turning points in the series, the non-centering calculates the average at the end of the window. It reflects changes more quickly but might introduce a lag in capturing certain trends or changes, especially in the initial phase."
   ]
  },
  {
   "cell_type": "markdown",
   "metadata": {},
   "source": [
    "#### 32. Make all time series stationary by computing the difference between the original variable and a moving average of order 5."
   ]
  },
  {
   "cell_type": "code",
   "execution_count": 77,
   "metadata": {},
   "outputs": [
    {
     "data": {
      "text/html": [
       "<div>\n",
       "<style scoped>\n",
       "    .dataframe tbody tr th:only-of-type {\n",
       "        vertical-align: middle;\n",
       "    }\n",
       "\n",
       "    .dataframe tbody tr th {\n",
       "        vertical-align: top;\n",
       "    }\n",
       "\n",
       "    .dataframe thead th {\n",
       "        text-align: right;\n",
       "    }\n",
       "</style>\n",
       "<table border=\"1\" class=\"dataframe\">\n",
       "  <thead>\n",
       "    <tr style=\"text-align: right;\">\n",
       "      <th></th>\n",
       "      <th>Real GDP at market prices</th>\n",
       "      <th>unemployment rate</th>\n",
       "      <th>consumer price inflation</th>\n",
       "    </tr>\n",
       "    <tr>\n",
       "      <th>year</th>\n",
       "      <th></th>\n",
       "      <th></th>\n",
       "      <th></th>\n",
       "    </tr>\n",
       "  </thead>\n",
       "  <tbody>\n",
       "    <tr>\n",
       "      <th>1660</th>\n",
       "      <td>NaN</td>\n",
       "      <td>NaN</td>\n",
       "      <td>NaN</td>\n",
       "    </tr>\n",
       "    <tr>\n",
       "      <th>1661</th>\n",
       "      <td>NaN</td>\n",
       "      <td>NaN</td>\n",
       "      <td>NaN</td>\n",
       "    </tr>\n",
       "    <tr>\n",
       "      <th>1662</th>\n",
       "      <td>NaN</td>\n",
       "      <td>NaN</td>\n",
       "      <td>NaN</td>\n",
       "    </tr>\n",
       "    <tr>\n",
       "      <th>1663</th>\n",
       "      <td>NaN</td>\n",
       "      <td>NaN</td>\n",
       "      <td>NaN</td>\n",
       "    </tr>\n",
       "    <tr>\n",
       "      <th>1664</th>\n",
       "      <td>NaN</td>\n",
       "      <td>NaN</td>\n",
       "      <td>NaN</td>\n",
       "    </tr>\n",
       "    <tr>\n",
       "      <th>...</th>\n",
       "      <td>...</td>\n",
       "      <td>...</td>\n",
       "      <td>...</td>\n",
       "    </tr>\n",
       "    <tr>\n",
       "      <th>2011</th>\n",
       "      <td>7135.4</td>\n",
       "      <td>22.8</td>\n",
       "      <td>1.293305</td>\n",
       "    </tr>\n",
       "    <tr>\n",
       "      <th>2012</th>\n",
       "      <td>30468.2</td>\n",
       "      <td>279.2</td>\n",
       "      <td>-0.443226</td>\n",
       "    </tr>\n",
       "    <tr>\n",
       "      <th>2013</th>\n",
       "      <td>55627.0</td>\n",
       "      <td>544.0</td>\n",
       "      <td>-0.499246</td>\n",
       "    </tr>\n",
       "    <tr>\n",
       "      <th>2014</th>\n",
       "      <td>76161.4</td>\n",
       "      <td>936.8</td>\n",
       "      <td>-1.462156</td>\n",
       "    </tr>\n",
       "    <tr>\n",
       "      <th>2015</th>\n",
       "      <td>81726.2</td>\n",
       "      <td>1062.2</td>\n",
       "      <td>-2.231474</td>\n",
       "    </tr>\n",
       "  </tbody>\n",
       "</table>\n",
       "<p>356 rows × 3 columns</p>\n",
       "</div>"
      ],
      "text/plain": [
       "      Real GDP at market prices  unemployment rate  consumer price inflation\n",
       "year                                                                        \n",
       "1660                        NaN                NaN                       NaN\n",
       "1661                        NaN                NaN                       NaN\n",
       "1662                        NaN                NaN                       NaN\n",
       "1663                        NaN                NaN                       NaN\n",
       "1664                        NaN                NaN                       NaN\n",
       "...                         ...                ...                       ...\n",
       "2011                     7135.4               22.8                  1.293305\n",
       "2012                    30468.2              279.2                 -0.443226\n",
       "2013                    55627.0              544.0                 -0.499246\n",
       "2014                    76161.4              936.8                 -1.462156\n",
       "2015                    81726.2             1062.2                 -2.231474\n",
       "\n",
       "[356 rows x 3 columns]"
      ]
     },
     "execution_count": 77,
     "metadata": {},
     "output_type": "execute_result"
    }
   ],
   "source": [
    "# Calculate the moving average of order 5 for each time series\n",
    "df_ma = df.rolling(window=5).mean()\n",
    "\n",
    "# Create stationary time series\n",
    "df_stationary = df - df_ma\n",
    "df_stationary\n"
   ]
  },
  {
   "cell_type": "markdown",
   "metadata": {},
   "source": [
    "#### 33. Compute the difference between the resulting time series of question 32 and a moving average of order 10. Give the exact formula for the weights after the two transformations."
   ]
  },
  {
   "cell_type": "markdown",
   "metadata": {},
   "source": [
    "The weights are uniforms for the two transformations:\n",
    "\n",
    "For the one of question 32: $[0.2, 0.2, 0.2, 0.2, 0.2]$ \n",
    "\n",
    "For the one of this question: $[0.1, 0.1, 0.1, 0.1, 0.1, 0.1, 0.1, 0.1, 0.1, 0.1]$"
   ]
  },
  {
   "cell_type": "code",
   "execution_count": 78,
   "metadata": {},
   "outputs": [
    {
     "data": {
      "text/html": [
       "<div>\n",
       "<style scoped>\n",
       "    .dataframe tbody tr th:only-of-type {\n",
       "        vertical-align: middle;\n",
       "    }\n",
       "\n",
       "    .dataframe tbody tr th {\n",
       "        vertical-align: top;\n",
       "    }\n",
       "\n",
       "    .dataframe thead th {\n",
       "        text-align: right;\n",
       "    }\n",
       "</style>\n",
       "<table border=\"1\" class=\"dataframe\">\n",
       "  <thead>\n",
       "    <tr style=\"text-align: right;\">\n",
       "      <th></th>\n",
       "      <th>Real GDP at market prices</th>\n",
       "      <th>unemployment rate</th>\n",
       "      <th>consumer price inflation</th>\n",
       "    </tr>\n",
       "    <tr>\n",
       "      <th>year</th>\n",
       "      <th></th>\n",
       "      <th></th>\n",
       "      <th></th>\n",
       "    </tr>\n",
       "  </thead>\n",
       "  <tbody>\n",
       "    <tr>\n",
       "      <th>1660</th>\n",
       "      <td>NaN</td>\n",
       "      <td>NaN</td>\n",
       "      <td>NaN</td>\n",
       "    </tr>\n",
       "    <tr>\n",
       "      <th>1661</th>\n",
       "      <td>NaN</td>\n",
       "      <td>NaN</td>\n",
       "      <td>NaN</td>\n",
       "    </tr>\n",
       "    <tr>\n",
       "      <th>1662</th>\n",
       "      <td>NaN</td>\n",
       "      <td>NaN</td>\n",
       "      <td>NaN</td>\n",
       "    </tr>\n",
       "    <tr>\n",
       "      <th>1663</th>\n",
       "      <td>NaN</td>\n",
       "      <td>NaN</td>\n",
       "      <td>NaN</td>\n",
       "    </tr>\n",
       "    <tr>\n",
       "      <th>1664</th>\n",
       "      <td>NaN</td>\n",
       "      <td>NaN</td>\n",
       "      <td>NaN</td>\n",
       "    </tr>\n",
       "    <tr>\n",
       "      <th>...</th>\n",
       "      <td>...</td>\n",
       "      <td>...</td>\n",
       "      <td>...</td>\n",
       "    </tr>\n",
       "    <tr>\n",
       "      <th>2011</th>\n",
       "      <td>47088.3</td>\n",
       "      <td>408.3</td>\n",
       "      <td>0.750226</td>\n",
       "    </tr>\n",
       "    <tr>\n",
       "      <th>2012</th>\n",
       "      <td>24359.4</td>\n",
       "      <td>296.7</td>\n",
       "      <td>0.694373</td>\n",
       "    </tr>\n",
       "    <tr>\n",
       "      <th>2013</th>\n",
       "      <td>12212.1</td>\n",
       "      <td>197.6</td>\n",
       "      <td>0.366629</td>\n",
       "    </tr>\n",
       "    <tr>\n",
       "      <th>2014</th>\n",
       "      <td>24041.7</td>\n",
       "      <td>295.1</td>\n",
       "      <td>0.214020</td>\n",
       "    </tr>\n",
       "    <tr>\n",
       "      <th>2015</th>\n",
       "      <td>38362.5</td>\n",
       "      <td>464.1</td>\n",
       "      <td>-0.235910</td>\n",
       "    </tr>\n",
       "  </tbody>\n",
       "</table>\n",
       "<p>356 rows × 3 columns</p>\n",
       "</div>"
      ],
      "text/plain": [
       "      Real GDP at market prices  unemployment rate  consumer price inflation\n",
       "year                                                                        \n",
       "1660                        NaN                NaN                       NaN\n",
       "1661                        NaN                NaN                       NaN\n",
       "1662                        NaN                NaN                       NaN\n",
       "1663                        NaN                NaN                       NaN\n",
       "1664                        NaN                NaN                       NaN\n",
       "...                         ...                ...                       ...\n",
       "2011                    47088.3              408.3                  0.750226\n",
       "2012                    24359.4              296.7                  0.694373\n",
       "2013                    12212.1              197.6                  0.366629\n",
       "2014                    24041.7              295.1                  0.214020\n",
       "2015                    38362.5              464.1                 -0.235910\n",
       "\n",
       "[356 rows x 3 columns]"
      ]
     },
     "execution_count": 78,
     "metadata": {},
     "output_type": "execute_result"
    }
   ],
   "source": [
    "# Calculate the moving average of order 10 for each time series\n",
    "df_ma_10 = df.rolling(window=10).mean()\n",
    "\n",
    "df_ma_diff = df_ma - df_ma_10\n",
    "df_ma_diff"
   ]
  },
  {
   "cell_type": "markdown",
   "metadata": {},
   "source": [
    "#### 34. Using the original dataset, test the unit root hypothesis for all variables."
   ]
  },
  {
   "cell_type": "code",
   "execution_count": 92,
   "metadata": {},
   "outputs": [
    {
     "name": "stdout",
     "output_type": "stream",
     "text": [
      "Fail to reject the null hypothesis for Real GDP at market prices. t-value: 14.4226\n",
      "Fail to reject the null hypothesis for unemployment rate. t-value: 0.1981\n",
      "Reject the null hypothesis for consumer price inflation. t-value: -12.6075\n"
     ]
    }
   ],
   "source": [
    "import statsmodels.api as sm\n",
    "import numpy as np\n",
    "\n",
    "# We will perform the Dickey-Fuller test on the time series, \n",
    "# For this we construct the model: delta(yt) = alpha + p*yt-1\n",
    "# And test the null hypothesis: p = 0\n",
    "# the test is performed with 5% of significance level, wich means that the threshold is -2.86\n",
    "\n",
    "threshold = -2.86\n",
    "\n",
    "# Specify the columns to test\n",
    "columns_to_test = ['Real GDP at market prices', 'unemployment rate', 'consumer price inflation']\n",
    "\n",
    "df_test = df.copy()\n",
    "\n",
    "# Loop over all columns in the DataFrame\n",
    "for column in columns_to_test:\n",
    "\n",
    "    # Calculate the difference of the variable\n",
    "    df_test[column+'_diff'] = df_test[column].diff()\n",
    "    \n",
    "    # Define the dependent variable and the independent variable\n",
    "    y = df_test[column+'_diff']\n",
    "    X = df_test[column].shift()\n",
    "    X = sm.add_constant(X) \n",
    "  \n",
    "    # Drop the missing values after creating X\n",
    "    y.dropna(inplace=True)\n",
    "    X.dropna(inplace=True)\n",
    "\n",
    "    # Perform the regression\n",
    "    model = sm.OLS(y, X)\n",
    "    results = model.fit()\n",
    "    \n",
    "    # Calculate the t-value\n",
    "    t_value = results.params.iloc[1] / results.bse.iloc[1]\n",
    "    \n",
    "    # Perform the test\n",
    "    if t_value < threshold:\n",
    "        print(f'Reject the null hypothesis for {column}. t-value: {t_value:.4f}')\n",
    "    else:\n",
    "        print(f'Fail to reject the null hypothesis for {column}. t-value: {t_value:.4f}')"
   ]
  },
  {
   "cell_type": "markdown",
   "metadata": {},
   "source": [
    "#### 35. Transform all variables so that they are stationary using either your answers to questions 32-33 or to question 34."
   ]
  },
  {
   "cell_type": "code",
   "execution_count": 94,
   "metadata": {},
   "outputs": [
    {
     "data": {
      "text/html": [
       "<div>\n",
       "<style scoped>\n",
       "    .dataframe tbody tr th:only-of-type {\n",
       "        vertical-align: middle;\n",
       "    }\n",
       "\n",
       "    .dataframe tbody tr th {\n",
       "        vertical-align: top;\n",
       "    }\n",
       "\n",
       "    .dataframe thead th {\n",
       "        text-align: right;\n",
       "    }\n",
       "</style>\n",
       "<table border=\"1\" class=\"dataframe\">\n",
       "  <thead>\n",
       "    <tr style=\"text-align: right;\">\n",
       "      <th></th>\n",
       "      <th>Real GDP at market prices</th>\n",
       "      <th>unemployment rate</th>\n",
       "      <th>consumer price inflation</th>\n",
       "    </tr>\n",
       "    <tr>\n",
       "      <th>year</th>\n",
       "      <th></th>\n",
       "      <th></th>\n",
       "      <th></th>\n",
       "    </tr>\n",
       "  </thead>\n",
       "  <tbody>\n",
       "    <tr>\n",
       "      <th>1660</th>\n",
       "      <td>NaN</td>\n",
       "      <td>NaN</td>\n",
       "      <td>NaN</td>\n",
       "    </tr>\n",
       "    <tr>\n",
       "      <th>1661</th>\n",
       "      <td>NaN</td>\n",
       "      <td>NaN</td>\n",
       "      <td>NaN</td>\n",
       "    </tr>\n",
       "    <tr>\n",
       "      <th>1662</th>\n",
       "      <td>NaN</td>\n",
       "      <td>NaN</td>\n",
       "      <td>NaN</td>\n",
       "    </tr>\n",
       "    <tr>\n",
       "      <th>1663</th>\n",
       "      <td>NaN</td>\n",
       "      <td>NaN</td>\n",
       "      <td>-5.439636</td>\n",
       "    </tr>\n",
       "    <tr>\n",
       "      <th>1664</th>\n",
       "      <td>NaN</td>\n",
       "      <td>NaN</td>\n",
       "      <td>-3.635494</td>\n",
       "    </tr>\n",
       "    <tr>\n",
       "      <th>...</th>\n",
       "      <td>...</td>\n",
       "      <td>...</td>\n",
       "      <td>...</td>\n",
       "    </tr>\n",
       "    <tr>\n",
       "      <th>2011</th>\n",
       "      <td>25048.0</td>\n",
       "      <td>148.0</td>\n",
       "      <td>1.165522</td>\n",
       "    </tr>\n",
       "    <tr>\n",
       "      <th>2012</th>\n",
       "      <td>22122.0</td>\n",
       "      <td>320.0</td>\n",
       "      <td>-1.635451</td>\n",
       "    </tr>\n",
       "    <tr>\n",
       "      <th>2013</th>\n",
       "      <td>32621.0</td>\n",
       "      <td>348.0</td>\n",
       "      <td>-0.263443</td>\n",
       "    </tr>\n",
       "    <tr>\n",
       "      <th>2014</th>\n",
       "      <td>53413.0</td>\n",
       "      <td>713.0</td>\n",
       "      <td>-1.103767</td>\n",
       "    </tr>\n",
       "    <tr>\n",
       "      <th>2015</th>\n",
       "      <td>40257.0</td>\n",
       "      <td>539.0</td>\n",
       "      <td>-1.420932</td>\n",
       "    </tr>\n",
       "  </tbody>\n",
       "</table>\n",
       "<p>356 rows × 3 columns</p>\n",
       "</div>"
      ],
      "text/plain": [
       "      Real GDP at market prices  unemployment rate  consumer price inflation\n",
       "year                                                                        \n",
       "1660                        NaN                NaN                       NaN\n",
       "1661                        NaN                NaN                       NaN\n",
       "1662                        NaN                NaN                       NaN\n",
       "1663                        NaN                NaN                 -5.439636\n",
       "1664                        NaN                NaN                 -3.635494\n",
       "...                         ...                ...                       ...\n",
       "2011                    25048.0              148.0                  1.165522\n",
       "2012                    22122.0              320.0                 -1.635451\n",
       "2013                    32621.0              348.0                 -0.263443\n",
       "2014                    53413.0              713.0                 -1.103767\n",
       "2015                    40257.0              539.0                 -1.420932\n",
       "\n",
       "[356 rows x 3 columns]"
      ]
     },
     "execution_count": 94,
     "metadata": {},
     "output_type": "execute_result"
    }
   ],
   "source": [
    "# Create a new DataFrame to hold the differenced data\n",
    "df_diff = df.copy()\n",
    "\n",
    "# Loop over all columns in the DataFrame\n",
    "for column in df.columns:\n",
    "    df_diff[column] = df[column].diff()\n",
    "\n",
    "# Display the first few rows of the resulting DataFrame\n",
    "df_diff"
   ]
  },
  {
   "cell_type": "markdown",
   "metadata": {},
   "source": [
    "#### 36. Explain the difference between ACF and PACF."
   ]
  },
  {
   "cell_type": "markdown",
   "metadata": {},
   "source": [
    "The Autocorrelation Function (ACF) measures how a time series observation correlates with its past observations at different time lags. It helps reveal patterns and relationships within the series over time, it highlights if current values are influenced by past values.\n",
    "\n",
    "The Partial Autocorrelation Function (PACF) delves deeper into the relationship between a specific observation and its lagged values while removing the effects of intermediate observations. Unlike the ACF, which measures all correlations across different lags, the PACF focuses solely on the direct correlation between an observation and its lag without considering the influence of intervening observations. \n",
    "\n",
    "ACF gives a broader view by examining correlations at various lags, showcasing the overall correlation structure within the series. On the other hand, PACF narrows down to specific lags, pinpointing direct dependencies while disregarding intermediate relationships. ACF captures general trends and patterns, while PACF reveals the immediate impact of past observations on the current data point."
   ]
  },
  {
   "cell_type": "markdown",
   "metadata": {},
   "source": [
    "#### 37. Plot and comment on the ACF and PACF of all variables."
   ]
  },
  {
   "cell_type": "code",
   "execution_count": 99,
   "metadata": {},
   "outputs": [
    {
     "data": {
      "image/png": "[encoded data removed]",
      "text/plain": [
       "<Figure size 1200x800 with 2 Axes>"
      ]
     },
     "metadata": {},
     "output_type": "display_data"
    },
    {
     "data": {
      "image/png": "[encoded data removed]",
      "text/plain": [
       "<Figure size 1200x800 with 2 Axes>"
      ]
     },
     "metadata": {},
     "output_type": "display_data"
    },
    {
     "data": {
      "image/png": "[encoded data removed]",
      "text/plain": [
       "<Figure size 1200x800 with 2 Axes>"
      ]
     },
     "metadata": {},
     "output_type": "display_data"
    }
   ],
   "source": [
    "import matplotlib.pyplot as plt\n",
    "from statsmodels.graphics.tsaplots import plot_acf, plot_pacf\n",
    "\n",
    "# Loop over all columns in the DataFrame\n",
    "for column in df.columns:\n",
    "    fig, (ax1, ax2) = plt.subplots(2, 1, figsize=(12,8))\n",
    "    \n",
    "    # Plot the ACF\n",
    "    plot_acf(df[column], ax=ax1, lags=5)\n",
    "    ax1.set_title(f'Autocorrelation Function (ACF) of {column}')\n",
    "    ax1.set_xlabel('Lag')\n",
    "    \n",
    "    # Plot the PACF\n",
    "    plot_pacf(df[column], ax=ax2, lags=5)\n",
    "    ax2.set_title(f'Partial Autocorrelation Function (PACF) of {column}')\n",
    "    ax2.set_xlabel('Lag')\n",
    "    \n",
    "    plt.tight_layout()\n",
    "    plt.show()"
   ]
  },
  {
   "cell_type": "markdown",
   "metadata": {},
   "source": [
    "#### 38. Explain the principle of parsimony and its relationship with Ockham’s razor using the theory of information criterion."
   ]
  },
  {
   "cell_type": "markdown",
   "metadata": {},
   "source": [
    "The principle of parsimony suggests that preferring simpler models over more complex ones when both adequately fit the data is better. It's often called Ockham's razor. "
   ]
  },
  {
   "cell_type": "markdown",
   "metadata": {},
   "source": [
    "#### 39. Explain the problem of auto-correlation of the errors."
   ]
  },
  {
   "cell_type": "markdown",
   "metadata": {},
   "source": [
    "Autocorrelation of errors, also known as serial correlation, refers to the presence of correlation among the error terms or residuals of a regression or time series model. This correlation violates the assumption of independence among residuals, which is crucial for the reliability of statistical inferences and model estimations."
   ]
  },
  {
   "cell_type": "markdown",
   "metadata": {},
   "source": [
    "#### 40. Using only stationary variables, run a regression of GDP on constant, unemployment and inflation and test the hypothesis of no-autocorrelation of errors."
   ]
  },
  {
   "cell_type": "markdown",
   "metadata": {},
   "source": [
    "\n",
    "PAG 582 - EXAMPLE 18.3 \n",
    "https://corporatefinanceinstitute.com/resources/data-science/durbin-watson-statistic/\n",
    "The Durbin Watson statistic will always assume a value between 0 and 4. A value of DW = 2 indicates that there is no autocorrelation. First check if we are using only stationary variables."
   ]
  },
  {
   "cell_type": "code",
   "execution_count": 27,
   "metadata": {},
   "outputs": [
    {
     "name": "stdout",
     "output_type": "stream",
     "text": [
      "ADF Test for Real GDP at market prices: p-value = 1.0\n",
      "Real GDP at market prices is not stationary. Differencing...\n",
      "ADF Test for unemployment rate: p-value = 0.9663117154778879\n",
      "unemployment rate is not stationary. Differencing...\n",
      "ADF Test for consumer price inflation: p-value = 2.2639260433493499e-07\n",
      "consumer price inflation is stationary.\n",
      "                                     OLS Regression Results                                    \n",
      "===============================================================================================\n",
      "Dep. Variable:     Q(\"Real GDP at market prices_diff\")   R-squared:                       0.048\n",
      "Model:                                             OLS   Adj. R-squared:                  0.043\n",
      "Method:                                  Least Squares   F-statistic:                     8.921\n",
      "Date:                                 Sat, 09 Dec 2023   Prob (F-statistic):           0.000166\n",
      "Time:                                         05:12:29   Log-Likelihood:                -3999.7\n",
      "No. Observations:                                  355   AIC:                             8005.\n",
      "Df Residuals:                                      352   BIC:                             8017.\n",
      "Df Model:                                            2                                         \n",
      "Covariance Type:                             nonrobust                                         \n",
      "=================================================================================================\n",
      "                                    coef    std err          t      P>|t|      [0.025      0.975]\n",
      "-------------------------------------------------------------------------------------------------\n",
      "Intercept                      3554.4261   1037.223      3.427      0.001    1514.493    5594.359\n",
      "Q(\"unemployment rate_diff\")       5.5383      1.823      3.037      0.003       1.952       9.124\n",
      "Q(\"consumer price inflation\")   435.1681    157.397      2.765      0.006     125.612     744.724\n",
      "==============================================================================\n",
      "Omnibus:                      521.750   Durbin-Watson:                   1.462\n",
      "Prob(Omnibus):                  0.000   Jarque-Bera (JB):           161925.931\n",
      "Skew:                          -7.180   Prob(JB):                         0.00\n",
      "Kurtosis:                     106.638   Cond. No.                         571.\n",
      "==============================================================================\n",
      "\n",
      "Notes:\n",
      "[1] Standard Errors assume that the covariance matrix of the errors is correctly specified.\n",
      "Durbin-Watson Statistic: 1.46160531954726\n",
      "Durbin-Watson statistic suggests positive autocorrelation.\n"
     ]
    }
   ],
   "source": [
    "import statsmodels.api as sm\n",
    "import statsmodels.formula.api as smf\n",
    "from statsmodels.tsa.stattools import adfuller\n",
    "\n",
    "# Check stationarity of variables\n",
    "variables = [\"Real GDP at market prices\", \"unemployment rate\", \"consumer price inflation\"]\n",
    "stationary_variables = []\n",
    "# Replace missing values with the mean of the column\n",
    "df = df.fillna(df.mean())\n",
    "for variable in variables:\n",
    "    adf_result = adfuller(df[variable])\n",
    "    print(f\"ADF Test for {variable}: p-value = {adf_result[1]}\")\n",
    "    if adf_result[1] <= 0.05:\n",
    "        print(f\"{variable} is stationary.\")\n",
    "        stationary_variables.append(variable)\n",
    "    else:\n",
    "        print(f\"{variable} is not stationary. Differencing...\")\n",
    "        df[f\"{variable}_diff\"] = df[variable].diff().dropna()\n",
    "        stationary_variables.append(f\"{variable}_diff\")\n",
    "\n",
    "# Run the regression only if all variables are stationary\n",
    "if len(stationary_variables) == len(variables):\n",
    "    model_formula = 'Q(\"' + stationary_variables[0] + '\") ~ Q(\"' + stationary_variables[1] + '\") + Q(\"' + stationary_variables[2] + '\")'\n",
    "    model = smf.ols(formula=model_formula, data=df)\n",
    "    results = model.fit()\n",
    "\n",
    "    # Print regression summary\n",
    "    print(results.summary())\n",
    "\n",
    "    # Test for autocorrelation of errors (example using Durbin-Watson test)\n",
    "    dw_statistic = sm.stats.stattools.durbin_watson(results.resid)\n",
    "    print(f\"Durbin-Watson Statistic: {dw_statistic}\")\n",
    "\n",
    "    # Interpretation of Durbin-Watson Statistic\n",
    "    if 1.5 < dw_statistic < 2.5:\n",
    "        print(\"Durbin-Watson statistic suggests no significant autocorrelation.\")\n",
    "    elif dw_statistic <= 1.5:\n",
    "        print(\"Durbin-Watson statistic suggests positive autocorrelation.\")\n",
    "    elif dw_statistic >= 2.5:\n",
    "        print(\"Durbin-Watson statistic suggests negative autocorrelation.\")\n",
    "else:\n",
    "    print(\"Not all variables are stationary. Consider transforming the variables.\")"
   ]
  },
  {
   "cell_type": "markdown",
   "metadata": {},
   "source": [
    "#### 41. Regardless of your answer to question 40, correct auto-correlation with GLS. Comment on the difference with question 40."
   ]
  },
  {
   "cell_type": "markdown",
   "metadata": {},
   "source": []
  },
  {
   "cell_type": "code",
   "execution_count": null,
   "metadata": {},
   "outputs": [
    {
     "name": "stdout",
     "output_type": "stream",
     "text": [
      "ADF Test for Real GDP at market prices: p-value = 1.0\n",
      "Real GDP at market prices is not stationary. Differencing...\n",
      "ADF Test for unemployment rate: p-value = 2.9067183648534685e-07\n",
      "unemployment rate is stationary.\n",
      "ADF Test for consumer price inflation: p-value = 1.0\n",
      "consumer price inflation is not stationary. Differencing...\n",
      "                                     OLS Regression Results                                    \n",
      "===============================================================================================\n",
      "Dep. Variable:     Q(\"Real GDP at market prices_diff\")   R-squared:                       0.518\n",
      "Model:                                             OLS   Adj. R-squared:                  0.512\n",
      "Method:                                  Least Squares   F-statistic:                     89.59\n",
      "Date:                                 Fri, 08 Dec 2023   Prob (F-statistic):           3.67e-27\n",
      "Time:                                         11:48:14   Log-Likelihood:                -1839.4\n",
      "No. Observations:                                  170   AIC:                             3685.\n",
      "Df Residuals:                                      167   BIC:                             3694.\n",
      "Df Model:                                            2                                         \n",
      "Covariance Type:                             nonrobust                                         \n",
      "======================================================================================================\n",
      "                                         coef    std err          t      P>|t|      [0.025      0.975]\n",
      "------------------------------------------------------------------------------------------------------\n",
      "Intercept                           6293.7971   1078.692      5.835      0.000    4164.166    8423.428\n",
      "Q(\"unemployment rate\")               117.1709    161.151      0.727      0.468    -200.985     435.327\n",
      "Q(\"consumer price inflation_diff\")  6238.5212    466.885     13.362      0.000    5316.764    7160.278\n",
      "==============================================================================\n",
      "Omnibus:                        3.622   Durbin-Watson:                   1.160\n",
      "Prob(Omnibus):                  0.163   Jarque-Bera (JB):                4.122\n",
      "Skew:                           0.088   Prob(JB):                        0.127\n",
      "Kurtosis:                       3.742   Cond. No.                         7.54\n",
      "==============================================================================\n",
      "\n",
      "Notes:\n",
      "[1] Standard Errors assume that the covariance matrix of the errors is correctly specified.\n",
      "Durbin-Watson Statistic: 1.1604066526046415\n",
      "Durbin-Watson statistic suggests positive autocorrelation.\n"
     ]
    }
   ],
   "source": [
    "import statsmodels.api as sm\n",
    "import statsmodels.formula.api as smf\n",
    "from statsmodels.tsa.stattools import adfuller\n",
    "\n",
    "# Check stationarity of variables\n",
    "variables = [\"Real GDP at market prices\", \"unemployment rate\", \"consumer price inflation\"]\n",
    "stationary_variables = []\n",
    "\n",
    "for variable in variables:\n",
    "    adf_result = adfuller(df[variable])\n",
    "    print(f\"ADF Test for {variable}: p-value = {adf_result[1]}\")\n",
    "    if adf_result[1] <= 0.05:\n",
    "        print(f\"{variable} is stationary.\")\n",
    "        stationary_variables.append(variable)\n",
    "    else:\n",
    "        print(f\"{variable} is not stationary. Differencing...\")\n",
    "        df[f\"{variable}_diff\"] = df[variable].diff().dropna()\n",
    "        stationary_variables.append(f\"{variable}_diff\")\n",
    "\n",
    "# Run the regression only if all variables are stationary\n",
    "if len(stationary_variables) == len(variables):\n",
    "    model_formula = 'Q(\"' + stationary_variables[0] + '\") ~ Q(\"' + stationary_variables[1] + '\") + Q(\"' + stationary_variables[2] + '\")'\n",
    "    model = smf.ols(formula=model_formula, data=df)\n",
    "    results = model.fit()\n",
    "\n",
    "    # Print regression summary\n",
    "    print(results.summary())\n",
    "\n",
    "    # Test for autocorrelation of errors (example using Durbin-Watson test)\n",
    "    dw_statistic = sm.stats.stattools.durbin_watson(results.resid)\n",
    "    print(f\"Durbin-Watson Statistic: {dw_statistic}\")\n",
    "\n",
    "    # Interpretation of Durbin-Watson Statistic\n",
    "    if 1.5 < dw_statistic < 2.5:\n",
    "        print(\"Durbin-Watson statistic suggests no significant autocorrelation.\")\n",
    "    elif dw_statistic <= 1.5:\n",
    "        print(\"Durbin-Watson statistic suggests positive autocorrelation.\")\n",
    "    elif dw_statistic >= 2.5:\n",
    "        print(\"Durbin-Watson statistic suggests negative autocorrelation.\")\n",
    "else:\n",
    "    print(\"Not all variables are stationary. Consider transforming the variables.\")"
   ]
  },
  {
   "cell_type": "markdown",
   "metadata": {},
   "source": [
    "#### 42. For all variables, construct their lag 1 and lag 2 variables."
   ]
  },
  {
   "cell_type": "code",
   "execution_count": 35,
   "metadata": {},
   "outputs": [
    {
     "name": "stdout",
     "output_type": "stream",
     "text": [
      "      Real GDP at market prices  unemployment rate  consumer price inflation  \\\n",
      "year                                                                           \n",
      "1670              276383.061002       20499.429968                  1.086957   \n",
      "1671              276383.061002       20499.429968                 -1.075269   \n",
      "1672              276383.061002       20499.429968                 -3.260870   \n",
      "1673              276383.061002       20499.429968                 -1.123596   \n",
      "1674              276383.061002       20499.429968                  6.818182   \n",
      "\n",
      "      Real GDP at market prices_diff  unemployment rate_diff  \\\n",
      "year                                                           \n",
      "1670                             0.0                     0.0   \n",
      "1671                             0.0                     0.0   \n",
      "1672                             0.0                     0.0   \n",
      "1673                             0.0                     0.0   \n",
      "1674                             0.0                     0.0   \n",
      "\n",
      "      Real GDP at market prices_lag1  Real GDP at market prices_lag2  \\\n",
      "year                                                                   \n",
      "1670                   276383.061002                   276383.061002   \n",
      "1671                   276383.061002                   276383.061002   \n",
      "1672                   276383.061002                   276383.061002   \n",
      "1673                   276383.061002                   276383.061002   \n",
      "1674                   276383.061002                   276383.061002   \n",
      "\n",
      "      unemployment rate_lag1  unemployment rate_lag2  \\\n",
      "year                                                   \n",
      "1670            20499.429968            20499.429968   \n",
      "1671            20499.429968            20499.429968   \n",
      "1672            20499.429968            20499.429968   \n",
      "1673            20499.429968            20499.429968   \n",
      "1674            20499.429968            20499.429968   \n",
      "\n",
      "      consumer price inflation_lag1  consumer price inflation_lag2  \\\n",
      "year                                                                 \n",
      "1670                      -4.166667                       0.000000   \n",
      "1671                       1.086957                      -4.166667   \n",
      "1672                      -1.075269                       1.086957   \n",
      "1673                      -3.260870                      -1.075269   \n",
      "1674                      -1.123596                      -3.260870   \n",
      "\n",
      "      Real GDP at market prices_lag_1  Real GDP at market prices_lag_2  \\\n",
      "year                                                                     \n",
      "1670                              NaN                              NaN   \n",
      "1671                    276383.061002                              NaN   \n",
      "1672                    276383.061002                    276383.061002   \n",
      "1673                    276383.061002                    276383.061002   \n",
      "1674                    276383.061002                    276383.061002   \n",
      "\n",
      "      unemployment rate_lag_1  unemployment rate_lag_2  \\\n",
      "year                                                     \n",
      "1670                      NaN                      NaN   \n",
      "1671             20499.429968                      NaN   \n",
      "1672             20499.429968             20499.429968   \n",
      "1673             20499.429968             20499.429968   \n",
      "1674             20499.429968             20499.429968   \n",
      "\n",
      "      consumer price inflation_lag_1  consumer price inflation_lag_2  \n",
      "year                                                                  \n",
      "1670                             NaN                             NaN  \n",
      "1671                        1.086957                             NaN  \n",
      "1672                       -1.075269                        1.086957  \n",
      "1673                       -3.260870                       -1.075269  \n",
      "1674                       -1.123596                       -3.260870  \n"
     ]
    }
   ],
   "source": [
    "# Assuming df is your DataFrame\n",
    "\n",
    "# List of variables for which you want to construct lag variables\n",
    "variables = [\"Real GDP at market prices\", \"unemployment rate\", \"consumer price inflation\"]\n",
    "\n",
    "# Number of lags to create\n",
    "lags = [1, 2]\n",
    "\n",
    "# Construct lag variables for each specified lag\n",
    "for variable in variables:\n",
    "    for lag in lags:\n",
    "        df[f\"{variable}_lag_{lag}\"] = df[variable].shift(lag)\n",
    "\n",
    "# Display the modified DataFrame with lag variables\n",
    "print(df.head())\n"
   ]
  },
  {
   "cell_type": "markdown",
   "metadata": {},
   "source": [
    "#### 43. Run a regression of GDP on constant, lag 1 unemployment, lag 2 unemployment, lag 1 inflation, lag 2 inflation. What is the number of observations and why?"
   ]
  },
  {
   "cell_type": "markdown",
   "metadata": {},
   "source": [
    "The number of observations is  $ 328 $ and this reflects the number of non-missing observations after handling lagged variables, and the original dataset likely had 330 observations. What happend when we create the lagged variables, lag 1 and 2 for inflation, we lose the first 2 variables because we don't have previous values for these two lags and we lose them. \n",
    "\n",
    "$$ n - 2 $$\n"
   ]
  },
  {
   "cell_type": "code",
   "execution_count": 49,
   "metadata": {},
   "outputs": [
    {
     "name": "stdout",
     "output_type": "stream",
     "text": [
      "                                OLS Regression Results                               \n",
      "=====================================================================================\n",
      "Dep. Variable:     Real GDP at market prices   R-squared:                       0.478\n",
      "Model:                                   OLS   Adj. R-squared:                  0.471\n",
      "Method:                        Least Squares   F-statistic:                     73.80\n",
      "Date:                       Sat, 09 Dec 2023   Prob (F-statistic):           2.29e-44\n",
      "Time:                               06:39:28   Log-Likelihood:                -4606.2\n",
      "No. Observations:                        328   AIC:                             9222.\n",
      "Df Residuals:                            323   BIC:                             9241.\n",
      "Df Model:                                  4                                         \n",
      "Covariance Type:                   nonrobust                                         \n",
      "==========================================================================================\n",
      "                             coef    std err          t      P>|t|      [0.025      0.975]\n",
      "------------------------------------------------------------------------------------------\n",
      "const                  -1.234e+06   9.51e+04    -12.967      0.000   -1.42e+06   -1.05e+06\n",
      "unemployment_rate_lag1    86.5609     29.746      2.910      0.004      28.041     145.081\n",
      "unemployment_rate_lag2   -13.1793     30.154     -0.437      0.662     -72.503      46.144\n",
      "inflation_lag1          1462.0123   2829.088      0.517      0.606   -4103.754    7027.779\n",
      "inflation_lag2          3224.8012   2850.349      1.131      0.259   -2382.792    8832.395\n",
      "==============================================================================\n",
      "Omnibus:                       38.901   Durbin-Watson:                   0.037\n",
      "Prob(Omnibus):                  0.000   Jarque-Bera (JB):               50.421\n",
      "Skew:                           0.953   Prob(JB):                     1.12e-11\n",
      "Kurtosis:                       2.768   Cond. No.                     1.66e+05\n",
      "==============================================================================\n",
      "\n",
      "Notes:\n",
      "[1] Standard Errors assume that the covariance matrix of the errors is correctly specified.\n",
      "[2] The condition number is large, 1.66e+05. This might indicate that there are\n",
      "strong multicollinearity or other numerical problems.\n",
      "Number of observations: 328\n"
     ]
    }
   ],
   "source": [
    "import statsmodels.api as sm\n",
    "\n",
    "# Assuming 'df' is your DataFrame\n",
    "\n",
    "# Create lagged variables\n",
    "df.loc[:, 'unemployment_rate_lag1'] = df['unemployment rate'].shift(1)\n",
    "df.loc[:, 'unemployment_rate_lag2'] = df['unemployment rate'].shift(2)\n",
    "df.loc[:, 'inflation_lag1'] = df['consumer price inflation'].shift(1)\n",
    "df.loc[:, 'inflation_lag2'] = df['consumer price inflation'].shift(2)\n",
    "\n",
    "# Drop rows with NaN values introduced by the shift\n",
    "df = df.dropna()\n",
    "\n",
    "# Define the independent variables\n",
    "X = df[['unemployment_rate_lag1', 'unemployment_rate_lag2', 'inflation_lag1', 'inflation_lag2']]\n",
    "\n",
    "# Add a constant to the independent variables matrix\n",
    "X = sm.add_constant(X)\n",
    "\n",
    "# Define the dependent variable\n",
    "y = df['Real GDP at market prices']\n",
    "\n",
    "# Create the OLS model\n",
    "model = sm.OLS(y, X)\n",
    "\n",
    "# Fit the model\n",
    "results = model.fit()\n",
    "\n",
    "# Print the regression summary\n",
    "print(results.summary())\n",
    "\n",
    "# Number of observations\n",
    "num_observations = len(df)\n",
    "print(f\"Number of observations: {num_observations}\")"
   ]
  },
  {
   "cell_type": "markdown",
   "metadata": {},
   "source": [
    "#### 44. State and test the no-Granger causality hypothesis of inflation on GDP at the 10% level"
   ]
  },
  {
   "cell_type": "markdown",
   "metadata": {},
   "source": []
  },
  {
   "cell_type": "code",
   "execution_count": 41,
   "metadata": {},
   "outputs": [
    {
     "name": "stdout",
     "output_type": "stream",
     "text": [
      "p-values for each lag are:  [0.391, 0.5539]\n",
      "At lag 1, we fail to reject the null hypothesis that inflation does not Granger-cause GDP at the 10% significance level.\n",
      "At lag 2, we fail to reject the null hypothesis that inflation does not Granger-cause GDP at the 10% significance level.\n"
     ]
    },
    {
     "name": "stderr",
     "output_type": "stream",
     "text": [
      "C:\\Users\\Usuario\\AppData\\Roaming\\Python\\Python311\\site-packages\\statsmodels\\tsa\\stattools.py:1488: FutureWarning: verbose is deprecated since functions should not print results\n",
      "  warnings.warn(\n"
     ]
    }
   ],
   "source": [
    "from statsmodels.tsa.stattools import grangercausalitytests\n",
    "\n",
    "# Define the maximum number of lags to test for Granger causality\n",
    "maxlag = 2\n",
    "\n",
    "# Run the Granger causality test\n",
    "test_result = grangercausalitytests(df[['Real GDP at market prices', 'consumer price inflation']], maxlag, verbose=False)\n",
    "\n",
    "# Extract the p-values for each lag\n",
    "p_values = [round(test_result[i+1][0]['ssr_ftest'][1],4) for i in range(maxlag)]\n",
    "\n",
    "# Print the p-values\n",
    "print('p-values for each lag are: ', p_values)\n",
    "\n",
    "# Check if p-value is less than 0.10 at each lag\n",
    "for i in range(maxlag):\n",
    "    if p_values[i] < 0.10:\n",
    "        print(f\"At lag {i+1}, we reject the null hypothesis that inflation does not Granger-cause GDP at the 10% significance level.\")\n",
    "    else:\n",
    "        print(f\"At lag {i+1}, we fail to reject the null hypothesis that inflation does not Granger-cause GDP at the 10% significance level.\")"
   ]
  },
  {
   "cell_type": "markdown",
   "metadata": {},
   "source": [
    "#### 45. Divide the sample in two groups: 1900-1950 and 1951-2000. Test the stability of coefficients between the two periods."
   ]
  },
  {
   "cell_type": "markdown",
   "metadata": {},
   "source": []
  }
 ],
 "metadata": {
  "kernelspec": {
   "display_name": "Python 3 (ipykernel)",
   "language": "python",
   "name": "python3"
  },
  "language_info": {
   "codemirror_mode": {
    "name": "ipython",
    "version": 3
   },
   "file_extension": ".py",
   "mimetype": "text/x-python",
   "name": "python",
   "nbconvert_exporter": "python",
   "pygments_lexer": "ipython3",
   "version": "3.11.2"
  }
 },
 "nbformat": 4,
 "nbformat_minor": 2
}
