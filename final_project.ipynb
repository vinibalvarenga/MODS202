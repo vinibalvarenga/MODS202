{
 "cells": [
  {
   "cell_type": "markdown",
   "metadata": {},
   "source": [
    "Students:\n",
    "\n",
    "Gabriel Mauricio Molina\n",
    "\n",
    "Vinícius Barros Alvarenga\n",
    "\n",
    "---"
   ]
  },
  {
   "cell_type": "code",
   "execution_count": 1,
   "metadata": {},
   "outputs": [
    {
     "data": {
      "text/html": [
       "<div>\n",
       "<style scoped>\n",
       "    .dataframe tbody tr th:only-of-type {\n",
       "        vertical-align: middle;\n",
       "    }\n",
       "\n",
       "    .dataframe tbody tr th {\n",
       "        vertical-align: top;\n",
       "    }\n",
       "\n",
       "    .dataframe thead th {\n",
       "        text-align: right;\n",
       "    }\n",
       "</style>\n",
       "<table border=\"1\" class=\"dataframe\">\n",
       "  <thead>\n",
       "    <tr style=\"text-align: right;\">\n",
       "      <th></th>\n",
       "      <th>price</th>\n",
       "      <th>crime</th>\n",
       "      <th>nox</th>\n",
       "      <th>rooms</th>\n",
       "      <th>dist</th>\n",
       "      <th>radial</th>\n",
       "      <th>proptax</th>\n",
       "      <th>stratio</th>\n",
       "      <th>lowstat</th>\n",
       "      <th>lprice</th>\n",
       "      <th>lnox</th>\n",
       "      <th>lproptax</th>\n",
       "    </tr>\n",
       "  </thead>\n",
       "  <tbody>\n",
       "    <tr>\n",
       "      <th>0</th>\n",
       "      <td>24000</td>\n",
       "      <td>0.006</td>\n",
       "      <td>5.38</td>\n",
       "      <td>6.57</td>\n",
       "      <td>4.09</td>\n",
       "      <td>1</td>\n",
       "      <td>29.6</td>\n",
       "      <td>15.3</td>\n",
       "      <td>4.98</td>\n",
       "      <td>10.085810</td>\n",
       "      <td>1.682688</td>\n",
       "      <td>5.690360</td>\n",
       "    </tr>\n",
       "    <tr>\n",
       "      <th>1</th>\n",
       "      <td>21599</td>\n",
       "      <td>0.027</td>\n",
       "      <td>4.69</td>\n",
       "      <td>6.42</td>\n",
       "      <td>4.97</td>\n",
       "      <td>2</td>\n",
       "      <td>24.2</td>\n",
       "      <td>17.8</td>\n",
       "      <td>9.14</td>\n",
       "      <td>9.980402</td>\n",
       "      <td>1.545433</td>\n",
       "      <td>5.488938</td>\n",
       "    </tr>\n",
       "    <tr>\n",
       "      <th>2</th>\n",
       "      <td>34700</td>\n",
       "      <td>0.027</td>\n",
       "      <td>4.69</td>\n",
       "      <td>7.18</td>\n",
       "      <td>4.97</td>\n",
       "      <td>2</td>\n",
       "      <td>24.2</td>\n",
       "      <td>17.8</td>\n",
       "      <td>4.03</td>\n",
       "      <td>10.454500</td>\n",
       "      <td>1.545433</td>\n",
       "      <td>5.488938</td>\n",
       "    </tr>\n",
       "    <tr>\n",
       "      <th>3</th>\n",
       "      <td>33400</td>\n",
       "      <td>0.032</td>\n",
       "      <td>4.58</td>\n",
       "      <td>7.00</td>\n",
       "      <td>6.06</td>\n",
       "      <td>3</td>\n",
       "      <td>22.2</td>\n",
       "      <td>18.7</td>\n",
       "      <td>2.94</td>\n",
       "      <td>10.416310</td>\n",
       "      <td>1.521699</td>\n",
       "      <td>5.402678</td>\n",
       "    </tr>\n",
       "    <tr>\n",
       "      <th>4</th>\n",
       "      <td>36199</td>\n",
       "      <td>0.069</td>\n",
       "      <td>4.58</td>\n",
       "      <td>7.15</td>\n",
       "      <td>6.06</td>\n",
       "      <td>3</td>\n",
       "      <td>22.2</td>\n",
       "      <td>18.7</td>\n",
       "      <td>5.33</td>\n",
       "      <td>10.496790</td>\n",
       "      <td>1.521699</td>\n",
       "      <td>5.402678</td>\n",
       "    </tr>\n",
       "  </tbody>\n",
       "</table>\n",
       "</div>"
      ],
      "text/plain": [
       "   price  crime   nox  rooms  dist  radial  proptax  stratio  lowstat  \\\n",
       "0  24000  0.006  5.38   6.57  4.09       1     29.6     15.3     4.98   \n",
       "1  21599  0.027  4.69   6.42  4.97       2     24.2     17.8     9.14   \n",
       "2  34700  0.027  4.69   7.18  4.97       2     24.2     17.8     4.03   \n",
       "3  33400  0.032  4.58   7.00  6.06       3     22.2     18.7     2.94   \n",
       "4  36199  0.069  4.58   7.15  6.06       3     22.2     18.7     5.33   \n",
       "\n",
       "      lprice      lnox  lproptax  \n",
       "0  10.085810  1.682688  5.690360  \n",
       "1   9.980402  1.545433  5.488938  \n",
       "2  10.454500  1.545433  5.488938  \n",
       "3  10.416310  1.521699  5.402678  \n",
       "4  10.496790  1.521699  5.402678  "
      ]
     },
     "execution_count": 1,
     "metadata": {},
     "output_type": "execute_result"
    }
   ],
   "source": [
    "# Imports and the initial dataset\n",
    "import numpy as np\n",
    "import pandas as pd\n",
    "import matplotlib.pyplot as plt\n",
    "\n",
    "columns_names = [\"price\", \"crime\", \"nox\", \"rooms\", \"dist\", \"radial\", \"proptax\", \"stratio\", \"lowstat\", \"lprice\", \"lnox\", \"lproptax\"]\n",
    "df=pd.read_csv(\"textfiles/hprice2.raw\",delim_whitespace=True, header=None, names=columns_names)\n",
    "\n",
    "df.head()"
   ]
  },
  {
   "cell_type": "markdown",
   "metadata": {},
   "source": [
    "# PART 1 - CROSS-SECTION DATA\n",
    "This part uses the dataset HPRICE2.RAW described in HPRICE2.DES."
   ]
  },
  {
   "cell_type": "markdown",
   "metadata": {},
   "source": [
    "#### 1. State the fundamental hypothesis under which the Ordinary Least Squares (OLS) estimators are unbiased."
   ]
  },
  {
   "cell_type": "markdown",
   "metadata": {},
   "source": [
    "Given a linear model for two variables *y* and *x*, we will write a linear model that explains *y* in terms of *x*:\n",
    "\n",
    "$$ y = \\beta _0 +\\beta_1x+u$$\n",
    "\n",
    "Where $\\beta_1$ is the cetteribus paribus effect, $\\beta_0$ is the intercept parameter and $u$ is the error term, in another words, the \"unobserved\" aspects.\n",
    "To obtain this linear model we have to obtain $\\beta_0$ and $\\beta_1$. For this, we assume the fundamental Hyposthesis under which the Ordinary Least Squares (OLS) estimatores are unbiased, which is:\n",
    "\n",
    "$$ E(u|x) = E(u) = 0$$\n",
    "\n",
    "This assumptions says that the average of *u* in the population is zero. Also, it says how *u* and *x* are correlated, i.e., for any given value of x, the average of the unobservables is the same and therefore must equal the average value of *u* in the entire population, which is zero."
   ]
  },
  {
   "cell_type": "markdown",
   "metadata": {},
   "source": [
    "#### 2. Show that under this assumption the OLS estimators are indeed unbiased."
   ]
  },
  {
   "cell_type": "markdown",
   "metadata": {},
   "source": [
    "\n",
    "In this section, we will first find the estimators $\\hat \\beta_0$ and $\\hat \\beta_1$ of the coefficients $\\beta_0$ and $\\beta_1$, respectivaly, in the linear model. Then we will prove that these estimators are unbiased.\n",
    "\n",
    "The linear model is given by:\n",
    "\n",
    "$$ y = \\beta_0 + \\beta_1x + u $$\n",
    "\n",
    "where $y$ is the dependent variable, $x$ is the independent variable, and $u$ is the error term.\n",
    "\n",
    "To estimate the coefficients, we will use the Ordinary Least Squares (OLS) method. We assume that we have a sample of population $x_i$ and $y_i$, where $i = 1, 2, ..., n$ and $n$ is the number of observations. So we can write the above equation for the samples as:\n",
    "\n",
    "The linear model equation for the samples is given by:\n",
    "\n",
    "$$ y_i = \\beta_0 + \\beta_1x_i + u_i $$\n",
    "\n",
    "\n",
    "Isolanting the error for each sample we have that:\n",
    "\n",
    "$$ u_i = y_i - \\beta_0 - \\beta_1x_i $$\n",
    "\n",
    "Now we use the fundamental hypothesis for the last exercice to derive the estimators.\n",
    "\n",
    "$$E(u_i) = E(y_i - \\beta_0 - \\beta_1x_i) = 0 \\quad\\quad\\quad\\quad\\quad$$ \n",
    "\n",
    "$$Cov(u_i,x_i) = E(x_i u_i) = E(x_i(y_i - \\beta_0 - \\beta_1x_i))= 0  \\quad\\quad\\quad $$ \n",
    "\n",
    "\n",
    "Developing these equations  by the definition of expectation follows that:\n",
    "\n",
    "$$ \n",
    "n^{-1} \\sum_{i=1}^{n}(y_i - \\hat \\beta_0 - \\hat \\beta_1x_i) = 0 \\quad\\quad\\quad\\quad\\quad (i)\n",
    "$$\n",
    "\n",
    "$$\n",
    "n^{-1}\\sum_{i=1}^{n}x_i(y_i - \\hat \\beta_0 - \\hat \\beta_1x_i) = 0 \\quad\\quad\\quad\\quad\\quad (ii)\n",
    "$$\n",
    "\n",
    "Opening the summation on $(i)$ we have that:\n",
    "\n",
    "$$ \\hat \\beta_0 = \\frac{1}{n}\\sum_{i=1}^{n}y_i - \\hat \\beta_1 \\frac{1}{n}\\sum_{i=1}^{n}x_i $$\n",
    "\n",
    "Wich can be written as:\n",
    "\n",
    "$$ \\hat \\beta_0 = \\bar y - \\hat \\beta_1 \\bar x \\quad\\quad\\quad\\quad\\quad (I)$$\n",
    "\n",
    "Now, for the second expression $(ii)$ we drop the term $n^{-1}$ and substitute the value of $\\hat \\beta_0$ from $(I)$:\n",
    "\n",
    "$$\n",
    "\\sum_{i=1}^{n}x_i(y_i - (\\bar y - \\hat \\beta_1 \\bar x )- \\hat \\beta_1x_i) = 0 \n",
    "$$\n",
    "\n",
    "Which, upon rearrangement, gives:\n",
    "\n",
    "$$\n",
    "\\sum_{i=1}^{n}x_i(y_i-\\bar y) =\\hat \\beta_1 \\sum_{i=1}^{n}x_i (x_i - \\bar x)\n",
    "$$\n",
    "\n",
    "From basic properties of the summation operator:\n",
    "\n",
    "$\\sum_{i=1}^{n}x_i(y_i-\\bar y) =\\sum_{i=1}^{n}(x_i-\\bar x)(y_i-\\bar y)$ and $ \\sum_{i=1}^{n}x_i (x_i - \\bar x) = \\sum_{i=1}^{n}(x_i-\\bar x)^2$\n",
    "\n",
    "Then, we find that $\\beta_1$ is:\n",
    "\n",
    "$$ \\hat \\beta_1 = \\frac{\\sum_{i=1}^{n}(x_i - \\bar x)(y_i - \\bar y)}{\\sum_{i=1}^{n}(x_i - \\bar x)^2} \\quad\\quad\\quad\\quad\\quad (II)$$\n",
    "\n",
    "can be written as:\n",
    "\n",
    "Finally, the OLS estimators are given by:\n",
    "\n",
    "$$ \\hat \\beta_1 = \\frac{\\sum_{i=1}^{n}(x_i - \\bar x)(y_i - \\bar y)}{\\sum_{i=1}^{n}(x_i - \\bar x)^2} $$\n",
    "\n",
    "$$ \\hat \\beta_0 = \\bar y - \\hat \\beta_1 \\bar x $$\n",
    "\n",
    "where $n$ is the number of observations, $x_i$ and $y_i$ are the values of the independent and dependent variables, respectively, and $\\bar x$ and $\\bar y$ are the sample means of the independent and dependent variables, respectively.\n",
    "\n",
    "---\n",
    "\n",
    "Now, we can prove that those estimators are unbiased, for this we have to prove that $E(\\hat \\beta_1)=\\beta_1$ and $E(\\hat \\beta_0)=\\beta_0$.\n",
    "\n",
    "We can rewrite the expression of $\\hat \\beta_1$ at $(II)$ using the fact that $\\sum_{i=1}^{n}(x_i-\\bar x)(y_i-\\bar y)=\\sum_{i=1}^{n}y_i(x_i-\\bar x)$:\n",
    "\n",
    "$$ \n",
    " \\hat \\beta_1 = \\frac{\\sum_{i=1}^{n}y_i(x_i-\\bar x)}{\\sum_{i=1}^{n}(x_i - \\bar x)^2} \n",
    "$$\n",
    "\n",
    "Using $s_x^2=\\sum_{i=1}^{n}(x_i - \\bar x)^2$ to simplify the notation and $ y_i = \\beta_0 + \\beta_1x_i + u_i $:\n",
    "\n",
    "$$ \n",
    " \\hat \\beta_1 = \\frac{\\sum_{i=1}^{n}(x_i-\\bar x)(\\beta_0 + \\beta_1x_i + u_i)}{s_x^2} \n",
    "$$\n",
    "\n",
    "First, we open the numerator with the goal to simply it:\n",
    "\n",
    "$$\n",
    "\\sum_{i=1}^{n}(x_i-\\bar x)(\\beta_0 + \\beta_1x_i + u_i) = \\sum_{i=1}^{n}(x_i-\\bar x)\\beta_0 + \\sum_{i=1}^{n}(x_i-\\bar x)\\beta_1 x_i + \\sum_{i=1}^{n}(x_i-\\bar x) u_i =  \\beta_0 \\sum_{i=1}^{n}(x_i-\\bar x)+ \\beta_1\\sum_{i=1}^{n}(x_i-\\bar x)x_i +  \\sum_{i=1}^{n}(x_i-\\bar x)u_i\n",
    "$$\n",
    "\n",
    "But, we have that:\n",
    "\n",
    "$\\sum_{i=1}^{n}(x_i-\\bar x)=0$ and $\\sum_{i=1}^{n}(x_i-\\bar x)x_i = \\sum_{i=1}^{n}(x_i-\\bar x)^2=s_x^2$ so the numerator is: $\\beta_1 s_x^2 + \\sum_{i=1}^{n}(x_i-\\bar x)u_i$\n",
    "\n",
    "Which gives us the $\\beta_1$:\n",
    "\n",
    "$$\n",
    "\\hat \\beta_1 =  \\beta_1 + \\frac{\\sum_{i=1}^{n}(x_i-\\bar x)u_i}{s_x^2}\n",
    "$$\n",
    "\n",
    "\n",
    "Now we can compute the expectated value of it:\n",
    "\n",
    "$$ \n",
    "E(\\hat \\beta_1) = E(\\beta_1) + E(\\frac{\\sum_{i=1}^{n}(x_i-\\bar x)u_i}{s_x^2}) = \\beta_1 +(\\frac{1}{s_x^2})\\sum_{i=1}^{n}E((x_i-\\bar x)u_i) = \\beta_1 +(\\frac{1}{s_x^2})\\sum_{i=1}^{n}E((x_i-\\bar x))E(u_i) \n",
    "$$\n",
    "\n",
    "But, as for our assumption $E(u_i)=0$, so $E(\\hat \\beta_1) = \\beta_1$ and we conclude that $\\hat \\beta_1$ is unbiased.\n",
    "\n",
    "For $\\hat \\beta_0$:\n",
    "\n",
    "$$\n",
    "E(\\hat \\beta_0) = E(\\bar y - \\hat \\beta_1 \\bar x) = E((\\beta_0 + \\beta_1 \\bar x + \\bar u) - \\hat \\beta_1 \\bar x) = E(\\beta_0 + (\\beta_1  - \\hat \\beta_1)\\bar x + \\bar u) = \\beta_0 + E((\\beta_1  - \\hat \\beta_1)\\bar x )\n",
    "$$\n",
    "\n",
    "As $E(\\bar u)= 0$ and $E(\\hat \\beta_1) = \\beta_1 $ we have that $E((\\beta_1  - \\hat \\beta_1)\\bar x ) = 0$ and $E(\\hat \\beta_0) = \\beta_0$ and thus, $\\hat \\beta_0$ is unbiased"
   ]
  },
  {
   "cell_type": "markdown",
   "metadata": {},
   "source": [
    "#### 3. Explain the sample selection bias with an example from the course."
   ]
  },
  {
   "cell_type": "markdown",
   "metadata": {},
   "source": [
    "Sample selection bias arises when the sample used does not adequately represent the entire population, leading to erroneous conclusions.\n",
    "\n",
    "In our course, we examined the example of RAF warplanes during World War II. British engineers analyzed the returning planes to identify the most damaged areas and enhance their resilience in those spots. However, a critical issue emerged: the planes that were shot down were not included in the sample, and these aircraft often displayed extensive damage in specific areas. Consequently, the engineers' conclusions were skewed by this selection bias, as they were unable to identify the critical areas for reinforcement solely by examining the limited sample."
   ]
  },
  {
   "cell_type": "markdown",
   "metadata": {},
   "source": [
    "#### 4. Explain the omitted variable bias with an example from the course\n"
   ]
  },
  {
   "cell_type": "markdown",
   "metadata": {},
   "source": [
    "The ommited variable bias occours when we ommit a variable that actually belongs in the true, population, model. \n",
    "\n",
    "In the course we saw the example in which we were trying to explaing how the wage of a person can be explained by how many years of education the person has and the innate ability of that person, so our model should be like:\n",
    "\n",
    "$$ \n",
    "wage = \\beta_0 + \\beta_1 educ + \\beta_2 abil + u.\n",
    "$$\n",
    "\n",
    "This model obtains $\\beta_0$, $\\beta_1$ and $\\beta_2$ which are unbiased, i.e, we runned a regression in *educ* and *abil* and got these unbiased coeficients.\n",
    "\n",
    "Although, imagine that for ignorance or data inavability we exclude $\\beta_2$, running a regression with only *educ*, that gives us the following model:\n",
    "\n",
    "$$\n",
    "wage = \\tilde{\\beta}_0 + \\tilde{\\beta}_1 educ + v\n",
    "$$\n",
    "\n",
    "In this new model we have that $v = \\beta_2 abil + u$, and that $\\tilde{\\beta}_1 \\neq \\beta_1$. In fact, when we don't include the other variable in our regression we obtain, in general, an biased estimator $\\tilde{\\beta}_1$.\n",
    "\n",
    "It can be shown that $ E(\\tilde{\\beta}_1) = \\beta_1 + \\tilde{\\beta}_2 \\tilde{\\delta}_1$, where $\\tilde{\\delta}_1$ is the sample covariance between *educ* and *abil*. So $\\tilde{\\beta}_1$ is unbiased only if $\\tilde{\\delta}_1=0$, which means that *educ* and *abil* are uncorrelated.\n",
    "\n",
    "In our example, in general, we believe that *educ* and *abil* are positive correlated and as more hability leads to higher productivity we have that $\\beta_2 > 0$, so we conclude that the OLS estimators for the equation $wage = \\tilde{\\beta}_0 + \\tilde{\\beta}_0 educ + v$ are on average too large."
   ]
  },
  {
   "cell_type": "markdown",
   "metadata": {},
   "source": [
    "#### 5. Explain the problem of multicollinearity. Is it a problem in this dataset?\n"
   ]
  },
  {
   "cell_type": "markdown",
   "metadata": {},
   "source": [
    "Multicolinearity occurs when we have a strong, but not perfect, correlation between two or more independent variables. For instance imagine that the variable $x_j$ has a strong, but not perfect, correlation with the others, this leads to a high variance of the estimator $\\hat \\beta_j$.\n",
    "\n",
    "Also, if we have multicolliearity the matrix *X*, the matrix which the columns are the sample values for the independent variables, will be such that $det(X X^{-1})$ is equal or close to zero."
   ]
  },
  {
   "cell_type": "code",
   "execution_count": 2,
   "metadata": {},
   "outputs": [
    {
     "name": "stdout",
     "output_type": "stream",
     "text": [
      "4.036293260468671e+42\n",
      "There is no multicollinearity in the data.\n"
     ]
    }
   ],
   "source": [
    "X = df.copy()\n",
    "\n",
    "det_x = np.linalg.det(X.T.dot(X))\n",
    "print(det_x)\n",
    "\n",
    "if det_x < 1e-10 and  det_x > -1e-10: \n",
    "    print(\"There is multicollinearity in the data.\")\n",
    "else:\n",
    "    print(\"There is no multicollinearity in the data.\")\n",
    "\n"
   ]
  },
  {
   "cell_type": "markdown",
   "metadata": {},
   "source": [
    "#### 6. Create three categories of nox levels (low, medium, high), corresponding to the following percentiles: 0-39%, 40%-60%, 61%-100% "
   ]
  },
  {
   "cell_type": "markdown",
   "metadata": {},
   "source": [
    "Firstly, we define the percentiles $ [0, 40, 61, 100] $, these will be used to divide the 'nox' column into categories (low, medium, high).\n",
    "\n",
    "Secondly, with the numpy.percentile function, we calculate the specified percentiles for the 'nox' column in the DataFrame df that we have defined. It computes the values at the given percentiles and stores them in the nox_percentiles array.\n",
    "\n",
    "Thirdly, creating a new column in the DataFrame called 'nox_category'. It uses numpy.where to assign categories ('low', 'medium', 'high') based on the conditions of the excersise. It checks if 'nox' is within certain ranges defined by the percentiles and assigns the corresponding category.\n"
   ]
  },
  {
   "cell_type": "code",
   "execution_count": 3,
   "metadata": {},
   "outputs": [
    {
     "data": {
      "text/html": [
       "<div>\n",
       "<style scoped>\n",
       "    .dataframe tbody tr th:only-of-type {\n",
       "        vertical-align: middle;\n",
       "    }\n",
       "\n",
       "    .dataframe tbody tr th {\n",
       "        vertical-align: top;\n",
       "    }\n",
       "\n",
       "    .dataframe thead th {\n",
       "        text-align: right;\n",
       "    }\n",
       "</style>\n",
       "<table border=\"1\" class=\"dataframe\">\n",
       "  <thead>\n",
       "    <tr style=\"text-align: right;\">\n",
       "      <th></th>\n",
       "      <th>price</th>\n",
       "      <th>crime</th>\n",
       "      <th>nox</th>\n",
       "      <th>rooms</th>\n",
       "      <th>dist</th>\n",
       "      <th>radial</th>\n",
       "      <th>proptax</th>\n",
       "      <th>stratio</th>\n",
       "      <th>lowstat</th>\n",
       "      <th>lprice</th>\n",
       "      <th>lnox</th>\n",
       "      <th>lproptax</th>\n",
       "      <th>nox_category</th>\n",
       "    </tr>\n",
       "  </thead>\n",
       "  <tbody>\n",
       "    <tr>\n",
       "      <th>0</th>\n",
       "      <td>24000</td>\n",
       "      <td>0.006</td>\n",
       "      <td>5.38</td>\n",
       "      <td>6.57</td>\n",
       "      <td>4.09</td>\n",
       "      <td>1</td>\n",
       "      <td>29.6</td>\n",
       "      <td>15.3</td>\n",
       "      <td>4.98</td>\n",
       "      <td>10.085810</td>\n",
       "      <td>1.682688</td>\n",
       "      <td>5.690360</td>\n",
       "      <td>medium</td>\n",
       "    </tr>\n",
       "    <tr>\n",
       "      <th>1</th>\n",
       "      <td>21599</td>\n",
       "      <td>0.027</td>\n",
       "      <td>4.69</td>\n",
       "      <td>6.42</td>\n",
       "      <td>4.97</td>\n",
       "      <td>2</td>\n",
       "      <td>24.2</td>\n",
       "      <td>17.8</td>\n",
       "      <td>9.14</td>\n",
       "      <td>9.980402</td>\n",
       "      <td>1.545433</td>\n",
       "      <td>5.488938</td>\n",
       "      <td>low</td>\n",
       "    </tr>\n",
       "    <tr>\n",
       "      <th>2</th>\n",
       "      <td>34700</td>\n",
       "      <td>0.027</td>\n",
       "      <td>4.69</td>\n",
       "      <td>7.18</td>\n",
       "      <td>4.97</td>\n",
       "      <td>2</td>\n",
       "      <td>24.2</td>\n",
       "      <td>17.8</td>\n",
       "      <td>4.03</td>\n",
       "      <td>10.454500</td>\n",
       "      <td>1.545433</td>\n",
       "      <td>5.488938</td>\n",
       "      <td>low</td>\n",
       "    </tr>\n",
       "    <tr>\n",
       "      <th>3</th>\n",
       "      <td>33400</td>\n",
       "      <td>0.032</td>\n",
       "      <td>4.58</td>\n",
       "      <td>7.00</td>\n",
       "      <td>6.06</td>\n",
       "      <td>3</td>\n",
       "      <td>22.2</td>\n",
       "      <td>18.7</td>\n",
       "      <td>2.94</td>\n",
       "      <td>10.416310</td>\n",
       "      <td>1.521699</td>\n",
       "      <td>5.402678</td>\n",
       "      <td>low</td>\n",
       "    </tr>\n",
       "    <tr>\n",
       "      <th>4</th>\n",
       "      <td>36199</td>\n",
       "      <td>0.069</td>\n",
       "      <td>4.58</td>\n",
       "      <td>7.15</td>\n",
       "      <td>6.06</td>\n",
       "      <td>3</td>\n",
       "      <td>22.2</td>\n",
       "      <td>18.7</td>\n",
       "      <td>5.33</td>\n",
       "      <td>10.496790</td>\n",
       "      <td>1.521699</td>\n",
       "      <td>5.402678</td>\n",
       "      <td>low</td>\n",
       "    </tr>\n",
       "  </tbody>\n",
       "</table>\n",
       "</div>"
      ],
      "text/plain": [
       "   price  crime   nox  rooms  dist  radial  proptax  stratio  lowstat  \\\n",
       "0  24000  0.006  5.38   6.57  4.09       1     29.6     15.3     4.98   \n",
       "1  21599  0.027  4.69   6.42  4.97       2     24.2     17.8     9.14   \n",
       "2  34700  0.027  4.69   7.18  4.97       2     24.2     17.8     4.03   \n",
       "3  33400  0.032  4.58   7.00  6.06       3     22.2     18.7     2.94   \n",
       "4  36199  0.069  4.58   7.15  6.06       3     22.2     18.7     5.33   \n",
       "\n",
       "      lprice      lnox  lproptax nox_category  \n",
       "0  10.085810  1.682688  5.690360       medium  \n",
       "1   9.980402  1.545433  5.488938          low  \n",
       "2  10.454500  1.545433  5.488938          low  \n",
       "3  10.416310  1.521699  5.402678          low  \n",
       "4  10.496790  1.521699  5.402678          low  "
      ]
     },
     "execution_count": 3,
     "metadata": {},
     "output_type": "execute_result"
    }
   ],
   "source": [
    "# 1. Define the percentiles\n",
    "percentiles = [0, 40, 61, 100]\n",
    "\n",
    "# 2. Use numpy.percentile to calculate the specified percentiles for the 'nox' column\n",
    "nox_percentiles = np.percentile(df['nox'], percentiles)\n",
    "\n",
    "# 3. Create categories using numpy.where\n",
    "df['nox_category'] = np.where((df['nox'] >= nox_percentiles[0]) & (df['nox'] <= nox_percentiles[1]), 'low',\n",
    "                              np.where((df['nox'] > nox_percentiles[1]) & (df['nox'] <= nox_percentiles[2]), 'medium', 'high'))\n",
    "\n",
    "# 4. Display the updated dataframe\n",
    "df.head()"
   ]
  },
  {
   "cell_type": "markdown",
   "metadata": {},
   "source": [
    "#### 7. Compute for each category of nox level the average median price and comment on your results"
   ]
  },
  {
   "cell_type": "markdown",
   "metadata": {},
   "source": [
    "Firstly, we calculate the average price for each category of 'nox' concentration, for that we use \"groupby\" method in Pandas to group the DataFrame df by the values in the 'nox_category' column. We select the 'price' column and calculate the mean for each group. The result is a Pandas Series where each category of 'nox' has an associated average price.\n",
    "\n",
    "Finally, we print the calculated average prices for each 'nox_category' to observe the relationship between nox levels and the average median housing price.\n"
   ]
  },
  {
   "cell_type": "code",
   "execution_count": 4,
   "metadata": {},
   "outputs": [
    {
     "data": {
      "text/plain": [
       "nox_category\n",
       "high      18443.744792\n",
       "low       27170.609524\n",
       "medium    20613.432692\n",
       "Name: price, dtype: float64"
      ]
     },
     "execution_count": 4,
     "metadata": {},
     "output_type": "execute_result"
    }
   ],
   "source": [
    "# Calculate the average price for each 'nox_category'\n",
    "grouped = df.groupby('nox_category')\n",
    "average_price_by_nox_category = grouped['price'].mean()\n",
    "\n",
    "# Display the results\n",
    "average_price_by_nox_category\n"
   ]
  },
  {
   "cell_type": "markdown",
   "metadata": {},
   "source": [
    "#### 8. Produce a scatter plot with the variable price on the y-axis and the variable nox on the x-axis. Is this a ceteris paribus effect?"
   ]
  },
  {
   "cell_type": "code",
   "execution_count": 5,
   "metadata": {},
   "outputs": [
    {
     "data": {
      "image/png": "[encoded data removed]",
      "text/plain": [
       "<Figure size 640x480 with 1 Axes>"
      ]
     },
     "metadata": {},
     "output_type": "display_data"
    }
   ],
   "source": [
    "# Importing necessary libraries\n",
    "import matplotlib.pyplot as plt\n",
    "\n",
    "# Scatter plot\n",
    "plt.scatter(df['nox'], df['price'], alpha=0.5)\n",
    "plt.title('Scatter Plot of Price vs. NOx')\n",
    "plt.xlabel('NOx (Nitrous Oxide Levels)')\n",
    "plt.ylabel('Price')\n",
    "plt.show()\n"
   ]
  },
  {
   "cell_type": "markdown",
   "metadata": {},
   "source": [
    "The ceteribus paribus effect mesures the effect of one variable on another when all others are constant.\n",
    "\n",
    "The scatter plot doesn't measure this, we can't see that other variables are held constant, only the relations between various tuples of values of price and nox. This can show us if the variables have a correlation or not, and makes us able to mesure this quantity. But we can't see that there are or not another variables on the play with only this plot. So, we can't conclude anything with the scatter plot concerning the ceteribus paribus."
   ]
  },
  {
   "cell_type": "markdown",
   "metadata": {},
   "source": [
    "#### 9. Run a regression of price on a constant, crime, nox, rooms, proptax. Comment on the histogram of the residuals. Interpret all coefficients."
   ]
  },
  {
   "cell_type": "code",
   "execution_count": 6,
   "metadata": {},
   "outputs": [
    {
     "name": "stdout",
     "output_type": "stream",
     "text": [
      "                            OLS Regression Results                            \n",
      "==============================================================================\n",
      "Dep. Variable:                  price   R-squared:                       0.575\n",
      "Model:                            OLS   Adj. R-squared:                  0.572\n",
      "Method:                 Least Squares   F-statistic:                     169.6\n",
      "Date:                Sun, 10 Dec 2023   Prob (F-statistic):           1.06e-91\n",
      "Time:                        19:50:48   Log-Likelihood:                -5119.6\n",
      "No. Observations:                 506   AIC:                         1.025e+04\n",
      "Df Residuals:                     501   BIC:                         1.027e+04\n",
      "Df Model:                           4                                         \n",
      "Covariance Type:            nonrobust                                         \n",
      "==============================================================================\n",
      "                 coef    std err          t      P>|t|      [0.025      0.975]\n",
      "------------------------------------------------------------------------------\n",
      "const      -1.868e+04   3215.205     -5.811      0.000    -2.5e+04   -1.24e+04\n",
      "crime       -136.5438     38.529     -3.544      0.000    -212.241     -60.846\n",
      "nox         -660.4672    314.634     -2.099      0.036   -1278.632     -42.303\n",
      "rooms       7797.9286    404.345     19.285      0.000    7003.507    8592.350\n",
      "proptax      -89.4144     23.966     -3.731      0.000    -136.500     -42.329\n",
      "==============================================================================\n",
      "Omnibus:                      264.796   Durbin-Watson:                   0.752\n",
      "Prob(Omnibus):                  0.000   Jarque-Bera (JB):             2348.397\n",
      "Skew:                           2.111   Prob(JB):                         0.00\n",
      "Kurtosis:                      12.673   Cond. No.                         546.\n",
      "==============================================================================\n",
      "\n",
      "Notes:\n",
      "[1] Standard Errors assume that the covariance matrix of the errors is correctly specified.\n"
     ]
    },
    {
     "data": {
      "image/png": "[encoded data removed]",
      "text/plain": [
       "<Figure size 640x480 with 1 Axes>"
      ]
     },
     "metadata": {},
     "output_type": "display_data"
    }
   ],
   "source": [
    "import statsmodels.api as sm\n",
    "\n",
    "# Define the dependent and independent variables\n",
    "X = df[['crime', 'nox', 'rooms', 'proptax']]\n",
    "y = df['price']\n",
    "\n",
    "# Add a constant to the independent value\n",
    "X = sm.add_constant(X)\n",
    "\n",
    "# Adjust the regression model\n",
    "model = sm.OLS(y, X)\n",
    "results = model.fit()\n",
    "\n",
    "\n",
    "print(results.summary())\n",
    "\n",
    "# Compute the residuals\n",
    "residuals = results.resid\n",
    "\n",
    "plt.hist(residuals, bins=20, edgecolor='black')\n",
    "plt.title('Histogram of the Residuals')\n",
    "plt.xlabel('Residuals')\n",
    "plt.ylabel('Frequency')\n",
    "plt.show()"
   ]
  },
  {
   "cell_type": "markdown",
   "metadata": {},
   "source": [
    "The histogram shows that the average of the residuals is zero, which aligns with our fundamental hypothesis. We can glimpse this as the value of 0 has the highest frequency.\n",
    "\n",
    "Regarding the coefficients, we can interpret them as follows: Holding everything else constant, a one-unit increase in the crime variable results in a price decrease of 136.5438. Similarly, a one-unit increase in the nox variable leads to a price decrease of 660.4672. Likewise, a unit increase in the number of rooms translates to a price increase of 7797.9286. Finally, for the property tax, we observe a price decrease of 89.4144 units"
   ]
  },
  {
   "cell_type": "markdown",
   "metadata": {},
   "source": [
    "#### 10. Run a regression of lprice on a constant, crime, nox, rooms, proptax. Comment on the histogram of the residuals. Interpret all coefficients."
   ]
  },
  {
   "cell_type": "code",
   "execution_count": 7,
   "metadata": {},
   "outputs": [
    {
     "name": "stdout",
     "output_type": "stream",
     "text": [
      "                            OLS Regression Results                            \n",
      "==============================================================================\n",
      "Dep. Variable:                 lprice   R-squared:                       0.611\n",
      "Model:                            OLS   Adj. R-squared:                  0.608\n",
      "Method:                 Least Squares   F-statistic:                     196.9\n",
      "Date:                Sun, 10 Dec 2023   Prob (F-statistic):          2.50e-101\n",
      "Time:                        19:50:48   Log-Likelihood:                -26.367\n",
      "No. Observations:                 506   AIC:                             62.73\n",
      "Df Residuals:                     501   BIC:                             83.87\n",
      "Df Model:                           4                                         \n",
      "Covariance Type:            nonrobust                                         \n",
      "==============================================================================\n",
      "                 coef    std err          t      P>|t|      [0.025      0.975]\n",
      "------------------------------------------------------------------------------\n",
      "const          8.6550      0.137     63.320      0.000       8.386       8.924\n",
      "crime         -0.0125      0.002     -7.641      0.000      -0.016      -0.009\n",
      "nox           -0.0476      0.013     -3.557      0.000      -0.074      -0.021\n",
      "rooms          0.2816      0.017     16.379      0.000       0.248       0.315\n",
      "proptax       -0.0043      0.001     -4.184      0.000      -0.006      -0.002\n",
      "==============================================================================\n",
      "Omnibus:                      118.409   Durbin-Watson:                   0.764\n",
      "Prob(Omnibus):                  0.000   Jarque-Bera (JB):              730.140\n",
      "Skew:                           0.859   Prob(JB):                    2.83e-159\n",
      "Kurtosis:                       8.629   Cond. No.                         546.\n",
      "==============================================================================\n",
      "\n",
      "Notes:\n",
      "[1] Standard Errors assume that the covariance matrix of the errors is correctly specified.\n"
     ]
    },
    {
     "data": {
      "image/png": "[encoded data removed]",
      "text/plain": [
       "<Figure size 640x480 with 1 Axes>"
      ]
     },
     "metadata": {},
     "output_type": "display_data"
    }
   ],
   "source": [
    "import statsmodels.api as sm\n",
    "\n",
    "# Define the dependent and independent variables\n",
    "X = df[['crime', 'nox', 'rooms', 'proptax']]\n",
    "y = df['lprice']\n",
    "\n",
    "# Add a constant to the independent variables matrix\n",
    "X = sm.add_constant(X)\n",
    "\n",
    "# Fit the regression model\n",
    "model = sm.OLS(y, X)\n",
    "results = model.fit()\n",
    "\n",
    "# Print the summary statistics of the model\n",
    "print(results.summary())\n",
    "\n",
    "# Calculate the residuals\n",
    "residuals = results.resid\n",
    "\n",
    "# Plot the histogram of the residuals\n",
    "plt.hist(residuals, bins=20, edgecolor='black')\n",
    "plt.title('Histogram of Residuals')\n",
    "plt.xlabel('Residuals')\n",
    "plt.ylabel('Frequency')\n",
    "plt.show()"
   ]
  },
  {
   "cell_type": "markdown",
   "metadata": {},
   "source": [
    "The histogram shows that the average of the residuals is zero, which is what our fundamental hiphotesys says. We can have a glipsy of it as we see that the value of 0 is the one that has more frequency.\n",
    "\n",
    "Regarding the coefficients, we can interpret them as follows: Holding everything else constant, a one-unit increase in the crime variable results in a log price decrease of 0.0125. Similarly, a one-unit increase in the nox variable leads to a log price decrease of 0.0476. Likewise, a unit increase in the number of rooms translates to a log price increase of 0.2816 . Finally, for the property tax, we observe a log price decrease of 0.0043 units"
   ]
  },
  {
   "cell_type": "code",
   "execution_count": 8,
   "metadata": {},
   "outputs": [
    {
     "name": "stdout",
     "output_type": "stream",
     "text": [
      "                            OLS Regression Results                            \n",
      "==============================================================================\n",
      "Dep. Variable:                 lprice   R-squared:                       0.611\n",
      "Model:                            OLS   Adj. R-squared:                  0.608\n",
      "Method:                 Least Squares   F-statistic:                     196.9\n",
      "Date:                Sun, 10 Dec 2023   Prob (F-statistic):          2.50e-101\n",
      "Time:                        19:50:48   Log-Likelihood:                -26.367\n",
      "No. Observations:                 506   AIC:                             62.73\n",
      "Df Residuals:                     501   BIC:                             83.87\n",
      "Df Model:                           4                                         \n",
      "Covariance Type:            nonrobust                                         \n",
      "==============================================================================\n",
      "                 coef    std err          t      P>|t|      [0.025      0.975]\n",
      "------------------------------------------------------------------------------\n",
      "const          8.6550      0.137     63.320      0.000       8.386       8.924\n",
      "crime         -0.0125      0.002     -7.641      0.000      -0.016      -0.009\n",
      "nox           -0.0476      0.013     -3.557      0.000      -0.074      -0.021\n",
      "rooms          0.2816      0.017     16.379      0.000       0.248       0.315\n",
      "proptax       -0.0043      0.001     -4.184      0.000      -0.006      -0.002\n",
      "==============================================================================\n",
      "Omnibus:                      118.409   Durbin-Watson:                   0.764\n",
      "Prob(Omnibus):                  0.000   Jarque-Bera (JB):              730.140\n",
      "Skew:                           0.859   Prob(JB):                    2.83e-159\n",
      "Kurtosis:                       8.629   Cond. No.                         546.\n",
      "==============================================================================\n",
      "\n",
      "Notes:\n",
      "[1] Standard Errors assume that the covariance matrix of the errors is correctly specified.\n"
     ]
    },
    {
     "data": {
      "image/png": "[encoded data removed]",
      "text/plain": [
       "<Figure size 640x480 with 1 Axes>"
      ]
     },
     "metadata": {},
     "output_type": "display_data"
    }
   ],
   "source": [
    "# Import necessary libraries\n",
    "import statsmodels.api as sm\n",
    "import matplotlib.pyplot as plt\n",
    "\n",
    "# Prepare the data for the regression\n",
    "X = df[['crime', 'nox', 'rooms', 'proptax']]\n",
    "X = sm.add_constant(X)  # Add a constant term to the independent variables\n",
    "y = df['lprice']\n",
    "\n",
    "# Fit the regression model\n",
    "model = sm.OLS(y, X).fit()\n",
    "\n",
    "# Print the regression summary\n",
    "print(model.summary())\n",
    "\n",
    "# Plot the histogram of residuals\n",
    "residuals = model.resid\n",
    "plt.hist(residuals, bins=20, edgecolor='black')\n",
    "plt.title('Histogram of Residuals')\n",
    "plt.xlabel('Residuals')\n",
    "plt.ylabel('Frequency')\n",
    "plt.show()\n"
   ]
  },
  {
   "cell_type": "markdown",
   "metadata": {},
   "source": [
    "#### 11. Run a regression of lprice on a constant, crime, lnox, rooms, lproptax. Comment on the histogram of the residuals. Interpret all coefficients."
   ]
  },
  {
   "cell_type": "code",
   "execution_count": 9,
   "metadata": {},
   "outputs": [
    {
     "name": "stdout",
     "output_type": "stream",
     "text": [
      "                            OLS Regression Results                            \n",
      "==============================================================================\n",
      "Dep. Variable:                 lprice   R-squared:                       0.612\n",
      "Model:                            OLS   Adj. R-squared:                  0.609\n",
      "Method:                 Least Squares   F-statistic:                     197.4\n",
      "Date:                Sun, 10 Dec 2023   Prob (F-statistic):          1.77e-101\n",
      "Time:                        19:50:48   Log-Likelihood:                -26.021\n",
      "No. Observations:                 506   AIC:                             62.04\n",
      "Df Residuals:                     501   BIC:                             83.18\n",
      "Df Model:                           4                                         \n",
      "Covariance Type:            nonrobust                                         \n",
      "==============================================================================\n",
      "                 coef    std err          t      P>|t|      [0.025      0.975]\n",
      "------------------------------------------------------------------------------\n",
      "const          9.7505      0.253     38.476      0.000       9.253      10.248\n",
      "crime         -0.0128      0.002     -8.002      0.000      -0.016      -0.010\n",
      "lnox          -0.2769      0.077     -3.591      0.000      -0.428      -0.125\n",
      "rooms          0.2802      0.017     16.282      0.000       0.246       0.314\n",
      "lproptax      -0.1779      0.042     -4.215      0.000      -0.261      -0.095\n",
      "==============================================================================\n",
      "Omnibus:                      116.110   Durbin-Watson:                   0.768\n",
      "Prob(Omnibus):                  0.000   Jarque-Bera (JB):              716.737\n",
      "Skew:                           0.838   Prob(JB):                    2.30e-156\n",
      "Kurtosis:                       8.585   Cond. No.                         241.\n",
      "==============================================================================\n",
      "\n",
      "Notes:\n",
      "[1] Standard Errors assume that the covariance matrix of the errors is correctly specified.\n"
     ]
    },
    {
     "data": {
      "image/png": "[encoded data removed]",
      "text/plain": [
       "<Figure size 640x480 with 1 Axes>"
      ]
     },
     "metadata": {},
     "output_type": "display_data"
    }
   ],
   "source": [
    "import statsmodels.api as sm\n",
    "\n",
    "# Define the dependent and independent variables\n",
    "X = df[['crime', 'lnox', 'rooms', 'lproptax']]\n",
    "y = df['lprice']\n",
    "\n",
    "# Add a constant to the independent variables matrix\n",
    "X = sm.add_constant(X)\n",
    "\n",
    "# Fit the regression model\n",
    "model = sm.OLS(y, X)\n",
    "results = model.fit()\n",
    "\n",
    "# Print the summary statistics of the model\n",
    "print(results.summary())\n",
    "\n",
    "# Calculate the residuals\n",
    "residuals = results.resid\n",
    "\n",
    "# Plot the histogram of the residuals\n",
    "plt.hist(residuals, bins=20, edgecolor='black')\n",
    "plt.title('Histogram of Residuals')\n",
    "plt.xlabel('Residuals')\n",
    "plt.ylabel('Frequency')\n",
    "plt.show()"
   ]
  },
  {
   "cell_type": "markdown",
   "metadata": {},
   "source": [
    "The histogram shows that the average of the residuals is zero, which is what our fundamental hiphotesys says. We can have a glipsy of it as we see that the value of 0 is the one that has more frequency.\n",
    "\n",
    "Regarding the coefficients, we can interpret them as follows: Holding everything else constant, a one-unit increase in the crime variable results in a log price decrease of 0.0128. Similarly, a one-unit increase in the log nox variable leads to a log price decrease of0.2769. Likewise, a unit increase in the number of rooms translates to a log price increase of 0.2802 . Finally, for the log property tax, we observe a log price decrease of 0.1779 units"
   ]
  },
  {
   "cell_type": "code",
   "execution_count": 10,
   "metadata": {},
   "outputs": [
    {
     "name": "stdout",
     "output_type": "stream",
     "text": [
      "                            OLS Regression Results                            \n",
      "==============================================================================\n",
      "Dep. Variable:                 lprice   R-squared:                       0.612\n",
      "Model:                            OLS   Adj. R-squared:                  0.609\n",
      "Method:                 Least Squares   F-statistic:                     197.4\n",
      "Date:                Sun, 10 Dec 2023   Prob (F-statistic):          1.77e-101\n",
      "Time:                        19:50:48   Log-Likelihood:                -26.021\n",
      "No. Observations:                 506   AIC:                             62.04\n",
      "Df Residuals:                     501   BIC:                             83.18\n",
      "Df Model:                           4                                         \n",
      "Covariance Type:            nonrobust                                         \n",
      "==============================================================================\n",
      "                 coef    std err          t      P>|t|      [0.025      0.975]\n",
      "------------------------------------------------------------------------------\n",
      "const          9.7505      0.253     38.476      0.000       9.253      10.248\n",
      "crime         -0.0128      0.002     -8.002      0.000      -0.016      -0.010\n",
      "lnox          -0.2769      0.077     -3.591      0.000      -0.428      -0.125\n",
      "rooms          0.2802      0.017     16.282      0.000       0.246       0.314\n",
      "lproptax      -0.1779      0.042     -4.215      0.000      -0.261      -0.095\n",
      "==============================================================================\n",
      "Omnibus:                      116.110   Durbin-Watson:                   0.768\n",
      "Prob(Omnibus):                  0.000   Jarque-Bera (JB):              716.737\n",
      "Skew:                           0.838   Prob(JB):                    2.30e-156\n",
      "Kurtosis:                       8.585   Cond. No.                         241.\n",
      "==============================================================================\n",
      "\n",
      "Notes:\n",
      "[1] Standard Errors assume that the covariance matrix of the errors is correctly specified.\n"
     ]
    },
    {
     "data": {
      "image/png": "[encoded data removed]",
      "text/plain": [
       "<Figure size 640x480 with 1 Axes>"
      ]
     },
     "metadata": {},
     "output_type": "display_data"
    }
   ],
   "source": [
    "# Import necessary libraries\n",
    "import statsmodels.api as sm\n",
    "import matplotlib.pyplot as plt\n",
    "\n",
    "# Prepare the data for the regression\n",
    "X = df[['crime', 'lnox', 'rooms', 'lproptax']]\n",
    "X = sm.add_constant(X)  # Add a constant term to the independent variables\n",
    "y = df['lprice']\n",
    "\n",
    "# Fit the regression model\n",
    "model = sm.OLS(y, X).fit()\n",
    "\n",
    "# Print the regression summary\n",
    "print(model.summary())\n",
    "\n",
    "# Plot the histogram of residuals\n",
    "residuals = model.resid\n",
    "plt.hist(residuals, bins=20, edgecolor='black')\n",
    "plt.title('Histogram of Residuals')\n",
    "plt.xlabel('Residuals')\n",
    "plt.ylabel('Frequency')\n",
    "plt.show()\n"
   ]
  },
  {
   "cell_type": "markdown",
   "metadata": {},
   "source": [
    "#### 12. In the specification of question 10, test the hypothesis $ H_0: \\beta_{nox} >0 $ vs. $H_1: \\beta_{nox} < 0$ at the 10% level"
   ]
  },
  {
   "cell_type": "code",
   "execution_count": 11,
   "metadata": {},
   "outputs": [
    {
     "name": "stdout",
     "output_type": "stream",
     "text": [
      "Reject the null hypothesis. p-value: 0.0002\n"
     ]
    }
   ],
   "source": [
    "import statsmodels.api as sm\n",
    "from scipy.stats import t\n",
    "\n",
    "# Run the regression model\n",
    "X = df[['crime', 'nox', 'rooms', 'proptax']]\n",
    "X = sm.add_constant(X)\n",
    "y = df['lprice']\n",
    "\n",
    "model = sm.OLS(y, X).fit()\n",
    "beta_nox = model.params['nox']\n",
    "se_nox = model.bse['nox']\n",
    "\n",
    "# t-statistic\n",
    "t_value = beta_nox / se_nox\n",
    "deg_freedom = model.df_resid\n",
    "\n",
    "# One-sided p-value\n",
    "p_value_one_tailed = t.sf(abs(t_value), deg_freedom)\n",
    "alpha = 0.10  # Adjusted alpha level for a one-sided test\n",
    "\n",
    "# Compare the p-value with the significance level\n",
    "if p_value_one_tailed < alpha:\n",
    "    print(f'Reject the null hypothesis. p-value: {p_value_one_tailed:.4f}')\n",
    "else:\n",
    "    print(f'Fail to reject the null hypothesis. p-value: {p_value_one_tailed:.4f}')\n"
   ]
  },
  {
   "cell_type": "markdown",
   "metadata": {},
   "source": [
    " #### 13. In the specification of question 10, test the hypothesis $H_0: \\beta_{nox} = 0$ vs. $H_1: \\beta_{nox} ≠ 0$ at the 10% level using the p-value of the test"
   ]
  },
  {
   "cell_type": "code",
   "execution_count": 12,
   "metadata": {},
   "outputs": [
    {
     "name": "stdout",
     "output_type": "stream",
     "text": [
      "P-value: 0.0019349668301483541\n",
      "Reject the null hypothesis.\n"
     ]
    }
   ],
   "source": [
    "import statsmodels.api as sm\n",
    "from scipy.stats import f\n",
    "\n",
    "# Define the dependent and independent variables\n",
    "X = df[['crime', 'nox', 'rooms', 'proptax']]\n",
    "y = df['lprice']\n",
    "\n",
    "# Add a constant to the independent variables matrix\n",
    "X = sm.add_constant(X)\n",
    "\n",
    "# Fit the regression model\n",
    "model = sm.OLS(y, X)\n",
    "results = model.fit()\n",
    "\n",
    "# Calculate the sum of squared errors for the unconstrained model\n",
    "u = results.resid\n",
    "SSR0 = u.T @ u\n",
    "\n",
    "# Create the constrained model by removing 'nox' from the independent variables\n",
    "X_constrained = df[[ 'crime', 'rooms', 'proptax']]\n",
    "X_constrained = sm.add_constant(X_constrained)\n",
    "\n",
    "# Fit the constrained regression model\n",
    "model_constrained = sm.OLS(y, X_constrained)\n",
    "results_constrained = model_constrained.fit()\n",
    "\n",
    "# Calculate the sum of squared errors for the constrained model\n",
    "u_constrained = results_constrained.resid\n",
    "SSR1 = u_constrained.T @ u_constrained\n",
    "\n",
    "# Calculate the F-statistic and p-value\n",
    "n, k = np.shape(X)\n",
    "F = ((SSR1 - SSR0) / 2) / (SSR0 / (n - k))\n",
    "p_value = f.sf(F, 2, n - k)\n",
    "\n",
    "# Display the results\n",
    "print(\"P-value:\", p_value)\n",
    "\n",
    "if p_value < 0.1:\n",
    "    print(\"Reject the null hypothesis.\")\n",
    "else:\n",
    "    print(\"Fail to reject the null hypothesis.\")\n"
   ]
  },
  {
   "cell_type": "markdown",
   "metadata": {},
   "source": [
    "#### 14. In the specification of question 10, test the hypothesis $ H_0: \\beta_{crime} = \\beta_{proptax} $ at the 1% level"
   ]
  },
  {
   "cell_type": "code",
   "execution_count": 13,
   "metadata": {},
   "outputs": [
    {
     "name": "stdout",
     "output_type": "stream",
     "text": [
      "p_value: 0.00016010403230498545\n",
      "Reject the null hypothesis\n"
     ]
    }
   ],
   "source": [
    "import statsmodels.api as sm\n",
    "\n",
    "# We will define a new variable theta = Beta_crime - Beta_proptax\n",
    "# The new model is:\n",
    "# lprice = Beta_0 + Beta_nox * nox + Beta_rooms * rooms + (teta+Beta_proptax)*crime+Beta_proptax*proptax + u\n",
    "# lprice = Beta_0 + Beta_nox * nox + Beta_rooms * rooms + teta*crime + Beta_proptax*(crime+proptax) + u\n",
    "# Then we will test the null hypothesis that theta = 0\n",
    "\n",
    "\n",
    "# Run the regression model\n",
    "df['crime_proptax'] = df['crime'] + df['proptax']   \n",
    "X = df[['crime', 'nox', 'rooms', 'crime_proptax']]\n",
    "X = sm.add_constant(X)\n",
    "y = df['lprice']\n",
    "\n",
    "model = sm.OLS(y, X)\n",
    "results = model.fit()\n",
    "\n",
    "# calculate the t-statistic\n",
    "t_value = results.params['crime'] / results.bse['crime']\n",
    "\n",
    "# calculate the p-value\n",
    "p_value = t.sf(abs(t_value), results.df_resid)\n",
    "\n",
    "print(\"p_value:\", p_value)\n",
    "\n",
    "alpha = 0.01\n",
    "if p_value < alpha:\n",
    "    print(\"Reject the null hypothesis\")\n",
    "else:\n",
    "    print(\"Fail to reject the null hypothesis\")\n"
   ]
  },
  {
   "cell_type": "markdown",
   "metadata": {},
   "source": [
    "#### 15. In the specification of question 10, test the hypothesis $H_0: \\beta_{nox} = 0, \\beta_{proptax} = 0$ at the 1% level"
   ]
  },
  {
   "cell_type": "code",
   "execution_count": 14,
   "metadata": {},
   "outputs": [
    {
     "name": "stdout",
     "output_type": "stream",
     "text": [
      "P-value: 2.5293764225614597e-14\n",
      "Reject the null hypothesis.\n"
     ]
    }
   ],
   "source": [
    "import statsmodels.api as sm\n",
    "from scipy.stats import f\n",
    "\n",
    "# Define the dependent and independent variables\n",
    "X = df[['crime', 'nox', 'rooms', 'proptax']]\n",
    "y = df['lprice']\n",
    "\n",
    "# Add a constant to the independent variables matrix\n",
    "X = sm.add_constant(X)\n",
    "\n",
    "# Fit the regression model\n",
    "model = sm.OLS(y, X)\n",
    "results = model.fit()\n",
    "\n",
    "# Calculate the sum of squared errors for the unconstrained model\n",
    "u = results.resid\n",
    "SSR0 = u.T @ u\n",
    "\n",
    "# Create the constrained model by setting 'nox' and 'proptax' coefficients to 0\n",
    "X_constrained = X.copy()\n",
    "X_constrained['nox'] = 0\n",
    "X_constrained['proptax'] = 0\n",
    "\n",
    "# Fit the constrained regression model\n",
    "model_constrained = sm.OLS(y, X_constrained)\n",
    "results_constrained = model_constrained.fit()\n",
    "\n",
    "# Calculate the sum of squared errors for the constrained model\n",
    "u_constrained = results_constrained.resid\n",
    "SSR1 = u_constrained.T @ u_constrained\n",
    "\n",
    "# Calculate the F-statistic and p-value\n",
    "n, k = np.shape(X)\n",
    "F = ((SSR1 - SSR0) / 2) / (SSR0 / (n - k))\n",
    "p_value = f.sf(F, 2, n - k)\n",
    "\n",
    "# Display the results\n",
    "print(\"P-value:\", p_value)\n",
    "\n",
    "if p_value < 0.01:\n",
    "    print(\"Reject the null hypothesis.\")\n",
    "else:\n",
    "    print(\"Fail to reject the null hypothesis.\")\n"
   ]
  },
  {
   "cell_type": "markdown",
   "metadata": {},
   "source": [
    "#### 16. In the specification of question 10, test the hypothesis $H_0: \\beta_{nox} = -500, \\beta_{proptax} = -100$ at the 1% level using the p-value of the test"
   ]
  },
  {
   "cell_type": "code",
   "execution_count": 15,
   "metadata": {},
   "outputs": [
    {
     "name": "stdout",
     "output_type": "stream",
     "text": [
      "p-value:  0.0\n",
      "Reject the null hypothesis\n"
     ]
    }
   ],
   "source": [
    "from scipy import stats\n",
    "\n",
    "# Original model with all the variables from question 10, unrestricted model:\n",
    "\n",
    "X_ur = df[['crime', 'rooms', 'nox', 'proptax']]\n",
    "y_ur = df['lprice']\n",
    "\n",
    "X_ur = sm.add_constant(X_ur)\n",
    "\n",
    "model = sm.OLS(y_ur, X_ur)\n",
    "results = model.fit()\n",
    "\n",
    "# Calculate SSR0 for the model with Bnox and Bproptax\n",
    "u = results.resid\n",
    "SSR_ur = u.T @ u\n",
    "\n",
    "# Calculate the degrees of freedom\n",
    "\n",
    "df_ur = model.df_resid\n",
    "\n",
    "# Model without Bnox and Bproptax, restricted model:\n",
    "\n",
    "X_r = df[['crime', 'rooms']]\n",
    "y_r = df['lprice']+500*df['nox']+100*df['proptax']\n",
    "\n",
    "X_r = sm.add_constant(X_r)\n",
    "\n",
    "model = sm.OLS(y_r, X_r)\n",
    "results = model.fit()\n",
    "\n",
    "# Calculate SSR1 for the model whitout Bnox and Bproptax\n",
    "\n",
    "u = results.resid\n",
    "SSR_r = u.T @ u\n",
    "\n",
    "# Calculate the degrees of freedom\n",
    "\n",
    "df_r = model.df_resid\n",
    "\n",
    "#  Calculate the F-statistic\n",
    "q = df_r - df_ur\n",
    "F = ((SSR_r-SSR_ur)/q)/(SSR_ur/(df_ur))\n",
    "\n",
    "# Calculate the p-value\n",
    "\n",
    "p_value = stats.f.sf(F, q, df_ur)\n",
    "\n",
    "print(\"p-value: \", p_value)\n",
    "\n",
    "if p_value < 0.1:\n",
    "    print(\"Reject the null hypothesis\")\n",
    "else:\n",
    "    print(\"Do not reject the null hypothesis\")"
   ]
  },
  {
   "cell_type": "markdown",
   "metadata": {},
   "source": [
    "#### 17. In the specification of question 10, test the hypothesis $H_0: \\beta_{nox} + \\beta_{proptax} = -1000$ at the 1% level using the p-value of the test"
   ]
  },
  {
   "cell_type": "code",
   "execution_count": 16,
   "metadata": {},
   "outputs": [
    {
     "name": "stdout",
     "output_type": "stream",
     "text": [
      "p-value:  3.386545508732297e-05\n",
      "Reject the null hypothesis\n"
     ]
    }
   ],
   "source": [
    "# we have the original model:  lprice = B0 + Bcrime*crime + Brooms*rooms + Bnox*nox + Bproptax*proptax + u\n",
    "# we want to test the null hypothesis Bnox + Bproptax = -1000\n",
    "# we call theta = Bnox + Bproptax + 1000\n",
    "# Then, we subitute theta in the model and we have:\n",
    "# lprice = B0 + Bcrime*crime + Brooms*rooms + (theta - Bproptax - 1000)*nox + Bproptax*proptax + u\n",
    "# which gives us:\n",
    "# lprice + 1000*nox= B0  + Bcrime*crime + Brooms*rooms + theta*nox + Bproptax*(proptax - nox) +  u\n",
    "# we can see that the null hypothesis is equivalent to theta = 0\n",
    "\n",
    "# We contruct our model:\n",
    "\n",
    "# Create the column'proptax_nox'\n",
    "df['proptax_nox'] = df['proptax'] - df['nox']\n",
    "\n",
    "# Create the matrix of independent variables\n",
    "X = sm.add_constant(df[['crime', 'rooms', 'nox', 'proptax_nox']])\n",
    "y = df['lprice']+1000*df['nox']\n",
    "\n",
    "model = sm.OLS(y, X)\n",
    "results = model.fit()\n",
    "\n",
    "# Compute t statistic\n",
    "coef_proptax_nox = results.params['proptax_nox']\n",
    "std_proptax_nox = results.bse['proptax_nox']\n",
    "t = coef_proptax_nox/std_proptax_nox\n",
    "\n",
    "# Compute the p-value (two-sided test)\n",
    "degrees_of_freedom = results.df_resid\n",
    "p_value = 2 * (1 - stats.t.cdf(abs(t), degrees_of_freedom))\n",
    "print(\"p-value: \", p_value)\n",
    "\n",
    "# Compute the test of 1% significance level\n",
    "\n",
    "if p_value < 0.01:\n",
    "    print(\"Reject the null hypothesis\")\n",
    "else:\n",
    "    print(\"Do not reject the null hypothesis\")\n"
   ]
  },
  {
   "cell_type": "markdown",
   "metadata": {},
   "source": [
    "#### 18. In the specification of question 10, test the hypothesis that all coefficients are the same for observations with low levels of nox vs. medium and high levels of nox."
   ]
  },
  {
   "cell_type": "code",
   "execution_count": null,
   "metadata": {},
   "outputs": [],
   "source": []
  },
  {
   "cell_type": "markdown",
   "metadata": {},
   "source": [
    "#### 19. Repeat the test of question 18 but now assuming that only the coefficients of nox and proptax can change between the two groups of observations. State and test $H_0$."
   ]
  },
  {
   "cell_type": "markdown",
   "metadata": {},
   "source": []
  },
  {
   "cell_type": "markdown",
   "metadata": {},
   "source": [
    "\n",
    "# PART 2 - HETEROSKEDASTICITY"
   ]
  },
  {
   "cell_type": "markdown",
   "metadata": {},
   "source": [
    "#### 20. Explain the problem of heteroskedasticity with an example of the course."
   ]
  },
  {
   "cell_type": "markdown",
   "metadata": {},
   "source": [
    "The heteroskedasticity happens when the homoskedasticity assumption is violeted. This assumption says that the unonbserved error variance don't vary with respect to the independent variables, i.e, $var(u)$ is constant when $x_1, x_2, ...$ vary. So, when we have heteroskedasticity, $var(u|x_1, x_2, ...)$ vary.\n",
    "\n",
    "In one of our course examples, we explored the relationship between house prices and other variables. This scenario illustrates heteroscedasticity. For instance, the variance of the error in predicting house prices via the regression model could fluctuate with the house's square footage. A smaller house might exhibit relatively stable error variance in price prediction. However, as the house size increases, we observe a larger variation in the error between the predicted and actual prices. This variability complicates the estimation of parameters using Ordinary Least Squares (OLS) since it assumes homoscedasticity."
   ]
  },
  {
   "cell_type": "markdown",
   "metadata": {},
   "source": [
    "#### 21. Suppose that $ E(u u')= \\sigma^2 \\Omega$. Show that the GLS estimator is the best linear unbiased estimator."
   ]
  },
  {
   "cell_type": "markdown",
   "metadata": {},
   "source": []
  },
  {
   "cell_type": "markdown",
   "metadata": {},
   "source": [
    "#### 22. In the specification of question 9, test the hypothesis of no heteroskedasticity of linear form, i.e. in the regression of $u^2$ on constant, crime, nox, rooms, proptax, test H0: $\\delta_{crime}$ , $\\delta_{nox}$, $\\delta_{room}$ ,  $\\delta_{proptax}$  = 0, where the coefficients $\\delta_{k}$ (k = crime, nox, rooms, proptax) are associated with the corresponding explanatory variables."
   ]
  },
  {
   "cell_type": "code",
   "execution_count": 17,
   "metadata": {},
   "outputs": [
    {
     "name": "stdout",
     "output_type": "stream",
     "text": [
      "p-value:  2.4672073438895583e-05\n",
      "Reject the null hypothesis: There is heteroskedasticity\n"
     ]
    }
   ],
   "source": [
    "# First, we construct the model of question 10:\n",
    "# price = B0 + Bcrime*crime + Brooms*rooms + Bnox*nox + Bproptax*proptax + u\n",
    "X = sm.add_constant(df[['crime', 'rooms', 'nox', 'proptax']])\n",
    "y = df['price']\n",
    "\n",
    "model = sm.OLS(y, X)\n",
    "results = model.fit()\n",
    "\n",
    "# Now, we construct the regression model for the residuals of the previous model:\n",
    "# u^2 = delta0 +delta_crime*crime + delta_rooms*rooms + delta_nox*nox + delta_proptax*proptax +  v\n",
    "\n",
    "u = results.resid\n",
    "u2 = u**2\n",
    "y = u2\n",
    "\n",
    "model = sm.OLS(y, X)\n",
    "results = model.fit()\n",
    "\n",
    "# Now, we compute the test of 5% significance level\n",
    "\n",
    "F = results.fvalue\n",
    "k = 4\n",
    "n = len(df)\n",
    "degrees_of_freedom = n - k - 1\n",
    "\n",
    "p_value = stats.f.sf(F, k, degrees_of_freedom)\n",
    "\n",
    "print(\"p-value: \", p_value)\n",
    "\n",
    "if p_value < 0.05:\n",
    "    print(\"Reject the null hypothesis: There is heteroskedasticity\")\n",
    "else:\n",
    "    print(\"Do not reject the null hypothesis: There is homoskedasticity\")\n"
   ]
  },
  {
   "cell_type": "markdown",
   "metadata": {},
   "source": [
    "#### 23. In the specification of question 10, test the hypothesis of no heteroskedasticity of linear form"
   ]
  },
  {
   "cell_type": "code",
   "execution_count": 18,
   "metadata": {},
   "outputs": [
    {
     "name": "stdout",
     "output_type": "stream",
     "text": [
      "p-value:  8.32991112838834e-14\n",
      "Reject the null hypothesis: There is heteroskedasticity\n"
     ]
    }
   ],
   "source": [
    "# First, we construct the model of question 10:\n",
    "# lprice = B0 + Bcrime*crime + Brooms*rooms + Bnox*nox + Bproptax*proptax + u\n",
    "X = sm.add_constant(df[['crime', 'rooms', 'nox', 'proptax']])\n",
    "y = df['lprice']\n",
    "\n",
    "model = sm.OLS(y, X)\n",
    "results = model.fit()\n",
    "\n",
    "# Now, we construct the regression model for the residuals of the previous model:\n",
    "# u^2 = delta0 +delta_crime*crime + delta_rooms*rooms + delta_nox*nox + delta_proptax*proptax +  v\n",
    "\n",
    "u = results.resid\n",
    "u2 = u**2\n",
    "y = u2\n",
    "\n",
    "model = sm.OLS(y, X)\n",
    "results = model.fit()\n",
    "\n",
    "# Now, we compute the test of 5% significance level\n",
    "\n",
    "F = results.fvalue\n",
    "k = 4\n",
    "n = len(df)\n",
    "degrees_of_freedom = n - k - 1\n",
    "\n",
    "p_value = stats.f.sf(F, k, degrees_of_freedom)\n",
    "\n",
    "print(\"p-value: \", p_value)\n",
    "\n",
    "if p_value < 0.05:\n",
    "    print(\"Reject the null hypothesis: There is heteroskedasticity\")\n",
    "else:\n",
    "    print(\"Do not reject the null hypothesis: There is homoskedasticity\")\n"
   ]
  },
  {
   "cell_type": "markdown",
   "metadata": {},
   "source": [
    "#### 24. In the specification of question 11, test the hypothesis of no heteroskedasticity of linear form"
   ]
  },
  {
   "cell_type": "code",
   "execution_count": 19,
   "metadata": {},
   "outputs": [
    {
     "name": "stdout",
     "output_type": "stream",
     "text": [
      "p-value:  1.0205916389181023e-12\n",
      "Reject the null hypothesis: There is heteroskedasticity\n"
     ]
    }
   ],
   "source": [
    "# First, we construct the model of question 10:\n",
    "# lprice = B0 + Bcrime*crime + Brooms*rooms + Blnox*lnox + Blproptax*lproptax + u\n",
    "X = sm.add_constant(df[['crime', 'rooms', 'lnox', 'lproptax']])\n",
    "y = df['lprice']\n",
    "\n",
    "model = sm.OLS(y, X)\n",
    "results = model.fit()\n",
    "\n",
    "# Now, we construct the regression model for the residuals of the previous model:\n",
    "# u^2 = delta0 +delta_crime*crime + delta_rooms*rooms + delta_lnox*lnox + delta_lproptax*lproptax +  v\n",
    "\n",
    "u = results.resid\n",
    "u2 = u**2\n",
    "y = u2\n",
    "\n",
    "model = sm.OLS(y, X)\n",
    "results = model.fit()\n",
    "\n",
    "# Now, we compute the test of 5% significance level\n",
    "\n",
    "F = results.fvalue\n",
    "k = 4\n",
    "n = len(df)\n",
    "degrees_of_freedom = n - k - 1\n",
    "\n",
    "p_value = stats.f.sf(F, k, degrees_of_freedom)\n",
    "\n",
    "print(\"p-value: \", p_value)\n",
    "\n",
    "if p_value < 0.05:\n",
    "    print(\"Reject the null hypothesis: There is heteroskedasticity\")\n",
    "else:\n",
    "    print(\"Do not reject the null hypothesis: There is homoskedasticity\")\n"
   ]
  },
  {
   "cell_type": "markdown",
   "metadata": {},
   "source": [
    "#### 25. Comment on the differences between your results of questions 22,23, 24."
   ]
  },
  {
   "cell_type": "markdown",
   "metadata": {},
   "source": [
    "Heteroscedasticity is evident across all questions addressed. The transformations applied from one question to another primarily involved taking the logarithm of a variable, whether it was independent or not. This approach aimed to mitigate the overall impact of heteroscedasticity. However, it didn't yield a model free of this issue. Consequently, we can infer that the disparities persist in the variables used, despite yielding largely similar outcomes."
   ]
  },
  {
   "cell_type": "markdown",
   "metadata": {},
   "source": [
    "#### 26. Regardless of the results of the test of question 22, identify the most significant variable causing heteroskedasticity using the student statistics and run a WLS regression with the identified variable as weight."
   ]
  },
  {
   "cell_type": "code",
   "execution_count": null,
   "metadata": {},
   "outputs": [],
   "source": []
  },
  {
   "cell_type": "markdown",
   "metadata": {},
   "source": [
    "# PART 3 - TIME SERIES DATA"
   ]
  },
  {
   "cell_type": "markdown",
   "metadata": {},
   "source": [
    "This part uses the threecenturies_v2.3 datasets. Import Real GDP at market prices, unemployment rate and consumer price inflation for the period 1900-2000 in Python from the A1 worksheet."
   ]
  },
  {
   "cell_type": "code",
   "execution_count": 20,
   "metadata": {},
   "outputs": [
    {
     "data": {
      "text/html": [
       "<div>\n",
       "<style scoped>\n",
       "    .dataframe tbody tr th:only-of-type {\n",
       "        vertical-align: middle;\n",
       "    }\n",
       "\n",
       "    .dataframe tbody tr th {\n",
       "        vertical-align: top;\n",
       "    }\n",
       "\n",
       "    .dataframe thead th {\n",
       "        text-align: right;\n",
       "    }\n",
       "</style>\n",
       "<table border=\"1\" class=\"dataframe\">\n",
       "  <thead>\n",
       "    <tr style=\"text-align: right;\">\n",
       "      <th></th>\n",
       "      <th>Real GDP at market prices</th>\n",
       "      <th>unemployment rate</th>\n",
       "      <th>consumer price inflation</th>\n",
       "    </tr>\n",
       "    <tr>\n",
       "      <th>year</th>\n",
       "      <th></th>\n",
       "      <th></th>\n",
       "      <th></th>\n",
       "    </tr>\n",
       "  </thead>\n",
       "  <tbody>\n",
       "    <tr>\n",
       "      <th>1900</th>\n",
       "      <td>1.811603e+05</td>\n",
       "      <td>16689.642547</td>\n",
       "      <td>4.058273</td>\n",
       "    </tr>\n",
       "    <tr>\n",
       "      <th>1901</th>\n",
       "      <td>1.849745e+05</td>\n",
       "      <td>16669.549581</td>\n",
       "      <td>-0.300000</td>\n",
       "    </tr>\n",
       "    <tr>\n",
       "      <th>1902</th>\n",
       "      <td>1.877566e+05</td>\n",
       "      <td>16764.901436</td>\n",
       "      <td>0.000000</td>\n",
       "    </tr>\n",
       "    <tr>\n",
       "      <th>1903</th>\n",
       "      <td>1.860158e+05</td>\n",
       "      <td>16834.531438</td>\n",
       "      <td>1.103310</td>\n",
       "    </tr>\n",
       "    <tr>\n",
       "      <th>1904</th>\n",
       "      <td>1.881556e+05</td>\n",
       "      <td>16749.127752</td>\n",
       "      <td>-0.396825</td>\n",
       "    </tr>\n",
       "    <tr>\n",
       "      <th>...</th>\n",
       "      <td>...</td>\n",
       "      <td>...</td>\n",
       "      <td>...</td>\n",
       "    </tr>\n",
       "    <tr>\n",
       "      <th>1996</th>\n",
       "      <td>1.243709e+06</td>\n",
       "      <td>26060.000000</td>\n",
       "      <td>2.400308</td>\n",
       "    </tr>\n",
       "    <tr>\n",
       "      <th>1997</th>\n",
       "      <td>1.282602e+06</td>\n",
       "      <td>26526.000000</td>\n",
       "      <td>1.824606</td>\n",
       "    </tr>\n",
       "    <tr>\n",
       "      <th>1998</th>\n",
       "      <td>1.323527e+06</td>\n",
       "      <td>26795.000000</td>\n",
       "      <td>1.557398</td>\n",
       "    </tr>\n",
       "    <tr>\n",
       "      <th>1999</th>\n",
       "      <td>1.366983e+06</td>\n",
       "      <td>27168.000000</td>\n",
       "      <td>1.328710</td>\n",
       "    </tr>\n",
       "    <tr>\n",
       "      <th>2000</th>\n",
       "      <td>1.418176e+06</td>\n",
       "      <td>27484.000000</td>\n",
       "      <td>0.796456</td>\n",
       "    </tr>\n",
       "  </tbody>\n",
       "</table>\n",
       "<p>101 rows × 3 columns</p>\n",
       "</div>"
      ],
      "text/plain": [
       "      Real GDP at market prices  unemployment rate  consumer price inflation\n",
       "year                                                                        \n",
       "1900               1.811603e+05       16689.642547                  4.058273\n",
       "1901               1.849745e+05       16669.549581                 -0.300000\n",
       "1902               1.877566e+05       16764.901436                  0.000000\n",
       "1903               1.860158e+05       16834.531438                  1.103310\n",
       "1904               1.881556e+05       16749.127752                 -0.396825\n",
       "...                         ...                ...                       ...\n",
       "1996               1.243709e+06       26060.000000                  2.400308\n",
       "1997               1.282602e+06       26526.000000                  1.824606\n",
       "1998               1.323527e+06       26795.000000                  1.557398\n",
       "1999               1.366983e+06       27168.000000                  1.328710\n",
       "2000               1.418176e+06       27484.000000                  0.796456\n",
       "\n",
       "[101 rows x 3 columns]"
      ]
     },
     "execution_count": 20,
     "metadata": {},
     "output_type": "execute_result"
    }
   ],
   "source": [
    "import pandas as pd\n",
    "\n",
    "# Read the entire spreadsheet\n",
    "xls = pd.ExcelFile('threecenturies_v2.3.xlsx')\n",
    "\n",
    "# Read the specific columns, skipping the initial rows as necessary\n",
    "df_part3_0 = pd.read_excel(xls, 'A1. Headline series', skiprows=6, usecols=[0])  # Column A is the 1st column after skipping the first 6 rows\n",
    "df_part3_1 = pd.read_excel(xls, 'A1. Headline series', skiprows=6, usecols=[1])  # Column B is the 2st column after skipping the first 6 rows\n",
    "df_part3_2 = pd.read_excel(xls, 'A1. Headline series', skiprows=6, usecols=[14])  # Column O is the 14th column after skipping the first 6 rows\n",
    "df_part3_3 = pd.read_excel(xls, 'A1. Headline series', skiprows=6, usecols=[28])  # Column AC is the 28th column after skipping the first 6 rows\n",
    "\n",
    "# Reset the indices so they align correctly when concatenating\n",
    "df_part3_0.reset_index(drop=True, inplace=True)\n",
    "df_part3_1.reset_index(drop=True, inplace=True)\n",
    "df_part3_2.reset_index(drop=True, inplace=True)\n",
    "df_part3_3.reset_index(drop=True, inplace=True)\n",
    "\n",
    "# Concatenate the columns into a single DataFrame\n",
    "df_part3 = pd.concat([df_part3_0, df_part3_1, df_part3_2, df_part3_3], axis=1)\n",
    "\n",
    "# Rename the columns\n",
    "df_part3.columns = ['year','Real GDP at market prices', 'unemployment rate', 'consumer price inflation']\n",
    "\n",
    "# Set 'year' as the index of the DataFrame\n",
    "df_part3.set_index('year', inplace=True)\n",
    "\n",
    "# Select only the rows for years between 1900 and 2000\n",
    "df_part3 = df_part3.loc[1900:2000]\n",
    "\n",
    "# Display the first few rows of the resulting DataFrame\n",
    "df_part3"
   ]
  },
  {
   "cell_type": "markdown",
   "metadata": {},
   "source": [
    "#### 27. Define strict and weak stationarity."
   ]
  },
  {
   "cell_type": "markdown",
   "metadata": {},
   "source": [
    "We can define the strict stationarity as a time series process whose probability distributions are stable over time in the folowing sense: if we take any collection of random variables in the sequence and then shift that sequence ahead h time periods, the joint probability distribution must remain unchanged.\n",
    "\n",
    "The weak stationarity first requires that the stocastic process $\\{x_t : t = 1, 2, ...\\}$, which has $E(x^2_t ) < \\infty$,  then, if these conditions are satified we have weak stationarity if the mean and variance of the process are constant across time, and the covariance between $x_t$ and $x_{t+h}$ depends only on the distance between the two terms, h, and not on the location of the initial time period, t. "
   ]
  },
  {
   "cell_type": "markdown",
   "metadata": {},
   "source": [
    "#### 28. Explain ergodicity and state the ergodic theorem. Illustrate with an example.\n"
   ]
  },
  {
   "cell_type": "markdown",
   "metadata": {},
   "source": [
    "Ergodicity is the property in which a process \"forgets\" the initial conditions.  In a stationary process exhibiting the \"forgetting initial conditions\" property, as the time interval between observations increases (as represented by k tending to infinity), the auto-correlation between observations separated by that interval decreases and tends towards zero.\n",
    "\n",
    "For example, consider a stock price time series. If the stock price process is stationary and exhibits the property of forgetting initial conditions, this implies that the correlation between the stock prices separated by a certain time interval diminishes as the interval increases. For instance, the correlation between the stock price today and the stock price tomorrow might be relatively high since they're consecutive days. However, as we extend the time interval, say between the stock price today and the price a year ago, the correlation might decrease significantly. \n",
    "\n",
    "And for the ergodic theorem, for a strictly stationary and ergodic process $y_t$ with finite expected values as time (T) approaches infinity, it states that the time average, $E(y_t)$, converges towards the spatial average, which is the expectation or mean value, $E(y)$.\n",
    "\n",
    "For example, Imagine rolling a fair six-sided die repeatedly and recording the outcomes as a time series, where $y_t$ represents the outcome of the t-th roll .According to the ergodic theorem, as we roll the die repeatedly ($T \\rightarrow \\infty$), the average of all the outcomes over time (the time average) will converge towards the expected value of the die roll (the spatial average), which is 3.5 ($\\frac{1+2+3+4+5+6}{6}$)."
   ]
  },
  {
   "cell_type": "markdown",
   "metadata": {},
   "source": [
    "#### 29. Why do we need both stationarity and ergodicity?"
   ]
  },
  {
   "cell_type": "markdown",
   "metadata": {},
   "source": [
    "As ergodicity requires stationarity, we need to analise the situation where we have stationarity but not ergodicity.\n",
    "If we have only stationarity, while a single series might display consistent statistical properties over time, these properties might not generalize or hold true for other similar series or different segments of the same series. It only happens if we also have ergodicity, this broader application allows generalization and inference beyond a single series.\n",
    "\n",
    "So, having both properties allows us to ensures that the statistical properties of a single time series remain consistent over time, making it predictable and easier to model (stationarity) and that these statistical properties hold not only over time within a single series but also across multiple series or across different segments of the same serie (ergodicity). "
   ]
  },
  {
   "cell_type": "markdown",
   "metadata": {},
   "source": [
    "#### 30. Explain “spurious regression”."
   ]
  },
  {
   "cell_type": "markdown",
   "metadata": {},
   "source": [
    "Spurious regression is a statistical issue that arises when running a regression analysis between two or more variables that are not genuinely related, yet the regression model shows a seemingly significant relationship between them. A problem that arises when regression analysis indicates a relationship between two or more unrelated time series processes simply because each has a trend, is an integrated time series (such as a random walk), or both."
   ]
  },
  {
   "cell_type": "markdown",
   "metadata": {},
   "source": [
    "#### 31. Define a moving average and explain the trade-off involved in the choice of the size of the window and of whether to center or not the moving average."
   ]
  },
  {
   "cell_type": "markdown",
   "metadata": {},
   "source": [
    "A moving average calculates an average value over a specific subset of adjacent data points (a window) within the time series.\n",
    "\n",
    "For the size of the window the trade of is wheter we chose a larger window or a small one. A larger window (more observations included in the average) results in a smoother moving average. It reduces the impact of short-term fluctuations or noise in the data, providing a clearer view of the underlying trend or pattern. A smaller window leads to a more responsive moving average, capturing short-term changes or variations in the data more promptly. However, it might also amplify noise or irregularities, making it harder to discern the true trend amidst fluctuations.\n",
    "\n",
    "For centering or not the moving average, centering involves placing the calculated average at the midpoint of the window. It provides a more balanced view of the data, avoiding any significant lag in reflecting changes. This might be particularly useful for forecasting or identifying turning points in the series, the non-centering calculates the average at the end of the window. It reflects changes more quickly but might introduce a lag in capturing certain trends or changes, especially in the initial phase."
   ]
  },
  {
   "cell_type": "markdown",
   "metadata": {},
   "source": [
    "#### 32. Make all time series stationary by computing the difference between the original variable and a moving average of order 5."
   ]
  },
  {
   "cell_type": "code",
   "execution_count": 21,
   "metadata": {},
   "outputs": [
    {
     "data": {
      "text/html": [
       "<div>\n",
       "<style scoped>\n",
       "    .dataframe tbody tr th:only-of-type {\n",
       "        vertical-align: middle;\n",
       "    }\n",
       "\n",
       "    .dataframe tbody tr th {\n",
       "        vertical-align: top;\n",
       "    }\n",
       "\n",
       "    .dataframe thead th {\n",
       "        text-align: right;\n",
       "    }\n",
       "</style>\n",
       "<table border=\"1\" class=\"dataframe\">\n",
       "  <thead>\n",
       "    <tr style=\"text-align: right;\">\n",
       "      <th></th>\n",
       "      <th>Real GDP at market prices</th>\n",
       "      <th>unemployment rate</th>\n",
       "      <th>consumer price inflation</th>\n",
       "    </tr>\n",
       "    <tr>\n",
       "      <th>year</th>\n",
       "      <th></th>\n",
       "      <th></th>\n",
       "      <th></th>\n",
       "    </tr>\n",
       "  </thead>\n",
       "  <tbody>\n",
       "    <tr>\n",
       "      <th>1900</th>\n",
       "      <td>NaN</td>\n",
       "      <td>NaN</td>\n",
       "      <td>NaN</td>\n",
       "    </tr>\n",
       "    <tr>\n",
       "      <th>1901</th>\n",
       "      <td>NaN</td>\n",
       "      <td>NaN</td>\n",
       "      <td>NaN</td>\n",
       "    </tr>\n",
       "    <tr>\n",
       "      <th>1902</th>\n",
       "      <td>NaN</td>\n",
       "      <td>NaN</td>\n",
       "      <td>NaN</td>\n",
       "    </tr>\n",
       "    <tr>\n",
       "      <th>1903</th>\n",
       "      <td>NaN</td>\n",
       "      <td>NaN</td>\n",
       "      <td>NaN</td>\n",
       "    </tr>\n",
       "    <tr>\n",
       "      <th>1904</th>\n",
       "      <td>2543.024907</td>\n",
       "      <td>7.577201</td>\n",
       "      <td>-1.289777</td>\n",
       "    </tr>\n",
       "    <tr>\n",
       "      <th>...</th>\n",
       "      <td>...</td>\n",
       "      <td>...</td>\n",
       "      <td>...</td>\n",
       "    </tr>\n",
       "    <tr>\n",
       "      <th>1996</th>\n",
       "      <td>65790.800000</td>\n",
       "      <td>415.000000</td>\n",
       "      <td>-0.360351</td>\n",
       "    </tr>\n",
       "    <tr>\n",
       "      <th>1997</th>\n",
       "      <td>70372.000000</td>\n",
       "      <td>683.800000</td>\n",
       "      <td>-0.448665</td>\n",
       "    </tr>\n",
       "    <tr>\n",
       "      <th>1998</th>\n",
       "      <td>74371.000000</td>\n",
       "      <td>654.400000</td>\n",
       "      <td>-0.526053</td>\n",
       "    </tr>\n",
       "    <tr>\n",
       "      <th>1999</th>\n",
       "      <td>81059.200000</td>\n",
       "      <td>694.600000</td>\n",
       "      <td>-0.624785</td>\n",
       "    </tr>\n",
       "    <tr>\n",
       "      <th>2000</th>\n",
       "      <td>91176.600000</td>\n",
       "      <td>677.400000</td>\n",
       "      <td>-0.785039</td>\n",
       "    </tr>\n",
       "  </tbody>\n",
       "</table>\n",
       "<p>101 rows × 3 columns</p>\n",
       "</div>"
      ],
      "text/plain": [
       "      Real GDP at market prices  unemployment rate  consumer price inflation\n",
       "year                                                                        \n",
       "1900                        NaN                NaN                       NaN\n",
       "1901                        NaN                NaN                       NaN\n",
       "1902                        NaN                NaN                       NaN\n",
       "1903                        NaN                NaN                       NaN\n",
       "1904                2543.024907           7.577201                 -1.289777\n",
       "...                         ...                ...                       ...\n",
       "1996               65790.800000         415.000000                 -0.360351\n",
       "1997               70372.000000         683.800000                 -0.448665\n",
       "1998               74371.000000         654.400000                 -0.526053\n",
       "1999               81059.200000         694.600000                 -0.624785\n",
       "2000               91176.600000         677.400000                 -0.785039\n",
       "\n",
       "[101 rows x 3 columns]"
      ]
     },
     "execution_count": 21,
     "metadata": {},
     "output_type": "execute_result"
    }
   ],
   "source": [
    "# Calculate the moving average of order 5 for each time series\n",
    "df_ma = df_part3.rolling(window=5).mean()\n",
    "\n",
    "# Create stationary time series\n",
    "df_stationary = df_part3 - df_ma\n",
    "df_stationary\n"
   ]
  },
  {
   "cell_type": "markdown",
   "metadata": {},
   "source": [
    "#### 33. Compute the difference between the resulting time series of question 32 and a moving average of order 10. Give the exact formula for the weights after the two transformations."
   ]
  },
  {
   "cell_type": "markdown",
   "metadata": {},
   "source": [
    "The weights are uniforms for the two transformations:\n",
    "\n",
    "For the one of question 32: $[0.2, 0.2, 0.2, 0.2, 0.2]$ \n",
    "\n",
    "For the one of this question: $[0.1, 0.1, 0.1, 0.1, 0.1, 0.1, 0.1, 0.1, 0.1, 0.1]$"
   ]
  },
  {
   "cell_type": "code",
   "execution_count": 22,
   "metadata": {},
   "outputs": [
    {
     "data": {
      "text/html": [
       "<div>\n",
       "<style scoped>\n",
       "    .dataframe tbody tr th:only-of-type {\n",
       "        vertical-align: middle;\n",
       "    }\n",
       "\n",
       "    .dataframe tbody tr th {\n",
       "        vertical-align: top;\n",
       "    }\n",
       "\n",
       "    .dataframe thead th {\n",
       "        text-align: right;\n",
       "    }\n",
       "</style>\n",
       "<table border=\"1\" class=\"dataframe\">\n",
       "  <thead>\n",
       "    <tr style=\"text-align: right;\">\n",
       "      <th></th>\n",
       "      <th>Real GDP at market prices</th>\n",
       "      <th>unemployment rate</th>\n",
       "      <th>consumer price inflation</th>\n",
       "    </tr>\n",
       "    <tr>\n",
       "      <th>year</th>\n",
       "      <th></th>\n",
       "      <th></th>\n",
       "      <th></th>\n",
       "    </tr>\n",
       "  </thead>\n",
       "  <tbody>\n",
       "    <tr>\n",
       "      <th>1900</th>\n",
       "      <td>NaN</td>\n",
       "      <td>NaN</td>\n",
       "      <td>NaN</td>\n",
       "    </tr>\n",
       "    <tr>\n",
       "      <th>1901</th>\n",
       "      <td>NaN</td>\n",
       "      <td>NaN</td>\n",
       "      <td>NaN</td>\n",
       "    </tr>\n",
       "    <tr>\n",
       "      <th>1902</th>\n",
       "      <td>NaN</td>\n",
       "      <td>NaN</td>\n",
       "      <td>NaN</td>\n",
       "    </tr>\n",
       "    <tr>\n",
       "      <th>1903</th>\n",
       "      <td>NaN</td>\n",
       "      <td>NaN</td>\n",
       "      <td>NaN</td>\n",
       "    </tr>\n",
       "    <tr>\n",
       "      <th>1904</th>\n",
       "      <td>NaN</td>\n",
       "      <td>NaN</td>\n",
       "      <td>NaN</td>\n",
       "    </tr>\n",
       "    <tr>\n",
       "      <th>...</th>\n",
       "      <td>...</td>\n",
       "      <td>...</td>\n",
       "      <td>...</td>\n",
       "    </tr>\n",
       "    <tr>\n",
       "      <th>1996</th>\n",
       "      <td>44335.2</td>\n",
       "      <td>-286.6</td>\n",
       "      <td>-1.290377</td>\n",
       "    </tr>\n",
       "    <tr>\n",
       "      <th>1997</th>\n",
       "      <td>52821.4</td>\n",
       "      <td>-218.1</td>\n",
       "      <td>-1.639731</td>\n",
       "    </tr>\n",
       "    <tr>\n",
       "      <th>1998</th>\n",
       "      <td>65757.6</td>\n",
       "      <td>7.8</td>\n",
       "      <td>-1.609372</td>\n",
       "    </tr>\n",
       "    <tr>\n",
       "      <th>1999</th>\n",
       "      <td>76988.9</td>\n",
       "      <td>298.7</td>\n",
       "      <td>-1.348440</td>\n",
       "    </tr>\n",
       "    <tr>\n",
       "      <th>2000</th>\n",
       "      <td>88205.6</td>\n",
       "      <td>570.6</td>\n",
       "      <td>-1.102816</td>\n",
       "    </tr>\n",
       "  </tbody>\n",
       "</table>\n",
       "<p>101 rows × 3 columns</p>\n",
       "</div>"
      ],
      "text/plain": [
       "      Real GDP at market prices  unemployment rate  consumer price inflation\n",
       "year                                                                        \n",
       "1900                        NaN                NaN                       NaN\n",
       "1901                        NaN                NaN                       NaN\n",
       "1902                        NaN                NaN                       NaN\n",
       "1903                        NaN                NaN                       NaN\n",
       "1904                        NaN                NaN                       NaN\n",
       "...                         ...                ...                       ...\n",
       "1996                    44335.2             -286.6                 -1.290377\n",
       "1997                    52821.4             -218.1                 -1.639731\n",
       "1998                    65757.6                7.8                 -1.609372\n",
       "1999                    76988.9              298.7                 -1.348440\n",
       "2000                    88205.6              570.6                 -1.102816\n",
       "\n",
       "[101 rows x 3 columns]"
      ]
     },
     "execution_count": 22,
     "metadata": {},
     "output_type": "execute_result"
    }
   ],
   "source": [
    "# Calculate the moving average of order 10 for each time series\n",
    "df_ma_10 = df_part3.rolling(window=10).mean()\n",
    "\n",
    "df_ma_diff = df_ma - df_ma_10\n",
    "df_ma_diff"
   ]
  },
  {
   "cell_type": "markdown",
   "metadata": {},
   "source": [
    "#### 34. Using the original dataset, test the unit root hypothesis for all variables."
   ]
  },
  {
   "cell_type": "code",
   "execution_count": 23,
   "metadata": {},
   "outputs": [
    {
     "name": "stdout",
     "output_type": "stream",
     "text": [
      "Fail to reject the null hypothesis for Real GDP at market prices. t-value: 7.0405\n",
      "Fail to reject the null hypothesis for unemployment rate. t-value: -0.9248\n",
      "Reject the null hypothesis for consumer price inflation. t-value: -3.6694\n"
     ]
    }
   ],
   "source": [
    "import statsmodels.api as sm\n",
    "import numpy as np\n",
    "\n",
    "# We will perform the Dickey-Fuller test on the time series, \n",
    "# For this we construct the model: delta(yt) = alpha + p*yt-1\n",
    "# And test the null hypothesis: p = 0\n",
    "# the test is performed with 5% of significance level, wich means that the threshold is -2.86\n",
    "\n",
    "threshold = -2.86\n",
    "\n",
    "# Specify the columns to test\n",
    "columns_to_test = ['Real GDP at market prices', 'unemployment rate', 'consumer price inflation']\n",
    "\n",
    "df_part_3_test = df_part3.copy()\n",
    "\n",
    "# Loop over all columns in the DataFrame\n",
    "for column in columns_to_test:\n",
    "\n",
    "    # Calculate the difference of the variable\n",
    "    df_part_3_test[column+'_diff'] = df_part_3_test[column].diff()\n",
    "    \n",
    "    # Define the dependent variable and the independent variable\n",
    "    y = df_part_3_test[column+'_diff']\n",
    "    X = df_part_3_test[column].shift()\n",
    "    X = sm.add_constant(X) \n",
    "  \n",
    "    # Drop the missing values after creating X\n",
    "    y.dropna(inplace=True)\n",
    "    X.dropna(inplace=True)\n",
    "\n",
    "    # Perform the regression\n",
    "    model = sm.OLS(y, X)\n",
    "    results = model.fit()\n",
    "    \n",
    "    # Calculate the t-value\n",
    "    t_value = results.params.iloc[1] / results.bse.iloc[1]\n",
    "    \n",
    "    # Perform the test\n",
    "    if t_value < threshold:\n",
    "        print(f'Reject the null hypothesis for {column}. t-value: {t_value:.4f}')\n",
    "    else:\n",
    "        print(f'Fail to reject the null hypothesis for {column}. t-value: {t_value:.4f}')"
   ]
  },
  {
   "cell_type": "markdown",
   "metadata": {},
   "source": [
    "#### 35. Transform all variables so that they are stationary using either your answers to questions 32-33 or to question 34."
   ]
  },
  {
   "cell_type": "code",
   "execution_count": 24,
   "metadata": {},
   "outputs": [
    {
     "data": {
      "text/html": [
       "<div>\n",
       "<style scoped>\n",
       "    .dataframe tbody tr th:only-of-type {\n",
       "        vertical-align: middle;\n",
       "    }\n",
       "\n",
       "    .dataframe tbody tr th {\n",
       "        vertical-align: top;\n",
       "    }\n",
       "\n",
       "    .dataframe thead th {\n",
       "        text-align: right;\n",
       "    }\n",
       "</style>\n",
       "<table border=\"1\" class=\"dataframe\">\n",
       "  <thead>\n",
       "    <tr style=\"text-align: right;\">\n",
       "      <th></th>\n",
       "      <th>Real GDP at market prices</th>\n",
       "      <th>unemployment rate</th>\n",
       "      <th>consumer price inflation</th>\n",
       "    </tr>\n",
       "    <tr>\n",
       "      <th>year</th>\n",
       "      <th></th>\n",
       "      <th></th>\n",
       "      <th></th>\n",
       "    </tr>\n",
       "  </thead>\n",
       "  <tbody>\n",
       "    <tr>\n",
       "      <th>1900</th>\n",
       "      <td>NaN</td>\n",
       "      <td>NaN</td>\n",
       "      <td>NaN</td>\n",
       "    </tr>\n",
       "    <tr>\n",
       "      <th>1901</th>\n",
       "      <td>3814.264947</td>\n",
       "      <td>-20.092967</td>\n",
       "      <td>-4.358273</td>\n",
       "    </tr>\n",
       "    <tr>\n",
       "      <th>1902</th>\n",
       "      <td>2782.021143</td>\n",
       "      <td>95.351856</td>\n",
       "      <td>0.300000</td>\n",
       "    </tr>\n",
       "    <tr>\n",
       "      <th>1903</th>\n",
       "      <td>-1740.782376</td>\n",
       "      <td>69.630002</td>\n",
       "      <td>1.103310</td>\n",
       "    </tr>\n",
       "    <tr>\n",
       "      <th>1904</th>\n",
       "      <td>2139.791108</td>\n",
       "      <td>-85.403686</td>\n",
       "      <td>-1.500135</td>\n",
       "    </tr>\n",
       "    <tr>\n",
       "      <th>...</th>\n",
       "      <td>...</td>\n",
       "      <td>...</td>\n",
       "      <td>...</td>\n",
       "    </tr>\n",
       "    <tr>\n",
       "      <th>1996</th>\n",
       "      <td>30911.000000</td>\n",
       "      <td>242.000000</td>\n",
       "      <td>-0.256144</td>\n",
       "    </tr>\n",
       "    <tr>\n",
       "      <th>1997</th>\n",
       "      <td>38893.000000</td>\n",
       "      <td>466.000000</td>\n",
       "      <td>-0.575702</td>\n",
       "    </tr>\n",
       "    <tr>\n",
       "      <th>1998</th>\n",
       "      <td>40925.000000</td>\n",
       "      <td>269.000000</td>\n",
       "      <td>-0.267209</td>\n",
       "    </tr>\n",
       "    <tr>\n",
       "      <th>1999</th>\n",
       "      <td>43456.000000</td>\n",
       "      <td>373.000000</td>\n",
       "      <td>-0.228687</td>\n",
       "    </tr>\n",
       "    <tr>\n",
       "      <th>2000</th>\n",
       "      <td>51193.000000</td>\n",
       "      <td>316.000000</td>\n",
       "      <td>-0.532254</td>\n",
       "    </tr>\n",
       "  </tbody>\n",
       "</table>\n",
       "<p>101 rows × 3 columns</p>\n",
       "</div>"
      ],
      "text/plain": [
       "      Real GDP at market prices  unemployment rate  consumer price inflation\n",
       "year                                                                        \n",
       "1900                        NaN                NaN                       NaN\n",
       "1901                3814.264947         -20.092967                 -4.358273\n",
       "1902                2782.021143          95.351856                  0.300000\n",
       "1903               -1740.782376          69.630002                  1.103310\n",
       "1904                2139.791108         -85.403686                 -1.500135\n",
       "...                         ...                ...                       ...\n",
       "1996               30911.000000         242.000000                 -0.256144\n",
       "1997               38893.000000         466.000000                 -0.575702\n",
       "1998               40925.000000         269.000000                 -0.267209\n",
       "1999               43456.000000         373.000000                 -0.228687\n",
       "2000               51193.000000         316.000000                 -0.532254\n",
       "\n",
       "[101 rows x 3 columns]"
      ]
     },
     "execution_count": 24,
     "metadata": {},
     "output_type": "execute_result"
    }
   ],
   "source": [
    "# Create a new DataFrame to hold the differenced data\n",
    "df_diff = df_part3.copy()\n",
    "\n",
    "# Loop over all columns in the DataFrame\n",
    "for column in df_part3.columns:\n",
    "    df_diff[column] = df_part3[column].diff()\n",
    "\n",
    "# Display the first few rows of the resulting DataFrame\n",
    "df_diff"
   ]
  },
  {
   "cell_type": "markdown",
   "metadata": {},
   "source": [
    "#### 36. Explain the difference between ACF and PACF."
   ]
  },
  {
   "cell_type": "markdown",
   "metadata": {},
   "source": [
    "The Autocorrelation Function (ACF) measures how a time series observation correlates with its past observations at different time lags. It helps reveal patterns and relationships within the series over time, it highlights if current values are influenced by past values.\n",
    "\n",
    "The Partial Autocorrelation Function (PACF) delves deeper into the relationship between a specific observation and its lagged values while removing the effects of intermediate observations. Unlike the ACF, which measures all correlations across different lags, the PACF focuses solely on the direct correlation between an observation and its lag without considering the influence of intervening observations. \n",
    "\n",
    "ACF gives a broader view by examining correlations at various lags, showcasing the overall correlation structure within the series. On the other hand, PACF narrows down to specific lags, pinpointing direct dependencies while disregarding intermediate relationships. ACF captures general trends and patterns, while PACF reveals the immediate impact of past observations on the current data point."
   ]
  },
  {
   "cell_type": "markdown",
   "metadata": {},
   "source": [
    "#### 37. Plot and comment on the ACF and PACF of all variables."
   ]
  },
  {
   "cell_type": "markdown",
   "metadata": {},
   "source": [
    "In all variables, we observe a bar at lag 0 and 1 with correlation close to 1 in both ACF and PACF. This indicates that all variables are dependent on their previous values.\n",
    "\n",
    "**Real GDP at Market Prices:**\n",
    "\n",
    "For this variable, the PACF remains constant after the first lag, suggesting a positive correlation between its value ($z_t$) and its immediate preceding value ($z_{t-1}$).\n",
    "\n",
    "**Unemployment Rate**:\n",
    "\n",
    "Starting from the second lag, the ACF decreases. The PACF shows a negative correlation at the second lag, a smaller negative correlation at the third, and almost zero correlation for subsequent lags. This suggests a positive correlation with the variable itself ($z_t$) and its first lagged value ($z_{t-1}$). Additionally, there is a small negative correlation with the second lag ($z_{t-2}$) and an even smaller correlation with the third lag ($z_{t-3}$).\n",
    "\n",
    "**Consumer Price Inflation:**\n",
    "\n",
    "Similar to the Unemployment Rate, there's a negative correlation in the second and third lags, with the fourth lag also showing a negative value, leading to a decrease in the ACF. This suggests comparable correlations to the Unemployment Rate, but with an additional small negative correlation with the fourth lagged value ($z_{t-4}$)."
   ]
  },
  {
   "cell_type": "code",
   "execution_count": 25,
   "metadata": {},
   "outputs": [
    {
     "data": {
      "image/png": "[encoded data removed]",
      "text/plain": [
       "<Figure size 1200x800 with 2 Axes>"
      ]
     },
     "metadata": {},
     "output_type": "display_data"
    },
    {
     "data": {
      "image/png": "[encoded data removed]",
      "text/plain": [
       "<Figure size 1200x800 with 2 Axes>"
      ]
     },
     "metadata": {},
     "output_type": "display_data"
    },
    {
     "data": {
      "image/png": "[encoded data removed]",
      "text/plain": [
       "<Figure size 1200x800 with 2 Axes>"
      ]
     },
     "metadata": {},
     "output_type": "display_data"
    }
   ],
   "source": [
    "import matplotlib.pyplot as plt\n",
    "from statsmodels.graphics.tsaplots import plot_acf, plot_pacf\n",
    "\n",
    "# Loop over all columns in the DataFrame\n",
    "for column in df_part3.columns:\n",
    "    fig, (ax1, ax2) = plt.subplots(2, 1, figsize=(12,8))\n",
    "    \n",
    "    # Plot the ACF\n",
    "    plot_acf(df_part3[column], ax=ax1, lags=5)\n",
    "    ax1.set_title(f'Autocorrelation Function (ACF) of {column}')\n",
    "    ax1.set_xlabel('Lag')\n",
    "    \n",
    "    # Plot the PACF\n",
    "    plot_pacf(df_part3[column], ax=ax2, lags=5)\n",
    "    ax2.set_title(f'Partial Autocorrelation Function (PACF) of {column}')\n",
    "    ax2.set_xlabel('Lag')\n",
    "    \n",
    "    plt.tight_layout()\n",
    "    plt.show()"
   ]
  },
  {
   "cell_type": "markdown",
   "metadata": {},
   "source": [
    "#### 38. Explain the principle of parsimony and its relationship with Ockham’s razor using the theory of information criterion."
   ]
  },
  {
   "cell_type": "markdown",
   "metadata": {},
   "source": [
    "The principle of parsimony suggests that preferring simpler models over more complex ones when both adequately fit the data is better. It's often called Ockham's razor. "
   ]
  },
  {
   "cell_type": "markdown",
   "metadata": {},
   "source": [
    "#### 39. Explain the problem of auto-correlation of the errors."
   ]
  },
  {
   "cell_type": "markdown",
   "metadata": {},
   "source": [
    "Autocorrelation of errors, also known as serial correlation, refers to the presence of correlation among the error terms or residuals of a regression or time series model. This correlation violates the assumption of independence among residuals, which is crucial for the reliability of statistical inferences and model estimations."
   ]
  },
  {
   "cell_type": "markdown",
   "metadata": {},
   "source": [
    "#### 40. Using only stationary variables, run a regression of GDP on constant, unemployment and inflation and test the hypothesis of no-autocorrelation of errors."
   ]
  },
  {
   "cell_type": "markdown",
   "metadata": {},
   "source": [
    "\n",
    "PAG 582 - EXAMPLE 18.3 \n",
    "https://corporatefinanceinstitute.com/resources/data-science/durbin-watson-statistic/\n",
    "The Durbin Watson statistic will always assume a value between 0 and 4. A value of DW = 2 indicates that there is no autocorrelation. First check if we are using only stationary variables."
   ]
  },
  {
   "cell_type": "code",
   "execution_count": 26,
   "metadata": {},
   "outputs": [
    {
     "name": "stdout",
     "output_type": "stream",
     "text": [
      "ADF Test for Real GDP at market prices: p-value = 1.0\n",
      "Real GDP at market prices is not stationary. Differencing...\n",
      "ADF Test for unemployment rate: p-value = 0.6830243987354911\n",
      "unemployment rate is not stationary. Differencing...\n",
      "ADF Test for consumer price inflation: p-value = 0.001168599408868904\n",
      "consumer price inflation is stationary.\n",
      "                                     OLS Regression Results                                    \n",
      "===============================================================================================\n",
      "Dep. Variable:     Q(\"Real GDP at market prices_diff\")   R-squared:                       0.218\n",
      "Model:                                             OLS   Adj. R-squared:                  0.202\n",
      "Method:                                  Least Squares   F-statistic:                     13.53\n",
      "Date:                                 Sun, 10 Dec 2023   Prob (F-statistic):           6.56e-06\n",
      "Time:                                         19:50:50   Log-Likelihood:                -1102.8\n",
      "No. Observations:                                  100   AIC:                             2212.\n",
      "Df Residuals:                                       97   BIC:                             2219.\n",
      "Df Model:                                            2                                         \n",
      "Covariance Type:                             nonrobust                                         \n",
      "=================================================================================================\n",
      "                                    coef    std err          t      P>|t|      [0.025      0.975]\n",
      "-------------------------------------------------------------------------------------------------\n",
      "Intercept                      1.168e+04   1876.767      6.225      0.000    7957.708    1.54e+04\n",
      "Q(\"unemployment rate_diff\")      18.0501      3.488      5.175      0.000      11.128      24.973\n",
      "Q(\"consumer price inflation\")  -284.6607    246.600     -1.154      0.251    -774.093     204.771\n",
      "==============================================================================\n",
      "Omnibus:                        6.928   Durbin-Watson:                   0.846\n",
      "Prob(Omnibus):                  0.031   Jarque-Bera (JB):                6.524\n",
      "Skew:                           0.562   Prob(JB):                       0.0383\n",
      "Kurtosis:                       2.452   Cond. No.                         560.\n",
      "==============================================================================\n",
      "\n",
      "Notes:\n",
      "[1] Standard Errors assume that the covariance matrix of the errors is correctly specified.\n",
      "Durbin-Watson Statistic: 0.8461725976568517\n",
      "Durbin-Watson statistic suggests positive autocorrelation.\n"
     ]
    }
   ],
   "source": [
    "import statsmodels.api as sm\n",
    "import statsmodels.formula.api as smf\n",
    "from statsmodels.tsa.stattools import adfuller\n",
    "\n",
    "# Check stationarity of variables\n",
    "variables = [\"Real GDP at market prices\", \"unemployment rate\", \"consumer price inflation\"]\n",
    "stationary_variables = []\n",
    "\n",
    "# Replace missing values with the mean of the column\n",
    "df_part3_copy = df_part3.copy()\n",
    "df_part3_copy = df_part3_copy.fillna(df_part3_copy.mean())\n",
    "for variable in variables:\n",
    "    adf_result = adfuller(df_part3_copy[variable])\n",
    "    print(f\"ADF Test for {variable}: p-value = {adf_result[1]}\")\n",
    "    if adf_result[1] <= 0.05:\n",
    "        print(f\"{variable} is stationary.\")\n",
    "        stationary_variables.append(variable)\n",
    "    else:\n",
    "        print(f\"{variable} is not stationary. Differencing...\")\n",
    "        df_part3_copy[f\"{variable}_diff\"] = df_part3_copy[variable].diff().dropna()\n",
    "        stationary_variables.append(f\"{variable}_diff\")\n",
    "\n",
    "# Run the regression only if all variables are stationary\n",
    "if len(stationary_variables) == len(variables):\n",
    "    model_formula = 'Q(\"' + stationary_variables[0] + '\") ~ Q(\"' + stationary_variables[1] + '\") + Q(\"' + stationary_variables[2] + '\")'\n",
    "    model = smf.ols(formula=model_formula, data=df_part3_copy)\n",
    "    results = model.fit()\n",
    "\n",
    "    # Print regression summary\n",
    "    print(results.summary())\n",
    "\n",
    "    # Test for autocorrelation of errors (example using Durbin-Watson test)\n",
    "    dw_statistic = sm.stats.stattools.durbin_watson(results.resid)\n",
    "    print(f\"Durbin-Watson Statistic: {dw_statistic}\")\n",
    "\n",
    "    # Interpretation of Durbin-Watson Statistic\n",
    "    if 1.5 < dw_statistic < 2.5:\n",
    "        print(\"Durbin-Watson statistic suggests no significant autocorrelation.\")\n",
    "    elif dw_statistic <= 1.5:\n",
    "        print(\"Durbin-Watson statistic suggests positive autocorrelation.\")\n",
    "    elif dw_statistic >= 2.5:\n",
    "        print(\"Durbin-Watson statistic suggests negative autocorrelation.\")\n",
    "else:\n",
    "    print(\"Not all variables are stationary. Consider transforming the variables.\")"
   ]
  },
  {
   "cell_type": "markdown",
   "metadata": {},
   "source": [
    "#### 41. Regardless of your answer to question 40, correct auto-correlation with GLS. Comment on the difference with question 40."
   ]
  },
  {
   "cell_type": "markdown",
   "metadata": {},
   "source": []
  },
  {
   "cell_type": "code",
   "execution_count": 27,
   "metadata": {},
   "outputs": [
    {
     "name": "stdout",
     "output_type": "stream",
     "text": [
      "ADF Test for Real GDP at market prices: p-value = 1.0\n",
      "Real GDP at market prices is not stationary. Differencing...\n",
      "ADF Test for unemployment rate: p-value = 0.6830243987354911\n",
      "unemployment rate is not stationary. Differencing...\n",
      "ADF Test for consumer price inflation: p-value = 0.001168599408868904\n",
      "consumer price inflation is stationary.\n",
      "                                     OLS Regression Results                                    \n",
      "===============================================================================================\n",
      "Dep. Variable:     Q(\"Real GDP at market prices_diff\")   R-squared:                       0.218\n",
      "Model:                                             OLS   Adj. R-squared:                  0.202\n",
      "Method:                                  Least Squares   F-statistic:                     13.53\n",
      "Date:                                 Sun, 10 Dec 2023   Prob (F-statistic):           6.56e-06\n",
      "Time:                                         19:50:50   Log-Likelihood:                -1102.8\n",
      "No. Observations:                                  100   AIC:                             2212.\n",
      "Df Residuals:                                       97   BIC:                             2219.\n",
      "Df Model:                                            2                                         \n",
      "Covariance Type:                             nonrobust                                         \n",
      "=================================================================================================\n",
      "                                    coef    std err          t      P>|t|      [0.025      0.975]\n",
      "-------------------------------------------------------------------------------------------------\n",
      "Intercept                      1.168e+04   1876.767      6.225      0.000    7957.708    1.54e+04\n",
      "Q(\"unemployment rate_diff\")      18.0501      3.488      5.175      0.000      11.128      24.973\n",
      "Q(\"consumer price inflation\")  -284.6607    246.600     -1.154      0.251    -774.093     204.771\n",
      "==============================================================================\n",
      "Omnibus:                        6.928   Durbin-Watson:                   0.846\n",
      "Prob(Omnibus):                  0.031   Jarque-Bera (JB):                6.524\n",
      "Skew:                           0.562   Prob(JB):                       0.0383\n",
      "Kurtosis:                       2.452   Cond. No.                         560.\n",
      "==============================================================================\n",
      "\n",
      "Notes:\n",
      "[1] Standard Errors assume that the covariance matrix of the errors is correctly specified.\n",
      "Durbin-Watson Statistic: 0.8461725976568517\n",
      "Durbin-Watson statistic suggests positive autocorrelation.\n"
     ]
    }
   ],
   "source": [
    "import statsmodels.api as sm\n",
    "import statsmodels.formula.api as smf\n",
    "from statsmodels.tsa.stattools import adfuller\n",
    "\n",
    "# Check stationarity of variables\n",
    "variables = [\"Real GDP at market prices\", \"unemployment rate\", \"consumer price inflation\"]\n",
    "stationary_variables = []\n",
    "\n",
    "df_part3_copy = df_part3.copy()\n",
    "\n",
    "for variable in variables:\n",
    "    adf_result = adfuller(df_part3_copy[variable])\n",
    "    print(f\"ADF Test for {variable}: p-value = {adf_result[1]}\")\n",
    "    if adf_result[1] <= 0.05:\n",
    "        print(f\"{variable} is stationary.\")\n",
    "        stationary_variables.append(variable)\n",
    "    else:\n",
    "        print(f\"{variable} is not stationary. Differencing...\")\n",
    "        df_part3_copy[f\"{variable}_diff\"] = df_part3_copy[variable].diff().dropna()\n",
    "        stationary_variables.append(f\"{variable}_diff\")\n",
    "\n",
    "# Run the regression only if all variables are stationary\n",
    "if len(stationary_variables) == len(variables):\n",
    "    model_formula = 'Q(\"' + stationary_variables[0] + '\") ~ Q(\"' + stationary_variables[1] + '\") + Q(\"' + stationary_variables[2] + '\")'\n",
    "    model = smf.ols(formula=model_formula, data=df_part3_copy)\n",
    "    results = model.fit()\n",
    "\n",
    "    # Print regression summary\n",
    "    print(results.summary())\n",
    "\n",
    "    # Test for autocorrelation of errors (example using Durbin-Watson test)\n",
    "    dw_statistic = sm.stats.stattools.durbin_watson(results.resid)\n",
    "    print(f\"Durbin-Watson Statistic: {dw_statistic}\")\n",
    "\n",
    "    # Interpretation of Durbin-Watson Statistic\n",
    "    if 1.5 < dw_statistic < 2.5:\n",
    "        print(\"Durbin-Watson statistic suggests no significant autocorrelation.\")\n",
    "    elif dw_statistic <= 1.5:\n",
    "        print(\"Durbin-Watson statistic suggests positive autocorrelation.\")\n",
    "    elif dw_statistic >= 2.5:\n",
    "        print(\"Durbin-Watson statistic suggests negative autocorrelation.\")\n",
    "else:\n",
    "    print(\"Not all variables are stationary. Consider transforming the variables.\")"
   ]
  },
  {
   "cell_type": "markdown",
   "metadata": {},
   "source": [
    "#### 42. For all variables, construct their lag 1 and lag 2 variables."
   ]
  },
  {
   "cell_type": "code",
   "execution_count": 28,
   "metadata": {},
   "outputs": [
    {
     "data": {
      "text/html": [
       "<div>\n",
       "<style scoped>\n",
       "    .dataframe tbody tr th:only-of-type {\n",
       "        vertical-align: middle;\n",
       "    }\n",
       "\n",
       "    .dataframe tbody tr th {\n",
       "        vertical-align: top;\n",
       "    }\n",
       "\n",
       "    .dataframe thead th {\n",
       "        text-align: right;\n",
       "    }\n",
       "</style>\n",
       "<table border=\"1\" class=\"dataframe\">\n",
       "  <thead>\n",
       "    <tr style=\"text-align: right;\">\n",
       "      <th></th>\n",
       "      <th>Real GDP at market prices</th>\n",
       "      <th>unemployment rate</th>\n",
       "      <th>consumer price inflation</th>\n",
       "      <th>Real GDP at market prices_lag_1</th>\n",
       "      <th>Real GDP at market prices_lag_2</th>\n",
       "      <th>unemployment rate_lag_1</th>\n",
       "      <th>unemployment rate_lag_2</th>\n",
       "      <th>consumer price inflation_lag_1</th>\n",
       "      <th>consumer price inflation_lag_2</th>\n",
       "    </tr>\n",
       "    <tr>\n",
       "      <th>year</th>\n",
       "      <th></th>\n",
       "      <th></th>\n",
       "      <th></th>\n",
       "      <th></th>\n",
       "      <th></th>\n",
       "      <th></th>\n",
       "      <th></th>\n",
       "      <th></th>\n",
       "      <th></th>\n",
       "    </tr>\n",
       "  </thead>\n",
       "  <tbody>\n",
       "    <tr>\n",
       "      <th>1900</th>\n",
       "      <td>1.811603e+05</td>\n",
       "      <td>16689.642547</td>\n",
       "      <td>4.058273</td>\n",
       "      <td>NaN</td>\n",
       "      <td>NaN</td>\n",
       "      <td>NaN</td>\n",
       "      <td>NaN</td>\n",
       "      <td>NaN</td>\n",
       "      <td>NaN</td>\n",
       "    </tr>\n",
       "    <tr>\n",
       "      <th>1901</th>\n",
       "      <td>1.849745e+05</td>\n",
       "      <td>16669.549581</td>\n",
       "      <td>-0.300000</td>\n",
       "      <td>1.811603e+05</td>\n",
       "      <td>NaN</td>\n",
       "      <td>16689.642547</td>\n",
       "      <td>NaN</td>\n",
       "      <td>4.058273</td>\n",
       "      <td>NaN</td>\n",
       "    </tr>\n",
       "    <tr>\n",
       "      <th>1902</th>\n",
       "      <td>1.877566e+05</td>\n",
       "      <td>16764.901436</td>\n",
       "      <td>0.000000</td>\n",
       "      <td>1.849745e+05</td>\n",
       "      <td>1.811603e+05</td>\n",
       "      <td>16669.549581</td>\n",
       "      <td>16689.642547</td>\n",
       "      <td>-0.300000</td>\n",
       "      <td>4.058273</td>\n",
       "    </tr>\n",
       "    <tr>\n",
       "      <th>1903</th>\n",
       "      <td>1.860158e+05</td>\n",
       "      <td>16834.531438</td>\n",
       "      <td>1.103310</td>\n",
       "      <td>1.877566e+05</td>\n",
       "      <td>1.849745e+05</td>\n",
       "      <td>16764.901436</td>\n",
       "      <td>16669.549581</td>\n",
       "      <td>0.000000</td>\n",
       "      <td>-0.300000</td>\n",
       "    </tr>\n",
       "    <tr>\n",
       "      <th>1904</th>\n",
       "      <td>1.881556e+05</td>\n",
       "      <td>16749.127752</td>\n",
       "      <td>-0.396825</td>\n",
       "      <td>1.860158e+05</td>\n",
       "      <td>1.877566e+05</td>\n",
       "      <td>16834.531438</td>\n",
       "      <td>16764.901436</td>\n",
       "      <td>1.103310</td>\n",
       "      <td>0.000000</td>\n",
       "    </tr>\n",
       "    <tr>\n",
       "      <th>...</th>\n",
       "      <td>...</td>\n",
       "      <td>...</td>\n",
       "      <td>...</td>\n",
       "      <td>...</td>\n",
       "      <td>...</td>\n",
       "      <td>...</td>\n",
       "      <td>...</td>\n",
       "      <td>...</td>\n",
       "      <td>...</td>\n",
       "    </tr>\n",
       "    <tr>\n",
       "      <th>1996</th>\n",
       "      <td>1.243709e+06</td>\n",
       "      <td>26060.000000</td>\n",
       "      <td>2.400308</td>\n",
       "      <td>1.212798e+06</td>\n",
       "      <td>1.183144e+06</td>\n",
       "      <td>25818.000000</td>\n",
       "      <td>25504.000000</td>\n",
       "      <td>2.656452</td>\n",
       "      <td>1.978490</td>\n",
       "    </tr>\n",
       "    <tr>\n",
       "      <th>1997</th>\n",
       "      <td>1.282602e+06</td>\n",
       "      <td>26526.000000</td>\n",
       "      <td>1.824606</td>\n",
       "      <td>1.243709e+06</td>\n",
       "      <td>1.212798e+06</td>\n",
       "      <td>26060.000000</td>\n",
       "      <td>25818.000000</td>\n",
       "      <td>2.400308</td>\n",
       "      <td>2.656452</td>\n",
       "    </tr>\n",
       "    <tr>\n",
       "      <th>1998</th>\n",
       "      <td>1.323527e+06</td>\n",
       "      <td>26795.000000</td>\n",
       "      <td>1.557398</td>\n",
       "      <td>1.282602e+06</td>\n",
       "      <td>1.243709e+06</td>\n",
       "      <td>26526.000000</td>\n",
       "      <td>26060.000000</td>\n",
       "      <td>1.824606</td>\n",
       "      <td>2.400308</td>\n",
       "    </tr>\n",
       "    <tr>\n",
       "      <th>1999</th>\n",
       "      <td>1.366983e+06</td>\n",
       "      <td>27168.000000</td>\n",
       "      <td>1.328710</td>\n",
       "      <td>1.323527e+06</td>\n",
       "      <td>1.282602e+06</td>\n",
       "      <td>26795.000000</td>\n",
       "      <td>26526.000000</td>\n",
       "      <td>1.557398</td>\n",
       "      <td>1.824606</td>\n",
       "    </tr>\n",
       "    <tr>\n",
       "      <th>2000</th>\n",
       "      <td>1.418176e+06</td>\n",
       "      <td>27484.000000</td>\n",
       "      <td>0.796456</td>\n",
       "      <td>1.366983e+06</td>\n",
       "      <td>1.323527e+06</td>\n",
       "      <td>27168.000000</td>\n",
       "      <td>26795.000000</td>\n",
       "      <td>1.328710</td>\n",
       "      <td>1.557398</td>\n",
       "    </tr>\n",
       "  </tbody>\n",
       "</table>\n",
       "<p>101 rows × 9 columns</p>\n",
       "</div>"
      ],
      "text/plain": [
       "      Real GDP at market prices  unemployment rate  consumer price inflation  \\\n",
       "year                                                                           \n",
       "1900               1.811603e+05       16689.642547                  4.058273   \n",
       "1901               1.849745e+05       16669.549581                 -0.300000   \n",
       "1902               1.877566e+05       16764.901436                  0.000000   \n",
       "1903               1.860158e+05       16834.531438                  1.103310   \n",
       "1904               1.881556e+05       16749.127752                 -0.396825   \n",
       "...                         ...                ...                       ...   \n",
       "1996               1.243709e+06       26060.000000                  2.400308   \n",
       "1997               1.282602e+06       26526.000000                  1.824606   \n",
       "1998               1.323527e+06       26795.000000                  1.557398   \n",
       "1999               1.366983e+06       27168.000000                  1.328710   \n",
       "2000               1.418176e+06       27484.000000                  0.796456   \n",
       "\n",
       "      Real GDP at market prices_lag_1  Real GDP at market prices_lag_2  \\\n",
       "year                                                                     \n",
       "1900                              NaN                              NaN   \n",
       "1901                     1.811603e+05                              NaN   \n",
       "1902                     1.849745e+05                     1.811603e+05   \n",
       "1903                     1.877566e+05                     1.849745e+05   \n",
       "1904                     1.860158e+05                     1.877566e+05   \n",
       "...                               ...                              ...   \n",
       "1996                     1.212798e+06                     1.183144e+06   \n",
       "1997                     1.243709e+06                     1.212798e+06   \n",
       "1998                     1.282602e+06                     1.243709e+06   \n",
       "1999                     1.323527e+06                     1.282602e+06   \n",
       "2000                     1.366983e+06                     1.323527e+06   \n",
       "\n",
       "      unemployment rate_lag_1  unemployment rate_lag_2  \\\n",
       "year                                                     \n",
       "1900                      NaN                      NaN   \n",
       "1901             16689.642547                      NaN   \n",
       "1902             16669.549581             16689.642547   \n",
       "1903             16764.901436             16669.549581   \n",
       "1904             16834.531438             16764.901436   \n",
       "...                       ...                      ...   \n",
       "1996             25818.000000             25504.000000   \n",
       "1997             26060.000000             25818.000000   \n",
       "1998             26526.000000             26060.000000   \n",
       "1999             26795.000000             26526.000000   \n",
       "2000             27168.000000             26795.000000   \n",
       "\n",
       "      consumer price inflation_lag_1  consumer price inflation_lag_2  \n",
       "year                                                                  \n",
       "1900                             NaN                             NaN  \n",
       "1901                        4.058273                             NaN  \n",
       "1902                       -0.300000                        4.058273  \n",
       "1903                        0.000000                       -0.300000  \n",
       "1904                        1.103310                        0.000000  \n",
       "...                              ...                             ...  \n",
       "1996                        2.656452                        1.978490  \n",
       "1997                        2.400308                        2.656452  \n",
       "1998                        1.824606                        2.400308  \n",
       "1999                        1.557398                        1.824606  \n",
       "2000                        1.328710                        1.557398  \n",
       "\n",
       "[101 rows x 9 columns]"
      ]
     },
     "execution_count": 28,
     "metadata": {},
     "output_type": "execute_result"
    }
   ],
   "source": [
    "# Assuming df is your DataFrame\n",
    "\n",
    "# List of variables for which you want to construct lag variables\n",
    "variables = [\"Real GDP at market prices\", \"unemployment rate\", \"consumer price inflation\"]\n",
    "\n",
    "# Number of lags to create\n",
    "lags = [1, 2]\n",
    "\n",
    "df_part3_lag = df_part3.copy()\n",
    "\n",
    "# Construct lag variables for each specified lag\n",
    "for variable in variables:\n",
    "    for lag in lags:\n",
    "        df_part3_lag[f\"{variable}_lag_{lag}\"] = df_part3_lag[variable].shift(lag)\n",
    "\n",
    "# Display the modified DataFrame with lag variables\n",
    "df_part3_lag\n"
   ]
  },
  {
   "cell_type": "markdown",
   "metadata": {},
   "source": [
    "#### 43. Run a regression of GDP on constant, lag 1 unemployment, lag 2 unemployment, lag 1 inflation, lag 2 inflation. What is the number of observations and why?"
   ]
  },
  {
   "cell_type": "markdown",
   "metadata": {},
   "source": [
    "The number of observations is  $ 99 $ and this reflects the number of non-missing observations after handling lagged variables, and the original dataset likely had 330 observations. What happend when we create the lagged variables, lag 1 and 2 for inflation, we lose the first 2 variables because we don't have previous values for these two lags and we lose them. \n",
    "\n",
    "$$ n - 2 $$\n"
   ]
  },
  {
   "cell_type": "code",
   "execution_count": 29,
   "metadata": {},
   "outputs": [
    {
     "name": "stdout",
     "output_type": "stream",
     "text": [
      "                                OLS Regression Results                               \n",
      "=====================================================================================\n",
      "Dep. Variable:     Real GDP at market prices   R-squared:                       0.667\n",
      "Model:                                   OLS   Adj. R-squared:                  0.653\n",
      "Method:                        Least Squares   F-statistic:                     47.02\n",
      "Date:                       Sun, 10 Dec 2023   Prob (F-statistic):           1.20e-21\n",
      "Time:                               19:50:50   Log-Likelihood:                -1349.0\n",
      "No. Observations:                         99   AIC:                             2708.\n",
      "Df Residuals:                             94   BIC:                             2721.\n",
      "Df Model:                                  4                                         \n",
      "Covariance Type:                   nonrobust                                         \n",
      "==========================================================================================\n",
      "                             coef    std err          t      P>|t|      [0.025      0.975]\n",
      "------------------------------------------------------------------------------------------\n",
      "const                  -1.561e+06   1.56e+05    -10.017      0.000   -1.87e+06   -1.25e+06\n",
      "unemployment_rate_lag1    89.7223     55.079      1.629      0.107     -19.638     199.083\n",
      "unemployment_rate_lag2     5.0809     55.003      0.092      0.927    -104.129     114.290\n",
      "inflation_lag1         -6770.6855   5804.586     -1.166      0.246   -1.83e+04    4754.456\n",
      "inflation_lag2           194.1521   5925.185      0.033      0.974   -1.16e+04     1.2e+04\n",
      "==============================================================================\n",
      "Omnibus:                        2.831   Durbin-Watson:                   0.035\n",
      "Prob(Omnibus):                  0.243   Jarque-Bera (JB):                1.780\n",
      "Skew:                           0.047   Prob(JB):                        0.411\n",
      "Kurtosis:                       2.350   Cond. No.                     2.41e+05\n",
      "==============================================================================\n",
      "\n",
      "Notes:\n",
      "[1] Standard Errors assume that the covariance matrix of the errors is correctly specified.\n",
      "[2] The condition number is large, 2.41e+05. This might indicate that there are\n",
      "strong multicollinearity or other numerical problems.\n",
      "Number of observations: 99\n"
     ]
    }
   ],
   "source": [
    "import statsmodels.api as sm\n",
    "\n",
    "# Assuming 'df' is your DataFrame\n",
    "\n",
    "df_part3_lag_2 = df_part3.copy()\n",
    "\n",
    "# Create lagged variables\n",
    "df_part3_lag_2.loc[:, 'unemployment_rate_lag1'] = df_part3_lag_2['unemployment rate'].shift(1)\n",
    "df_part3_lag_2.loc[:, 'unemployment_rate_lag2'] = df_part3_lag_2['unemployment rate'].shift(2)\n",
    "df_part3_lag_2.loc[:, 'inflation_lag1'] = df_part3_lag_2['consumer price inflation'].shift(1)\n",
    "df_part3_lag_2.loc[:, 'inflation_lag2'] = df_part3_lag_2['consumer price inflation'].shift(2)\n",
    "\n",
    "# Drop rows with NaN values introduced by the shift\n",
    "df_part3_lag_2 = df_part3_lag_2.dropna()\n",
    "\n",
    "# Define the independent variables\n",
    "X = df_part3_lag_2[['unemployment_rate_lag1', 'unemployment_rate_lag2', 'inflation_lag1', 'inflation_lag2']]\n",
    "\n",
    "# Add a constant to the independent variables matrix\n",
    "X = sm.add_constant(X)\n",
    "\n",
    "# Define the dependent variable\n",
    "y = df_part3_lag_2['Real GDP at market prices']\n",
    "\n",
    "# Create the OLS model\n",
    "model = sm.OLS(y, X)\n",
    "\n",
    "# Fit the model\n",
    "results = model.fit()\n",
    "\n",
    "# Print the regression summary\n",
    "print(results.summary())\n",
    "\n",
    "# Number of observations\n",
    "num_observations = len(df_part3_lag_2)\n",
    "print(f\"Number of observations: {num_observations}\")"
   ]
  },
  {
   "cell_type": "markdown",
   "metadata": {},
   "source": [
    "#### 44. State and test the no-Granger causality hypothesis of inflation on GDP at the 10% level"
   ]
  },
  {
   "cell_type": "markdown",
   "metadata": {},
   "source": []
  },
  {
   "cell_type": "code",
   "execution_count": 30,
   "metadata": {},
   "outputs": [
    {
     "name": "stdout",
     "output_type": "stream",
     "text": [
      "\n",
      "Granger Causality\n",
      "number of lags (no zero) 1\n",
      "ssr based F test:         F=6.1783  , p=0.0146  , df_denom=97, df_num=1\n",
      "ssr based chi2 test:   chi2=6.3694  , p=0.0116  , df=1\n",
      "likelihood ratio test: chi2=6.1747  , p=0.0130  , df=1\n",
      "parameter F test:         F=6.1783  , p=0.0146  , df_denom=97, df_num=1\n",
      "\n",
      "Granger Causality\n",
      "number of lags (no zero) 2\n",
      "ssr based F test:         F=1.9766  , p=0.1443  , df_denom=94, df_num=2\n",
      "ssr based chi2 test:   chi2=4.1635  , p=0.1247  , df=2\n",
      "likelihood ratio test: chi2=4.0783  , p=0.1301  , df=2\n",
      "parameter F test:         F=1.9766  , p=0.1443  , df_denom=94, df_num=2\n",
      "\n",
      "\n",
      "p-values for each lag are:  [0.0146, 0.1443]\n",
      "At lag 1, we reject the null hypothesis that inflation does not Granger-cause GDP at the 10% significance level.\n",
      "At lag 2, we fail to reject the null hypothesis that inflation does not Granger-cause GDP at the 10% significance level.\n"
     ]
    }
   ],
   "source": [
    "from statsmodels.tsa.stattools import grangercausalitytests\n",
    "\n",
    "df_part3_granger = df_part3.copy()\n",
    "\n",
    "# Define the maximum number of lags to test for Granger causality\n",
    "maxlag = 2\n",
    "\n",
    "# Run the Granger causality test\n",
    "test_result = grangercausalitytests(df_part3_granger[['Real GDP at market prices', 'consumer price inflation']], maxlag)\n",
    "\n",
    "# Extract the p-values for each lag\n",
    "p_values = [round(test_result[i+1][0]['ssr_ftest'][1],4) for i in range(maxlag)]\n",
    "\n",
    "print(\"\\n\")\n",
    "# Print the p-values\n",
    "print('p-values for each lag are: ', p_values)\n",
    "\n",
    "# Check if p-value is less than 0.10 at each lag\n",
    "for i in range(maxlag):\n",
    "    if p_values[i] < 0.10:\n",
    "        print(f\"At lag {i+1}, we reject the null hypothesis that inflation does not Granger-cause GDP at the 10% significance level.\")\n",
    "    else:\n",
    "        print(f\"At lag {i+1}, we fail to reject the null hypothesis that inflation does not Granger-cause GDP at the 10% significance level.\")"
   ]
  },
  {
   "cell_type": "markdown",
   "metadata": {},
   "source": [
    "#### 45. Divide the sample in two groups: 1900-1950 and 1951-2000. Test the stability of coefficients between the two periods."
   ]
  },
  {
   "cell_type": "code",
   "execution_count": null,
   "metadata": {},
   "outputs": [],
   "source": []
  },
  {
   "cell_type": "markdown",
   "metadata": {},
   "source": []
  }
 ],
 "metadata": {
  "kernelspec": {
   "display_name": "Python 3 (ipykernel)",
   "language": "python",
   "name": "python3"
  },
  "language_info": {
   "codemirror_mode": {
    "name": "ipython",
    "version": 3
   },
   "file_extension": ".py",
   "mimetype": "text/x-python",
   "name": "python",
   "nbconvert_exporter": "python",
   "pygments_lexer": "ipython3",
   "version": "3.11.2"
  }
 },
 "nbformat": 4,
 "nbformat_minor": 2
}
