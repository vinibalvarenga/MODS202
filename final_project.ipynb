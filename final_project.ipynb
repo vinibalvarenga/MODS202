{
 "cells": [
  {
   "cell_type": "markdown",
   "metadata": {},
   "source": [
    "Students:\n",
    "\n",
    "Gabriel Mauricio Molina\n",
    "\n",
    "Vinícius Barros Alvarenga\n",
    "\n",
    "---"
   ]
  },
  {
   "cell_type": "code",
   "execution_count": 3,
   "metadata": {},
   "outputs": [
    {
     "data": {
      "text/html": [
       "<div>\n",
       "<style scoped>\n",
       "    .dataframe tbody tr th:only-of-type {\n",
       "        vertical-align: middle;\n",
       "    }\n",
       "\n",
       "    .dataframe tbody tr th {\n",
       "        vertical-align: top;\n",
       "    }\n",
       "\n",
       "    .dataframe thead th {\n",
       "        text-align: right;\n",
       "    }\n",
       "</style>\n",
       "<table border=\"1\" class=\"dataframe\">\n",
       "  <thead>\n",
       "    <tr style=\"text-align: right;\">\n",
       "      <th></th>\n",
       "      <th>price</th>\n",
       "      <th>crime</th>\n",
       "      <th>nox</th>\n",
       "      <th>rooms</th>\n",
       "      <th>dist</th>\n",
       "      <th>radial</th>\n",
       "      <th>proptax</th>\n",
       "      <th>stratio</th>\n",
       "      <th>lowstat</th>\n",
       "      <th>lprice</th>\n",
       "      <th>lnox</th>\n",
       "      <th>lproptax</th>\n",
       "    </tr>\n",
       "  </thead>\n",
       "  <tbody>\n",
       "    <tr>\n",
       "      <th>0</th>\n",
       "      <td>24000</td>\n",
       "      <td>0.006</td>\n",
       "      <td>5.38</td>\n",
       "      <td>6.57</td>\n",
       "      <td>4.09</td>\n",
       "      <td>1</td>\n",
       "      <td>29.6</td>\n",
       "      <td>15.3</td>\n",
       "      <td>4.98</td>\n",
       "      <td>10.085810</td>\n",
       "      <td>1.682688</td>\n",
       "      <td>5.690360</td>\n",
       "    </tr>\n",
       "    <tr>\n",
       "      <th>1</th>\n",
       "      <td>21599</td>\n",
       "      <td>0.027</td>\n",
       "      <td>4.69</td>\n",
       "      <td>6.42</td>\n",
       "      <td>4.97</td>\n",
       "      <td>2</td>\n",
       "      <td>24.2</td>\n",
       "      <td>17.8</td>\n",
       "      <td>9.14</td>\n",
       "      <td>9.980402</td>\n",
       "      <td>1.545433</td>\n",
       "      <td>5.488938</td>\n",
       "    </tr>\n",
       "    <tr>\n",
       "      <th>2</th>\n",
       "      <td>34700</td>\n",
       "      <td>0.027</td>\n",
       "      <td>4.69</td>\n",
       "      <td>7.18</td>\n",
       "      <td>4.97</td>\n",
       "      <td>2</td>\n",
       "      <td>24.2</td>\n",
       "      <td>17.8</td>\n",
       "      <td>4.03</td>\n",
       "      <td>10.454500</td>\n",
       "      <td>1.545433</td>\n",
       "      <td>5.488938</td>\n",
       "    </tr>\n",
       "    <tr>\n",
       "      <th>3</th>\n",
       "      <td>33400</td>\n",
       "      <td>0.032</td>\n",
       "      <td>4.58</td>\n",
       "      <td>7.00</td>\n",
       "      <td>6.06</td>\n",
       "      <td>3</td>\n",
       "      <td>22.2</td>\n",
       "      <td>18.7</td>\n",
       "      <td>2.94</td>\n",
       "      <td>10.416310</td>\n",
       "      <td>1.521699</td>\n",
       "      <td>5.402678</td>\n",
       "    </tr>\n",
       "    <tr>\n",
       "      <th>4</th>\n",
       "      <td>36199</td>\n",
       "      <td>0.069</td>\n",
       "      <td>4.58</td>\n",
       "      <td>7.15</td>\n",
       "      <td>6.06</td>\n",
       "      <td>3</td>\n",
       "      <td>22.2</td>\n",
       "      <td>18.7</td>\n",
       "      <td>5.33</td>\n",
       "      <td>10.496790</td>\n",
       "      <td>1.521699</td>\n",
       "      <td>5.402678</td>\n",
       "    </tr>\n",
       "  </tbody>\n",
       "</table>\n",
       "</div>"
      ],
      "text/plain": [
       "   price  crime   nox  rooms  dist  radial  proptax  stratio  lowstat  \\\n",
       "0  24000  0.006  5.38   6.57  4.09       1     29.6     15.3     4.98   \n",
       "1  21599  0.027  4.69   6.42  4.97       2     24.2     17.8     9.14   \n",
       "2  34700  0.027  4.69   7.18  4.97       2     24.2     17.8     4.03   \n",
       "3  33400  0.032  4.58   7.00  6.06       3     22.2     18.7     2.94   \n",
       "4  36199  0.069  4.58   7.15  6.06       3     22.2     18.7     5.33   \n",
       "\n",
       "      lprice      lnox  lproptax  \n",
       "0  10.085810  1.682688  5.690360  \n",
       "1   9.980402  1.545433  5.488938  \n",
       "2  10.454500  1.545433  5.488938  \n",
       "3  10.416310  1.521699  5.402678  \n",
       "4  10.496790  1.521699  5.402678  "
      ]
     },
     "execution_count": 3,
     "metadata": {},
     "output_type": "execute_result"
    }
   ],
   "source": [
    "# Imports and the initial dataset\n",
    "import numpy as np\n",
    "import pandas as pd\n",
    "import matplotlib.pyplot as plt\n",
    "\n",
    "columns_names = [\"price\", \"crime\", \"nox\", \"rooms\", \"dist\", \"radial\", \"proptax\", \"stratio\", \"lowstat\", \"lprice\", \"lnox\", \"lproptax\"]\n",
    "df=pd.read_csv(\"textfiles/hprice2.raw\",delim_whitespace=True, header=None, names=columns_names)\n",
    "\n",
    "df.head()"
   ]
  },
  {
   "cell_type": "markdown",
   "metadata": {},
   "source": [
    "# PART 1 - CROSS-SECTION DATA\n",
    "This part uses the dataset HPRICE2.RAW described in HPRICE2.DES."
   ]
  },
  {
   "cell_type": "markdown",
   "metadata": {},
   "source": [
    "#### 1. State the fundamental hypothesis under which the Ordinary Least Squares (OLS) estimators are unbiased."
   ]
  },
  {
   "cell_type": "markdown",
   "metadata": {},
   "source": [
    "Given a linear model for two variables *y* and *x*, we will write a linear model that explains *y* in terms of *x*:\n",
    "\n",
    "$$ y = \\beta _0 +\\beta_1x+u$$\n",
    "\n",
    "Where $\\beta_1$ is the cetteribus paribus effect, $\\beta_0$ is the intercept parameter and $u$ is the error term, in another words, the \"unobserved\" aspects.\n",
    "To obtain this linear model we have to obtain $\\beta_0$ and $\\beta_1$. For this, we assume the fundamental Hyposthesis under which the Ordinary Least Squares (OLS) estimatores are unbiased, which is:\n",
    "\n",
    "$$ E(u|x) = E(u) = 0$$\n",
    "\n",
    "This assumptions says that the average of *u* in the population is zero. Also, it says how *u* and *x* are correlated, i.e., for any given value of x, the average of the unobservables is the same and therefore must equal the average value of *u* in the entire population, which is zero."
   ]
  },
  {
   "cell_type": "markdown",
   "metadata": {},
   "source": [
    "#### 2. Show that under this assumption the OLS estimators are indeed unbiased."
   ]
  },
  {
   "cell_type": "markdown",
   "metadata": {},
   "source": [
    "\n",
    "In this section, we will first find the estimators $\\hat \\beta_0$ and $\\hat \\beta_1$ of the coefficients $\\beta_0$ and $\\beta_1$, respectivaly, in the linear model. Then we will prove that these estimators are unbiased.\n",
    "\n",
    "The linear model is given by:\n",
    "\n",
    "$$ y = \\beta_0 + \\beta_1x + u $$\n",
    "\n",
    "where $y$ is the dependent variable, $x$ is the independent variable, and $u$ is the error term.\n",
    "\n",
    "To estimate the coefficients, we will use the Ordinary Least Squares (OLS) method. We assume that we have a sample of population $x_i$ and $y_i$, where $i = 1, 2, ..., n$ and $n$ is the number of observations. So we can write the above equation for the samples as:\n",
    "\n",
    "The linear model equation for the samples is given by:\n",
    "\n",
    "$$ y_i = \\beta_0 + \\beta_1x_i + u_i $$\n",
    "\n",
    "\n",
    "Isolanting the error for each sample we have that:\n",
    "\n",
    "$$ u_i = y_i - \\beta_0 - \\beta_1x_i $$\n",
    "\n",
    "Now we use the fundamental hypothesis for the last exercice to derive the estimators.\n",
    "\n",
    "$$E(u_i) = E(y_i - \\beta_0 - \\beta_1x_i) = 0 \\quad\\quad\\quad\\quad\\quad$$ \n",
    "\n",
    "$$Cov(u_i,x_i) = E(x_i u_i) = E(x_i(y_i - \\beta_0 - \\beta_1x_i))= 0  \\quad\\quad\\quad $$ \n",
    "\n",
    "\n",
    "Developing these equations  by the definition of expectation follows that:\n",
    "\n",
    "$$ \n",
    "n^{-1} \\sum_{i=1}^{n}(y_i - \\hat \\beta_0 - \\hat \\beta_1x_i) = 0 \\quad\\quad\\quad\\quad\\quad (i)\n",
    "$$\n",
    "\n",
    "$$\n",
    "n^{-1}\\sum_{i=1}^{n}x_i(y_i - \\hat \\beta_0 - \\hat \\beta_1x_i) = 0 \\quad\\quad\\quad\\quad\\quad (ii)\n",
    "$$\n",
    "\n",
    "Opening the summation on $(i)$ we have that:\n",
    "\n",
    "$$ \\hat \\beta_0 = \\frac{1}{n}\\sum_{i=1}^{n}y_i - \\hat \\beta_1 \\frac{1}{n}\\sum_{i=1}^{n}x_i $$\n",
    "\n",
    "Wich can be written as:\n",
    "\n",
    "$$ \\hat \\beta_0 = \\bar y - \\hat \\beta_1 \\bar x \\quad\\quad\\quad\\quad\\quad (I)$$\n",
    "\n",
    "Now, for the second expression $(ii)$ we drop the term $n^{-1}$ and substitute the value of $\\hat \\beta_0$ from $(I)$:\n",
    "\n",
    "$$\n",
    "\\sum_{i=1}^{n}x_i(y_i - (\\bar y - \\hat \\beta_1 \\bar x )- \\hat \\beta_1x_i) = 0 \n",
    "$$\n",
    "\n",
    "Which, upon rearrangement, gives:\n",
    "\n",
    "$$\n",
    "\\sum_{i=1}^{n}x_i(y_i-\\bar y) =\\hat \\beta_1 \\sum_{i=1}^{n}x_i (x_i - \\bar x)\n",
    "$$\n",
    "\n",
    "From basic properties of the summation operator:\n",
    "\n",
    "$\\sum_{i=1}^{n}x_i(y_i-\\bar y) =\\sum_{i=1}^{n}(x_i-\\bar x)(y_i-\\bar y)$ and $ \\sum_{i=1}^{n}x_i (x_i - \\bar x) = \\sum_{i=1}^{n}(x_i-\\bar x)^2$\n",
    "\n",
    "Then, we find that $\\beta_1$ is:\n",
    "\n",
    "$$ \\hat \\beta_1 = \\frac{\\sum_{i=1}^{n}(x_i - \\bar x)(y_i - \\bar y)}{\\sum_{i=1}^{n}(x_i - \\bar x)^2} \\quad\\quad\\quad\\quad\\quad (II)$$\n",
    "\n",
    "can be written as:\n",
    "\n",
    "Finally, the OLS estimators are given by:\n",
    "\n",
    "$$ \\hat \\beta_1 = \\frac{\\sum_{i=1}^{n}(x_i - \\bar x)(y_i - \\bar y)}{\\sum_{i=1}^{n}(x_i - \\bar x)^2} $$\n",
    "\n",
    "$$ \\hat \\beta_0 = \\bar y - \\hat \\beta_1 \\bar x $$\n",
    "\n",
    "where $n$ is the number of observations, $x_i$ and $y_i$ are the values of the independent and dependent variables, respectively, and $\\bar x$ and $\\bar y$ are the sample means of the independent and dependent variables, respectively.\n",
    "\n",
    "---\n",
    "\n",
    "Now, we can prove that those estimators are unbiased, for this we have to prove that $E(\\hat \\beta_1)=\\beta_1$ and $E(\\hat \\beta_0)=\\beta_0$.\n",
    "\n",
    "We can rewrite the expression of $\\hat \\beta_1$ at $(II)$ using the fact that $\\sum_{i=1}^{n}(x_i-\\bar x)(y_i-\\bar y)=\\sum_{i=1}^{n}y_i(x_i-\\bar x)$:\n",
    "\n",
    "$$ \n",
    " \\hat \\beta_1 = \\frac{\\sum_{i=1}^{n}y_i(x_i-\\bar x)}{\\sum_{i=1}^{n}(x_i - \\bar x)^2} \n",
    "$$\n",
    "\n",
    "Using $s_x^2=\\sum_{i=1}^{n}(x_i - \\bar x)^2$ to simplify the notation and $ y_i = \\beta_0 + \\beta_1x_i + u_i $:\n",
    "\n",
    "$$ \n",
    " \\hat \\beta_1 = \\frac{\\sum_{i=1}^{n}(x_i-\\bar x)(\\beta_0 + \\beta_1x_i + u_i)}{s_x^2} \n",
    "$$\n",
    "\n",
    "First, we open the numerator with the goal to simply it:\n",
    "\n",
    "$$\n",
    "\\sum_{i=1}^{n}(x_i-\\bar x)(\\beta_0 + \\beta_1x_i + u_i) = \\sum_{i=1}^{n}(x_i-\\bar x)\\beta_0 + \\sum_{i=1}^{n}(x_i-\\bar x)\\beta_1 x_i + \\sum_{i=1}^{n}(x_i-\\bar x) u_i =  \\beta_0 \\sum_{i=1}^{n}(x_i-\\bar x)+ \\beta_1\\sum_{i=1}^{n}(x_i-\\bar x)x_i +  \\sum_{i=1}^{n}(x_i-\\bar x)u_i\n",
    "$$\n",
    "\n",
    "But, we have that:\n",
    "\n",
    "$\\sum_{i=1}^{n}(x_i-\\bar x)=0$ and $\\sum_{i=1}^{n}(x_i-\\bar x)x_i = \\sum_{i=1}^{n}(x_i-\\bar x)^2=s_x^2$ so the numerator is: $\\beta_1 s_x^2 + \\sum_{i=1}^{n}(x_i-\\bar x)u_i$\n",
    "\n",
    "Which gives us the $\\beta_1$:\n",
    "\n",
    "$$\n",
    "\\hat \\beta_1 =  \\beta_1 + \\frac{\\sum_{i=1}^{n}(x_i-\\bar x)u_i}{s_x^2}\n",
    "$$\n",
    "\n",
    "\n",
    "Now we can compute the expectated value of it:\n",
    "\n",
    "$$ \n",
    "E(\\hat \\beta_1) = E(\\beta_1) + E(\\frac{\\sum_{i=1}^{n}(x_i-\\bar x)u_i}{s_x^2}) = \\beta_1 +(\\frac{1}{s_x^2})\\sum_{i=1}^{n}E((x_i-\\bar x)u_i) = \\beta_1 +(\\frac{1}{s_x^2})\\sum_{i=1}^{n}E((x_i-\\bar x))E(u_i) \n",
    "$$\n",
    "\n",
    "But, as for our assumption $E(u_i)=0$, so $E(\\hat \\beta_1) = \\beta_1$ and we conclude that $\\hat \\beta_1$ is unbiased.\n",
    "\n",
    "For $\\hat \\beta_0$:\n",
    "\n",
    "$$\n",
    "E(\\hat \\beta_0) = E(\\bar y - \\hat \\beta_1 \\bar x) = E((\\beta_0 + \\beta_1 \\bar x + \\bar u) - \\hat \\beta_1 \\bar x) = E(\\beta_0 + (\\beta_1  - \\hat \\beta_1)\\bar x + \\bar u) = \\beta_0 + E((\\beta_1  - \\hat \\beta_1)\\bar x )\n",
    "$$\n",
    "\n",
    "As $E(\\bar u)= 0$ and $E(\\hat \\beta_1) = \\beta_1 $ we have that $E((\\beta_1  - \\hat \\beta_1)\\bar x ) = 0$ and $E(\\hat \\beta_0) = \\beta_0$ and thus, $\\hat \\beta_0$ is unbiased"
   ]
  },
  {
   "cell_type": "markdown",
   "metadata": {},
   "source": [
    "#### 3. Explain the sample selection bias with an example from the course."
   ]
  },
  {
   "cell_type": "markdown",
   "metadata": {},
   "source": [
    "Sample selection bias is the bias in the OLS (Ordinary Least Squares) estimator induced by using data that arise from endogenous sample selection.\n",
    "\n",
    "In the course, we saw the example involving the amount of fertilizer and the quality of land. In this case, the amount of fertilizer is represented by the independent variable *x*, and the quality of land is the dependent variable *y*.\n",
    "\n",
    "Our goal is to predict *y* with our model, and to construct it, we need to establish samples to observe the results. For instance, we have $x_i$ and construct experiments to obtain $y_i$. In our example, this involves selecting specific one-acre plots of land and applying various amounts of fertilizer, then measuring the resulting yield.\n",
    "\n",
    "The issue arises in the construction of these experiments. The individual designing the experiment might not make it entirely random. For example, if the person applying the fertilizer is an expert in the field, they might have knowledge of factors influencing the experiment, such as sunlight exposure or a plot of land's susceptibility to pests, and may not apply the fertilizer randomly, but rather considering certain factors known to them.\n",
    "\n",
    "This situation is what we refer to as sample selection bias because the experiment isn't entirely randomized; it's influenced by certain factors known to the person conducting the experiment."
   ]
  },
  {
   "cell_type": "markdown",
   "metadata": {},
   "source": [
    "#### 4. Explain the omitted variable bias with an example from the course\n"
   ]
  },
  {
   "cell_type": "markdown",
   "metadata": {},
   "source": [
    "The ommited variable bias occours when we ommit a variable that actually belongs in the true, population, model. \n",
    "\n",
    "In the course we saw the example in which we were trying to explaing how the wage of a person can be explained by how many years of education the person has and the innate ability of that person, so our model should be like:\n",
    "\n",
    "$$ \n",
    "wage = \\beta_0 + \\beta_1 educ + \\beta_2 abil + u.\n",
    "$$\n",
    "\n",
    "This model obtains $\\beta_0$, $\\beta_1$ and $\\beta_2$ which are unbiased, i.e, we runned a regression in *educ* and *abil* and got these unbiased coeficients.\n",
    "\n",
    "Although, imagine that for ignorance or data inavability we exclude $\\beta_2$, running a regression with only *educ*, that gives us the following model:\n",
    "\n",
    "$$\n",
    "wage = \\tilde{\\beta}_0 + \\tilde{\\beta}_1 educ + v\n",
    "$$\n",
    "\n",
    "In this new model we have that $v = \\beta_2 abil + u$, and that $\\tilde{\\beta}_1 \\neq \\beta_1$. In fact, when we don't include the other variable in our regression we obtain, in general, an biased estimator $\\tilde{\\beta}_1$.\n",
    "\n",
    "It can be shown that $ E(\\tilde{\\beta}_1) = \\beta_1 + \\tilde{\\beta}_2 \\tilde{\\delta}_1$, where $\\tilde{\\delta}_1$ is the sample covariance between *educ* and *abil*. So $\\tilde{\\beta}_1$ is unbiased only if $\\tilde{\\delta}_1=0$, which means that *educ* and *abil* are uncorrelated.\n",
    "\n",
    "In our example, in general, we believe that *educ* and *abil* are positive correlated and as more hability leads to higher productivity we have that $\\beta_2 > 0$, so we conclude that the OLS estimators for the equation $wage = \\tilde{\\beta}_0 + \\tilde{\\beta}_0 educ + v$ are on average too large."
   ]
  },
  {
   "cell_type": "markdown",
   "metadata": {},
   "source": [
    "#### 5. Explain the problem of multicollinearity. Is it a problem in this dataset?\n"
   ]
  },
  {
   "cell_type": "markdown",
   "metadata": {},
   "source": [
    "Multicolinearity occurs when we have a strong, but not perfect, correlation between two or more independent variables. For instance imagine that the variable $x_j$ has a strong, but not perfect, correlation with the others, this leads to a high variance of the estimator $\\hat \\beta_j$.\n",
    "\n",
    "Also, if we have multicolliearity the matrix *X*, the matrix which the columns are the sample values for the independent variables, will be such that $det(x x^{-1})$ is equal or close to zero."
   ]
  },
  {
   "cell_type": "code",
   "execution_count": 4,
   "metadata": {},
   "outputs": [
    {
     "name": "stdout",
     "output_type": "stream",
     "text": [
      "   variables           VIF\n",
      "0      const  22963.509071\n",
      "1      price     17.989881\n",
      "2      crime      2.221824\n",
      "3        nox    136.592898\n",
      "4      rooms      2.248824\n",
      "5       dist      4.478491\n",
      "6     radial     10.020141\n",
      "7    proptax    110.193658\n",
      "8    stratio      2.008918\n",
      "9    lowstat      3.657776\n",
      "10    lprice     21.675314\n",
      "11      lnox    160.832254\n",
      "12  lproptax     73.242538\n",
      "\n",
      "\n",
      "VIFs are too high! Some variables are highly correlated with each other.\n"
     ]
    }
   ],
   "source": [
    "from statsmodels.stats.outliers_influence import variance_inflation_factor\n",
    "from statsmodels.tools.tools import add_constant\n",
    "\n",
    "# Add an constant term to the data for the VIFs to have a intercept term\n",
    "df_const = add_constant(df)\n",
    "\n",
    "# Compute VIF for each variable\n",
    "vif = pd.DataFrame()\n",
    "vif[\"variables\"] = df_const.columns\n",
    "vif[\"VIF\"] = [variance_inflation_factor(df_const.values, i) for i in range(df_const.shape[1])]\n",
    "\n",
    "print(vif)\n",
    "print(\"\\n\")\n",
    "\n",
    "if any(vif[\"VIF\"] > 5):\n",
    "    print(\"VIFs are too high! Some variables are highly correlated with each other.\")\n",
    "else:\n",
    "    print(\"VIFs are fine., no variables are highly correlated with each other.\")\n",
    "\n"
   ]
  },
  {
   "cell_type": "markdown",
   "metadata": {},
   "source": [
    "#### 6R. Create three categories of nox levels (low, medium, high), corresponding to the following percentiles: 0-39%, 40%-60%, 61%-100% "
   ]
  },
  {
   "cell_type": "markdown",
   "metadata": {},
   "source": [
    "Firstly, we define the percentiles $ [0, 40, 61, 100] $, these will be used to divide the 'nox' column into categories (low, medium, high).\n",
    "\n",
    "Secondly, with the numpy.percentile function, we calculate the specified percentiles for the 'nox' column in the DataFrame df that we have defined. It computes the values at the given percentiles and stores them in the nox_percentiles array.\n",
    "\n",
    "Thirdly, creating a new column in the DataFrame called 'nox_category'. It uses numpy.where to assign categories ('low', 'medium', 'high') based on the conditions of the excersise. It checks if 'nox' is within certain ranges defined by the percentiles and assigns the corresponding category.\n"
   ]
  },
  {
   "cell_type": "code",
   "execution_count": 5,
   "metadata": {},
   "outputs": [
    {
     "name": "stdout",
     "output_type": "stream",
     "text": [
      "    nox nox_category\n",
      "0  5.38       medium\n",
      "1  4.69          low\n",
      "2  4.69          low\n",
      "3  4.58          low\n",
      "4  4.58          low\n"
     ]
    }
   ],
   "source": [
    "# 1. Define the percentiles\n",
    "percentiles = [0, 40, 61, 100]\n",
    "\n",
    "# 2. Use numpy.percentile to calculate the specified percentiles for the 'nox' column\n",
    "nox_percentiles = np.percentile(df['nox'], percentiles)\n",
    "\n",
    "# 3. Create categories using numpy.where\n",
    "df['nox_category'] = np.where((df['nox'] >= nox_percentiles[0]) & (df['nox'] <= nox_percentiles[1]), 'low',\n",
    "                              np.where((df['nox'] > nox_percentiles[1]) & (df['nox'] <= nox_percentiles[2]), 'medium', 'high'))\n",
    "\n",
    "# 4. Display the updated dataframe\n",
    "print(df[['nox', 'nox_category']].head())"
   ]
  },
  {
   "cell_type": "markdown",
   "metadata": {},
   "source": [
    "#### 7. Compute for each category of nox level the average median price and comment on your results"
   ]
  },
  {
   "cell_type": "markdown",
   "metadata": {},
   "source": [
    "Firstly, we calculate the average price for each category of 'nox' concentration, for that we use \"groupby\" method in Pandas to group the DataFrame df by the values in the 'nox_category' column. We select the 'price' column and calculate the mean for each group. The result is a Pandas Series where each category of 'nox' has an associated average price.\n",
    "\n",
    "Finally, we print the calculated average prices for each 'nox_category' to observe the relationship between nox levels and the average median housing price.\n"
   ]
  },
  {
   "cell_type": "code",
   "execution_count": 6,
   "metadata": {},
   "outputs": [
    {
     "name": "stdout",
     "output_type": "stream",
     "text": [
      "nox_category\n",
      "high      18443.744792\n",
      "low       27170.609524\n",
      "medium    20613.432692\n",
      "Name: price, dtype: float64\n"
     ]
    }
   ],
   "source": [
    "# Calculate the average price for each 'nox_category'\n",
    "average_price_by_nox_category = df.groupby('nox_category')['price'].mean()\n",
    "\n",
    "# Display the results\n",
    "print(average_price_by_nox_category)\n"
   ]
  },
  {
   "cell_type": "markdown",
   "metadata": {},
   "source": [
    "#### 8. Produce a scatter plot with the variable price on the y-axis and the variable nox on the x-axis. Is this a ceteris paribus effect?"
   ]
  },
  {
   "cell_type": "markdown",
   "metadata": {},
   "source": []
  },
  {
   "cell_type": "code",
   "execution_count": 7,
   "metadata": {},
   "outputs": [
    {
     "data": {
      "image/png": "[encoded data removed]",
      "text/plain": [
       "<Figure size 640x480 with 1 Axes>"
      ]
     },
     "metadata": {},
     "output_type": "display_data"
    }
   ],
   "source": [
    "# Importing necessary libraries\n",
    "import matplotlib.pyplot as plt\n",
    "\n",
    "# Scatter plot\n",
    "plt.scatter(df['nox'], df['price'], alpha=0.5)\n",
    "plt.title('Scatter Plot of Price vs. NOx')\n",
    "plt.xlabel('NOx (Nitrous Oxide Levels)')\n",
    "plt.ylabel('Price')\n",
    "plt.show()\n"
   ]
  },
  {
   "cell_type": "markdown",
   "metadata": {},
   "source": [
    "#### 9. Run a regression of price on a constant, crime, nox, rooms, proptax. Comment on the histogram of the residuals. Interpret all coefficients."
   ]
  },
  {
   "cell_type": "code",
   "execution_count": 14,
   "metadata": {},
   "outputs": [
    {
     "name": "stdout",
     "output_type": "stream",
     "text": [
      "                            OLS Regression Results                            \n",
      "==============================================================================\n",
      "Dep. Variable:                  price   R-squared:                       0.575\n",
      "Model:                            OLS   Adj. R-squared:                  0.572\n",
      "Method:                 Least Squares   F-statistic:                     169.6\n",
      "Date:                Wed, 29 Nov 2023   Prob (F-statistic):           1.06e-91\n",
      "Time:                        20:59:53   Log-Likelihood:                -5119.6\n",
      "No. Observations:                 506   AIC:                         1.025e+04\n",
      "Df Residuals:                     501   BIC:                         1.027e+04\n",
      "Df Model:                           4                                         \n",
      "Covariance Type:            nonrobust                                         \n",
      "==============================================================================\n",
      "                 coef    std err          t      P>|t|      [0.025      0.975]\n",
      "------------------------------------------------------------------------------\n",
      "const      -1.868e+04   3215.205     -5.811      0.000    -2.5e+04   -1.24e+04\n",
      "crime       -136.5438     38.529     -3.544      0.000    -212.241     -60.846\n",
      "nox         -660.4672    314.634     -2.099      0.036   -1278.632     -42.303\n",
      "rooms       7797.9286    404.345     19.285      0.000    7003.507    8592.350\n",
      "proptax      -89.4144     23.966     -3.731      0.000    -136.500     -42.329\n",
      "==============================================================================\n",
      "Omnibus:                      264.796   Durbin-Watson:                   0.752\n",
      "Prob(Omnibus):                  0.000   Jarque-Bera (JB):             2348.397\n",
      "Skew:                           2.111   Prob(JB):                         0.00\n",
      "Kurtosis:                      12.673   Cond. No.                         546.\n",
      "==============================================================================\n",
      "\n",
      "Notes:\n",
      "[1] Standard Errors assume that the covariance matrix of the errors is correctly specified.\n"
     ]
    },
    {
     "data": {
      "image/png": "[encoded data removed]",
      "text/plain": [
       "<Figure size 640x480 with 1 Axes>"
      ]
     },
     "metadata": {},
     "output_type": "display_data"
    }
   ],
   "source": [
    "import statsmodels.api as sm\n",
    "\n",
    "# Define the dependent and independent variables\n",
    "X = df[['crime', 'nox', 'rooms', 'proptax']]\n",
    "y = df['price']\n",
    "\n",
    "# Add a constant to the independent value\n",
    "X = sm.add_constant(X)\n",
    "\n",
    "# Adjust the regression model\n",
    "model = sm.OLS(y, X)\n",
    "results = model.fit()\n",
    "\n",
    "\n",
    "print(results.summary())\n",
    "\n",
    "# Compute the residuals\n",
    "residuals = results.resid\n",
    "\n",
    "plt.hist(residuals, bins=20, edgecolor='black')\n",
    "plt.title('Histogram of the Residuals')\n",
    "plt.xlabel('Residuals')\n",
    "plt.ylabel('Frequency')\n",
    "plt.show()"
   ]
  },
  {
   "cell_type": "markdown",
   "metadata": {},
   "source": [
    "The histogram shows that the average of the residuals is zero, which aligns with our fundamental hypothesis. We can glimpse this as the value of 0 has the highest frequency.\n",
    "\n",
    "Regarding the coefficients, we can interpret them as follows: Holding everything else constant, a one-unit increase in the crime variable results in a price decrease of 136.5438. Similarly, a one-unit increase in the nox variable leads to a price decrease of 660.4672. Likewise, a unit increase in the number of rooms translates to a price increase of 7797.9286. Finally, for the property tax, we observe a price decrease of 89.4144 units"
   ]
  },
  {
   "cell_type": "markdown",
   "metadata": {},
   "source": [
    "#### 10. Run a regression of lprice on a constant, crime, nox, rooms, proptax. Comment on the histogram of the residuals. Interpret all coefficients."
   ]
  },
  {
   "cell_type": "code",
   "execution_count": 12,
   "metadata": {},
   "outputs": [
    {
     "name": "stdout",
     "output_type": "stream",
     "text": [
      "                            OLS Regression Results                            \n",
      "==============================================================================\n",
      "Dep. Variable:                 lprice   R-squared:                       0.611\n",
      "Model:                            OLS   Adj. R-squared:                  0.608\n",
      "Method:                 Least Squares   F-statistic:                     196.9\n",
      "Date:                Wed, 29 Nov 2023   Prob (F-statistic):          2.50e-101\n",
      "Time:                        18:14:06   Log-Likelihood:                -26.367\n",
      "No. Observations:                 506   AIC:                             62.73\n",
      "Df Residuals:                     501   BIC:                             83.87\n",
      "Df Model:                           4                                         \n",
      "Covariance Type:            nonrobust                                         \n",
      "==============================================================================\n",
      "                 coef    std err          t      P>|t|      [0.025      0.975]\n",
      "------------------------------------------------------------------------------\n",
      "const          8.6550      0.137     63.320      0.000       8.386       8.924\n",
      "crime         -0.0125      0.002     -7.641      0.000      -0.016      -0.009\n",
      "nox           -0.0476      0.013     -3.557      0.000      -0.074      -0.021\n",
      "rooms          0.2816      0.017     16.379      0.000       0.248       0.315\n",
      "proptax       -0.0043      0.001     -4.184      0.000      -0.006      -0.002\n",
      "==============================================================================\n",
      "Omnibus:                      118.409   Durbin-Watson:                   0.764\n",
      "Prob(Omnibus):                  0.000   Jarque-Bera (JB):              730.140\n",
      "Skew:                           0.859   Prob(JB):                    2.83e-159\n",
      "Kurtosis:                       8.629   Cond. No.                         546.\n",
      "==============================================================================\n",
      "\n",
      "Notes:\n",
      "[1] Standard Errors assume that the covariance matrix of the errors is correctly specified.\n"
     ]
    },
    {
     "data": {
      "image/png": "[encoded data removed]",
      "text/plain": [
       "<Figure size 640x480 with 1 Axes>"
      ]
     },
     "metadata": {},
     "output_type": "display_data"
    }
   ],
   "source": [
    "import statsmodels.api as sm\n",
    "\n",
    "# Define the dependent and independent variables\n",
    "X = df[['crime', 'nox', 'rooms', 'proptax']]\n",
    "y = df['lprice']\n",
    "\n",
    "# Add a constant to the independent variables matrix\n",
    "X = sm.add_constant(X)\n",
    "\n",
    "# Fit the regression model\n",
    "model = sm.OLS(y, X)\n",
    "results = model.fit()\n",
    "\n",
    "# Print the summary statistics of the model\n",
    "print(results.summary())\n",
    "\n",
    "# Calculate the residuals\n",
    "residuals = results.resid\n",
    "\n",
    "# Plot the histogram of the residuals\n",
    "plt.hist(residuals, bins=20, edgecolor='black')\n",
    "plt.title('Histogram of Residuals')\n",
    "plt.xlabel('Residuals')\n",
    "plt.ylabel('Frequency')\n",
    "plt.show()"
   ]
  },
  {
   "cell_type": "markdown",
   "metadata": {},
   "source": [
    "The histogram shows that the average of the residuals is zero, which is what our fundamental hiphotesys says. We can have a glipsy of it as we see that the value of 0 is the one that has more frequency.\n",
    "\n",
    "Regarding the coefficients, we can interpret them as follows: Holding everything else constant, a one-unit increase in the crime variable results in a log price decrease of 0.0125. Similarly, a one-unit increase in the nox variable leads to a log price decrease of 0.0476. Likewise, a unit increase in the number of rooms translates to a log price increase of 0.2816 . Finally, for the property tax, we observe a log price decrease of 0.0043 units"
   ]
  },
  {
   "cell_type": "markdown",
   "metadata": {},
   "source": [
    "#### 11. Run a regression of lprice on a constant, crime, lnox, rooms, lproptax. Comment on the histogram of the residuals. Interpret all coefficients."
   ]
  },
  {
   "cell_type": "code",
   "execution_count": 13,
   "metadata": {},
   "outputs": [
    {
     "name": "stdout",
     "output_type": "stream",
     "text": [
      "                            OLS Regression Results                            \n",
      "==============================================================================\n",
      "Dep. Variable:                 lprice   R-squared:                       0.612\n",
      "Model:                            OLS   Adj. R-squared:                  0.609\n",
      "Method:                 Least Squares   F-statistic:                     197.4\n",
      "Date:                Wed, 29 Nov 2023   Prob (F-statistic):          1.77e-101\n",
      "Time:                        18:15:41   Log-Likelihood:                -26.021\n",
      "No. Observations:                 506   AIC:                             62.04\n",
      "Df Residuals:                     501   BIC:                             83.18\n",
      "Df Model:                           4                                         \n",
      "Covariance Type:            nonrobust                                         \n",
      "==============================================================================\n",
      "                 coef    std err          t      P>|t|      [0.025      0.975]\n",
      "------------------------------------------------------------------------------\n",
      "const          9.7505      0.253     38.476      0.000       9.253      10.248\n",
      "crime         -0.0128      0.002     -8.002      0.000      -0.016      -0.010\n",
      "lnox          -0.2769      0.077     -3.591      0.000      -0.428      -0.125\n",
      "rooms          0.2802      0.017     16.282      0.000       0.246       0.314\n",
      "lproptax      -0.1779      0.042     -4.215      0.000      -0.261      -0.095\n",
      "==============================================================================\n",
      "Omnibus:                      116.110   Durbin-Watson:                   0.768\n",
      "Prob(Omnibus):                  0.000   Jarque-Bera (JB):              716.737\n",
      "Skew:                           0.838   Prob(JB):                    2.30e-156\n",
      "Kurtosis:                       8.585   Cond. No.                         241.\n",
      "==============================================================================\n",
      "\n",
      "Notes:\n",
      "[1] Standard Errors assume that the covariance matrix of the errors is correctly specified.\n"
     ]
    },
    {
     "data": {
      "image/png": "[encoded data removed]",
      "text/plain": [
       "<Figure size 640x480 with 1 Axes>"
      ]
     },
     "metadata": {},
     "output_type": "display_data"
    }
   ],
   "source": [
    "import statsmodels.api as sm\n",
    "\n",
    "# Define the dependent and independent variables\n",
    "X = df[['crime', 'lnox', 'rooms', 'lproptax']]\n",
    "y = df['lprice']\n",
    "\n",
    "# Add a constant to the independent variables matrix\n",
    "X = sm.add_constant(X)\n",
    "\n",
    "# Fit the regression model\n",
    "model = sm.OLS(y, X)\n",
    "results = model.fit()\n",
    "\n",
    "# Print the summary statistics of the model\n",
    "print(results.summary())\n",
    "\n",
    "# Calculate the residuals\n",
    "residuals = results.resid\n",
    "\n",
    "# Plot the histogram of the residuals\n",
    "plt.hist(residuals, bins=20, edgecolor='black')\n",
    "plt.title('Histogram of Residuals')\n",
    "plt.xlabel('Residuals')\n",
    "plt.ylabel('Frequency')\n",
    "plt.show()"
   ]
  },
  {
   "cell_type": "markdown",
   "metadata": {},
   "source": [
    "The histogram shows that the average of the residuals is zero, which is what our fundamental hiphotesys says. We can have a glipsy of it as we see that the value of 0 is the one that has more frequency.\n",
    "\n",
    "Regarding the coefficients, we can interpret them as follows: Holding everything else constant, a one-unit increase in the crime variable results in a log price decrease of 0.0128. Similarly, a one-unit increase in the log nox variable leads to a log price decrease of0.2769. Likewise, a unit increase in the number of rooms translates to a log price increase of 0.2802 . Finally, for the log property tax, we observe a log price decrease of 0.1779 units"
   ]
  },
  {
   "cell_type": "markdown",
   "metadata": {},
   "source": [
    "#### 12. In the specification of question 10, test the hypothesis $ H_0: \\beta_{nox} >0 $ vs. $H_1: \\beta_{nox} < 0$ at the 10% level"
   ]
  },
  {
   "cell_type": "code",
   "execution_count": null,
   "metadata": {},
   "outputs": [],
   "source": []
  },
  {
   "cell_type": "markdown",
   "metadata": {},
   "source": []
  },
  {
   "cell_type": "markdown",
   "metadata": {},
   "source": [
    " #### 13. In the specification of question 10, test the hypothesis $H_0: \\beta_{nox} = 0$ vs. $H_1: \\beta_{nox} ≠ 0$ at the 10% level using the p-value of the test"
   ]
  },
  {
   "cell_type": "markdown",
   "metadata": {},
   "source": []
  },
  {
   "cell_type": "markdown",
   "metadata": {},
   "source": [
    "#### 14. In the specification of question 10, test the hypothesis $ H_0: \\beta_{crime} = \\beta_{proptax} $ at the 1% level"
   ]
  },
  {
   "cell_type": "markdown",
   "metadata": {},
   "source": []
  },
  {
   "cell_type": "markdown",
   "metadata": {},
   "source": [
    "#### 15. In the specification of question 10, test the hypothesis $H_0: \\beta_{nox} = 0, \\beta_{proptax} = 0$ at the 1% level"
   ]
  },
  {
   "cell_type": "code",
   "execution_count": 17,
   "metadata": {},
   "outputs": [
    {
     "name": "stdout",
     "output_type": "stream",
     "text": [
      "<statsmodels.regression.linear_model.RegressionResultsWrapper object at 0x16dfeebb0>\n",
      "<F test: F=19.311290349553435, p=8.332525004914141e-09, df_denom=501, df_num=2>\n",
      "P-value of the test: 8.332525004914141e-09\n",
      "We reject the null hypothesis at the 1% level.\n"
     ]
    }
   ],
   "source": []
  },
  {
   "cell_type": "markdown",
   "metadata": {},
   "source": []
  },
  {
   "cell_type": "markdown",
   "metadata": {},
   "source": [
    "#### 16. In the specification of question 10, test the hypothesis $H_0: \\beta_{nox} = -500, \\beta_{proptax} = -100$ at the 1% level using the p-value of the test"
   ]
  },
  {
   "cell_type": "code",
   "execution_count": 26,
   "metadata": {},
   "outputs": [
    {
     "name": "stdout",
     "output_type": "stream",
     "text": [
      "F-statistic:  10798305112.262835\n",
      "p-value:  1.1102230246251565e-16\n",
      "Reject the null hypothesis\n"
     ]
    }
   ],
   "source": [
    "\n",
    "# Original model with all the variables from question 10, unrestricted model:\n",
    "from scipy import stats\n",
    "\n",
    "\n",
    "X_ur = df[['crime', 'rooms', 'nox', 'proptax']]\n",
    "y_ur = df['lprice']\n",
    "\n",
    "X_ur = sm.add_constant(X_ur)\n",
    "\n",
    "model = sm.OLS(y_ur, X_ur)\n",
    "results = model.fit()\n",
    "\n",
    "# Calculate SSR0 for the model with Bnox and Bproptax\n",
    "u = results.resid\n",
    "SSR_ur = u.T @ u\n",
    "\n",
    "# Calculate the degrees of freedom\n",
    "\n",
    "df_ur = model.df_resid\n",
    "\n",
    "# Model without Bnox and Bproptax, restricted model:\n",
    "\n",
    "X_r = df[['crime', 'rooms']]\n",
    "y_r = df['lprice']+500*df['nox']+100*df['proptax']\n",
    "\n",
    "X_r = sm.add_constant(X_r)\n",
    "\n",
    "model = sm.OLS(y_r, X_r)\n",
    "results = model.fit()\n",
    "\n",
    "# Calculate SSR1 for the model whitout Bnox and Bproptax\n",
    "\n",
    "u = results.resid\n",
    "SSR_r = u.T @ u\n",
    "\n",
    "# Calculate the degrees of freedom\n",
    "\n",
    "df_r = model.df_resid\n",
    "\n",
    "#  Calculate the F-statistic\n",
    "q = df_r - df_ur\n",
    "F = ((SSR_r-SSR_ur)/q)/(SSR_ur/(df_ur))\n",
    "\n",
    "print(\"F-statistic: \", F)\n",
    "\n",
    "# Calculate the p-value\n",
    "\n",
    "p_value = 1 - stats.f.cdf(F, q, df_ur)\n",
    "\n",
    "print(\"p-value: \", p_value)\n",
    "\n",
    "if p_value < 0.1:\n",
    "    print(\"Reject the null hypothesis\")\n",
    "else:\n",
    "    print(\"Do not reject the null hypothesis\")\n",
    "\n",
    "\n",
    "\n"
   ]
  },
  {
   "cell_type": "markdown",
   "metadata": {},
   "source": []
  },
  {
   "cell_type": "markdown",
   "metadata": {},
   "source": [
    "#### 17. In the specification of question 10, test the hypothesis $H_0: \\beta_{nox} + \\beta_{proptax} = -1000$ at the 1% level using the p-value of the test"
   ]
  },
  {
   "cell_type": "markdown",
   "metadata": {},
   "source": []
  },
  {
   "cell_type": "markdown",
   "metadata": {},
   "source": [
    "#### 18. In the specification of question 10, test the hypothesis that all coefficients are the same for observations with low levels of nox vs. medium and high levels of nox."
   ]
  },
  {
   "cell_type": "markdown",
   "metadata": {},
   "source": []
  },
  {
   "cell_type": "markdown",
   "metadata": {},
   "source": [
    "#### 19. Repeat the test of question 18 but now assuming that only the coefficients of nox and proptax can change between the two groups of observations. State and test $H_0$."
   ]
  },
  {
   "cell_type": "markdown",
   "metadata": {},
   "source": []
  }
 ],
 "metadata": {
  "kernelspec": {
   "display_name": "Python 3 (ipykernel)",
   "language": "python",
   "name": "python3"
  },
  "language_info": {
   "codemirror_mode": {
    "name": "ipython",
    "version": 3
   },
   "file_extension": ".py",
   "mimetype": "text/x-python",
   "name": "python",
   "nbconvert_exporter": "python",
   "pygments_lexer": "ipython3",
   "version": "3.9.6"
  }
 },
 "nbformat": 4,
 "nbformat_minor": 2
}
